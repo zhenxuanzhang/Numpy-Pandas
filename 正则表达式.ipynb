{
 "cells": [
  {
   "cell_type": "markdown",
   "metadata": {},
   "source": [
    "# 正则表达式 "
   ]
  },
  {
   "cell_type": "markdown",
   "metadata": {},
   "source": [
    "## 1. 正则表达式中字符 "
   ]
  },
  {
   "cell_type": "markdown",
   "metadata": {},
   "source": [
    "- 正则表达式是一种字符串，正则表达式字符串是由普通字符和元字符（Metacharacters） 组成。\n",
    "    - 普通字符。是按照字符字面意义表示的字符。如图 1-1 所示是验证域名为 zhijieketang.com的邮箱的正则表达式，其中标号②的字符（@zhijieketang和com） 都属于普通字符，这里他们都表示字符本身的字面意义。\n",
    "    - 元字符。是预先定义好的一些特定字符，如图 1-1 所示其中标号①的字符（\\w+ 和\\.）都属于元字符."
   ]
  },
  {
   "cell_type": "markdown",
   "metadata": {},
   "source": [
    "### 1.1 元字符 "
   ]
  },
  {
   "cell_type": "markdown",
   "metadata": {},
   "source": [
    "元字符（Metacharacters）是用来描述其他字符的特殊字符，它是由基本元字符+普通 字符构成。 "
   ]
  },
  {
   "cell_type": "markdown",
   "metadata": {},
   "source": [
    "\n",
    "-  \\ 转义符，表示转义 \n",
    "- . 表示任意一个字符 \n",
    "- \\+ 表示重复一次或多次 \n",
    "- \\* 表示重复零次或多次 \n",
    "- ? 表示重复零次或一次 \n",
    "- | 选择符号，表示“或关系”，例如：A | B 表示匹配 A 或 B \n",
    "- { } 定义量词 \n",
    "- \\[ \\] 定义字符类 \n",
    "- ( ) 定义分组 \n",
    "- \\^ 可以表示取反，或匹配一行的开始 \n",
    "- \\$ 匹配一行的结束 "
   ]
  },
  {
   "cell_type": "markdown",
   "metadata": {},
   "source": [
    "### 1.2 字符转义 "
   ]
  },
  {
   "cell_type": "markdown",
   "metadata": {},
   "source": [
    "不仅可以对普通字符进行转义，还可以对基本元字符进行转义，  \n",
    "如图 1 所示其中点 （.）字符是希望按照点（.）字面意义使用，  \n",
    "作为.com 域名的一部分，而不是作为“.”基 本元字符使用，  \n",
    "所以需要加反斜杠（\\）进行转义，即“\\.”才是表示点（.）字面意义。 "
   ]
  },
  {
   "cell_type": "markdown",
   "metadata": {},
   "source": [
    "### 1.3 开始与结束字符 "
   ]
  },
  {
   "cell_type": "markdown",
   "metadata": {},
   "source": [
    "当以^开始时，要求一行字符串的开始位置匹配；  \n",
    "当以$结束时，要求一行字符串的 结束位置匹配。  \n",
    "\n",
    "所以正则表达式\\\\w+@zhijieketang\\.com 和^\\\\w+@zhijieketang\\.com$是不同的。 "
   ]
  },
  {
   "cell_type": "code",
   "execution_count": 1,
   "metadata": {},
   "outputs": [],
   "source": [
    "import re\n",
    "\n",
    "p1 = r'\\w+@zhijieketang\\.com'\n",
    "p2 = r'^\\w+@zhijieketang\\.com$'"
   ]
  },
  {
   "cell_type": "code",
   "execution_count": 8,
   "metadata": {},
   "outputs": [
    {
     "name": "stdout",
     "output_type": "stream",
     "text": [
      "<re.Match object; span=(16, 45), match='tony_guan588@zhijieketang.com'>\n",
      "None\n",
      "<re.Match object; span=(0, 29), match='tony_guan588@zhijieketang.com'>\n"
     ]
    }
   ],
   "source": [
    "text = \"Tony's email is tony_guan588@zhijieketang.com.\"\n",
    "m = re.search(p1, text)\n",
    "print(m)  # 匹配\n",
    "\n",
    "m = re.search(p2, text)\n",
    "print(m)  # 不匹配\n",
    "\n",
    "email = 'tony_guan588@zhijieketang.com'\n",
    "m = re.search(p2, email)\n",
    "print(m)  # 匹配"
   ]
  },
  {
   "cell_type": "markdown",
   "metadata": {},
   "source": [
    "## 2. 字符类"
   ]
  },
  {
   "cell_type": "markdown",
   "metadata": {},
   "source": [
    "### 2.1 定义字符类"
   ]
  },
  {
   "cell_type": "markdown",
   "metadata": {},
   "source": [
    "定义一个普通的字符类需要使用“[”和“]”元字符类"
   ]
  },
  {
   "cell_type": "code",
   "execution_count": 9,
   "metadata": {},
   "outputs": [
    {
     "name": "stdout",
     "output_type": "stream",
     "text": [
      "<re.Match object; span=(7, 11), match='Java'>\n",
      "None\n",
      "<re.Match object; span=(7, 11), match='java'>\n"
     ]
    }
   ],
   "source": [
    "import re\n",
    "\n",
    "p = r'[Jj]ava'\n",
    "# p = r'Java|java|JAVA' #或\n",
    "\n",
    "m = re.search(p, 'I like Java and Python.')\n",
    "print(m)  # 匹配\n",
    "\n",
    "m = re.search(p, 'I like JAVA and Python.')\n",
    "print(m)  # 不匹配\n",
    "\n",
    "m = re.search(p, 'I like java and Python.')\n",
    "print(m)  # 匹配"
   ]
  },
  {
   "cell_type": "markdown",
   "metadata": {},
   "source": [
    "### 2.2 字符类取反 "
   ]
  },
  {
   "cell_type": "markdown",
   "metadata": {},
   "source": [
    "有时需要在正则表达式中指定不想出现的字符，可以在字符类前加“^”符号"
   ]
  },
  {
   "cell_type": "code",
   "execution_count": 12,
   "metadata": {},
   "outputs": [
    {
     "name": "stdout",
     "output_type": "stream",
     "text": [
      "None\n",
      "<re.Match object; span=(4, 5), match='P'>\n"
     ]
    }
   ],
   "source": [
    "import re\n",
    "\n",
    "p = r'[^0123456789]'\n",
    "\n",
    "m = re.search(p, '1000')\n",
    "print(m)  # 不匹配\n",
    "\n",
    "m = re.search(p, '1000Python 3')\n",
    "print(m)  # 匹配P"
   ]
  },
  {
   "cell_type": "markdown",
   "metadata": {},
   "source": [
    "### 2.3 区间 "
   ]
  },
  {
   "cell_type": "markdown",
   "metadata": {},
   "source": [
    "区间是用连字符（-）表示的，[0123456789]采用区间表示为[0-9]，[^0123456789]采用区间表示为[^0-9]。  \n",
    "区间还可以表示连续的英文字母字符类，  \n",
    "例如[a-z]表示所有小写字母字符类，[A-Z]表示所有大写字母字符类。    \n",
    "[A-Za-z0-9]表示所有英文字母和数值字符类，[0-25-7]表示 0、1、2、5、6、7 几个字符组成的字符类。"
   ]
  },
  {
   "cell_type": "code",
   "execution_count": 14,
   "metadata": {},
   "outputs": [
    {
     "name": "stdout",
     "output_type": "stream",
     "text": [
      "<re.Match object; span=(0, 1), match='p'>\n",
      "None\n"
     ]
    }
   ],
   "source": [
    "import re\n",
    "\n",
    "m = re.search(r'[A-Za-z0-9]', 'python3.7')\n",
    "print(m)  # 匹配\n",
    "\n",
    "m = re.search(r'[0-25-7]', 'A3489C')\n",
    "print(m)  # 不匹配"
   ]
  },
  {
   "cell_type": "markdown",
   "metadata": {},
   "source": [
    "### 2.4 预定义字符类 "
   ]
  },
  {
   "cell_type": "markdown",
   "metadata": {},
   "source": [
    "有些字符类很常用，例如[0-9]等，为了书写方便正则表达式提供了预定义的字符类， 例如预定义字符类\\d 等价于[0-9]字符类"
   ]
  },
  {
   "cell_type": "markdown",
   "metadata": {},
   "source": [
    "- . 匹配任意一个字符   \n",
    "- \\\\ 匹配反斜杠\\字符 \n",
    "- \\n 匹配换行 \n",
    "- \\r 匹配回车 \n",
    "- \\f 匹配一个换页符 \n",
    "- \\t 匹配一个水平制表符 \n",
    "- \\v 匹配一个垂直制表符 \n",
    "- \\s 匹配一个空格符，等价于[\\t\\n\\r\\f\\v] \n",
    "- \\S 匹配一个非空格符，等价于[^\\s] \n",
    "- \\d 匹配一个数字字符，等价于[0-9] \n",
    "- \\D 匹配一个非数字字符，等价于[^0-9] \n",
    "- \\w 匹配任何语言的单词字符（如：英文字母、亚洲文字等）、数字和下划线(_)等字符，\n",
    "    如果正则表达式编译标志设置为 ASCII，则只匹配[a-zA-Z0-9_] \n",
    "- \\W 等价于[^\\w] \n",
    " \n",
    " "
   ]
  },
  {
   "cell_type": "code",
   "execution_count": 19,
   "metadata": {},
   "outputs": [
    {
     "name": "stdout",
     "output_type": "stream",
     "text": [
      "None\n",
      "<re.Match object; span=(0, 1), match='P'>\n",
      "<re.Match object; span=(0, 1), match='你'>\n",
      "<re.Match object; span=(3, 4), match='s'>\n",
      "<re.Match object; span=(3, 4), match='H'>\n"
     ]
    }
   ],
   "source": [
    "import re\n",
    "\n",
    "# p = r'[^0123456789]'\n",
    "p = r'\\D'\n",
    "\n",
    "m = re.search(p, '1000')\n",
    "print(m)  # 不匹配\n",
    "\n",
    "m = re.search(p, 'Python 3')\n",
    "print(m)  # 匹配\n",
    "\n",
    "text = '你们好Hello'\n",
    "m = re.search(r'\\w', text)\n",
    "print(m)  # 匹配\n",
    "\n",
    "text = '你们好sayHello'\n",
    "m = re.search(r'\\w', text,flags = re.A)\n",
    "print(m)  # 匹配\n",
    "\n",
    "text = '你们好Hello'\n",
    "m = re.search(r'\\w', text,flags = re.ASCII)\n",
    "print(m)  # 匹配"
   ]
  },
  {
   "cell_type": "markdown",
   "metadata": {},
   "source": [
    "## 3. 量词"
   ]
  },
  {
   "cell_type": "markdown",
   "metadata": {},
   "source": [
    "### 3.1 使用量词 "
   ]
  },
  {
   "cell_type": "markdown",
   "metadata": {},
   "source": [
    "量词是表示字符或字符串重复的次数。 \n",
    "\n",
    "- ? 出现零次或一次 0,1\n",
    "- \\* 出现零次或多次 >=0\n",
    "- \\+ 出现一次或多次 >=1\n",
    "- {n} 出现 n 次 n\n",
    "- {n,m} 至少出现 n 次但不超过 m 次   n=< <=m\n",
    "- {n,} 至少出现 n 次 >=n"
   ]
  },
  {
   "cell_type": "code",
   "execution_count": 20,
   "metadata": {},
   "outputs": [
    {
     "name": "stdout",
     "output_type": "stream",
     "text": [
      "<re.Match object; span=(0, 1), match='8'>\n"
     ]
    }
   ],
   "source": [
    "import re\n",
    "\n",
    "m = re.search(r'\\d?', '87654321')  # 出现数字一次\n",
    "print(m)  # 匹配字符'8'"
   ]
  },
  {
   "cell_type": "code",
   "execution_count": 21,
   "metadata": {},
   "outputs": [
    {
     "name": "stdout",
     "output_type": "stream",
     "text": [
      "<re.Match object; span=(0, 0), match=''>\n"
     ]
    }
   ],
   "source": [
    "m = re.search(r'\\d?', 'ABC')  # 出现数字零次\n",
    "print(m)  # 匹配字符''"
   ]
  },
  {
   "cell_type": "code",
   "execution_count": 22,
   "metadata": {},
   "outputs": [
    {
     "name": "stdout",
     "output_type": "stream",
     "text": [
      "<re.Match object; span=(0, 8), match='87654321'>\n"
     ]
    }
   ],
   "source": [
    "m = re.search(r'\\d*', '87654321')  # 出现数字多次\n",
    "print(m)  # 匹配字符'87654321'"
   ]
  },
  {
   "cell_type": "code",
   "execution_count": 23,
   "metadata": {},
   "outputs": [
    {
     "name": "stdout",
     "output_type": "stream",
     "text": [
      "<re.Match object; span=(0, 0), match=''>\n"
     ]
    }
   ],
   "source": [
    "m = re.search(r'\\d*', 'ABC')  # 出现数字零次\n",
    "print(m)  # 匹配字符''"
   ]
  },
  {
   "cell_type": "code",
   "execution_count": 24,
   "metadata": {},
   "outputs": [
    {
     "name": "stdout",
     "output_type": "stream",
     "text": [
      "<re.Match object; span=(0, 8), match='87654321'>\n"
     ]
    }
   ],
   "source": [
    "m = re.search(r'\\d+', '87654321')  # 出现数字多次\n",
    "print(m)  # 匹配字符'87654321'"
   ]
  },
  {
   "cell_type": "code",
   "execution_count": 30,
   "metadata": {},
   "outputs": [
    {
     "name": "stdout",
     "output_type": "stream",
     "text": [
      "<re.Match object; span=(3, 4), match='2'>\n"
     ]
    }
   ],
   "source": [
    "m = re.search(r'\\d+', 'ABC')\n",
    "print(m)  # 不匹配"
   ]
  },
  {
   "cell_type": "code",
   "execution_count": 26,
   "metadata": {},
   "outputs": [
    {
     "name": "stdout",
     "output_type": "stream",
     "text": [
      "8765432 <re.Match object; span=(0, 8), match='87654321'>\n"
     ]
    }
   ],
   "source": [
    "m = re.search(r'\\d{8}', '87654321')  # 出现数字8次\n",
    "print('8765432', m)  # 匹配字符'87654321'"
   ]
  },
  {
   "cell_type": "code",
   "execution_count": 27,
   "metadata": {},
   "outputs": [
    {
     "name": "stdout",
     "output_type": "stream",
     "text": [
      "None\n"
     ]
    }
   ],
   "source": [
    "m = re.search(r'\\d{8}', 'ABC')\n",
    "print(m)  # 不匹配"
   ]
  },
  {
   "cell_type": "code",
   "execution_count": 28,
   "metadata": {},
   "outputs": [
    {
     "name": "stdout",
     "output_type": "stream",
     "text": [
      "<re.Match object; span=(0, 8), match='87654321'>\n"
     ]
    }
   ],
   "source": [
    "m = re.search(r'\\d{7,8}', '87654321')  # 出现数字8次\n",
    "print(m)  # 匹配字符'87654321'"
   ]
  },
  {
   "cell_type": "code",
   "execution_count": 32,
   "metadata": {},
   "outputs": [
    {
     "name": "stdout",
     "output_type": "stream",
     "text": [
      "None\n"
     ]
    }
   ],
   "source": [
    "m = re.search(r'\\d{9,}', '87653321')\n",
    "print(m)  # 不匹配"
   ]
  },
  {
   "cell_type": "markdown",
   "metadata": {},
   "source": [
    "### 3.2 贪婪量词和懒惰量词 "
   ]
  },
  {
   "cell_type": "markdown",
   "metadata": {},
   "source": [
    "量词还可以细分为贪婪量词和懒惰量词，贪婪量词会尽可能多地匹配字符，懒惰量词会尽可能少地匹配字符。  \n",
    "大多数计算机语言的正则表达式量词默认是贪婪的，要想使用懒惰量词可以在量词后面加“?”即可 "
   ]
  },
  {
   "cell_type": "code",
   "execution_count": 35,
   "metadata": {},
   "outputs": [
    {
     "name": "stdout",
     "output_type": "stream",
     "text": [
      "<re.Match object; span=(0, 8), match='87654321'>\n"
     ]
    }
   ],
   "source": [
    "import re\n",
    "\n",
    "# 使用贪婪量词\n",
    "m = re.search(r'\\d{5,8}', '87654321')  # 出现数字8次\n",
    "print(m)  # 匹配字符'87654321'"
   ]
  },
  {
   "cell_type": "code",
   "execution_count": 34,
   "metadata": {},
   "outputs": [
    {
     "name": "stdout",
     "output_type": "stream",
     "text": [
      "<re.Match object; span=(0, 8), match='87654321'>\n",
      "<re.Match object; span=(0, 5), match='87654'>\n"
     ]
    }
   ],
   "source": [
    "# 使用惰性量词\n",
    "m = re.search(r'\\d{5,8}?', '87654321')  # 出现数字5次\n",
    "print(m)  # 匹配字符'87654'"
   ]
  },
  {
   "cell_type": "code",
   "execution_count": 36,
   "metadata": {},
   "outputs": [],
   "source": [
    "# Ctrl-Shift-Minus : split cell"
   ]
  },
  {
   "cell_type": "markdown",
   "metadata": {},
   "source": [
    "# 4. 分组 "
   ]
  },
  {
   "cell_type": "markdown",
   "metadata": {},
   "source": [
    "在此之前学习量词只能重复显示一个字符，如果想让一个字符串作为整体使用量词，  \n",
    "可将这个字符串放到一对小括号中，这就是分组（也称子表达式）。 "
   ]
  },
  {
   "cell_type": "markdown",
   "metadata": {},
   "source": [
    "## 4.1 使用分组 "
   ]
  },
  {
   "cell_type": "markdown",
   "metadata": {},
   "source": [
    "对正则表达式进行分组不仅可以对一个字符串整体使用量词，还可以在正则表达式 中引用已经存在的分组。 "
   ]
  },
  {
   "cell_type": "code",
   "execution_count": 38,
   "metadata": {},
   "outputs": [
    {
     "name": "stdout",
     "output_type": "stream",
     "text": [
      "<re.Match object; span=(0, 6), match='121121'>\n",
      "121121\n",
      "121\n"
     ]
    }
   ],
   "source": [
    "import re\n",
    "\n",
    "p = r'(121){2}'\n",
    "m = re.search(p, '121121abcabc')\n",
    "print(m)  # 匹配\n",
    "print(m.group())  # 返回匹配字符串\n",
    "print(m.group(1))  # 获得第一组内容"
   ]
  },
  {
   "cell_type": "code",
   "execution_count": 46,
   "metadata": {},
   "outputs": [
    {
     "name": "stdout",
     "output_type": "stream",
     "text": [
      "<re.Match object; span=(0, 12), match='010-32107777'>\n",
      "010-32107777\n",
      "('010', '32107777')\n"
     ]
    }
   ],
   "source": [
    "p = r'(\\d{3,4})-(\\d{7,8})'\n",
    "m = re.search(p, '010-321077777850-8889998')\n",
    "print(m)  # 匹配\n",
    "print(m.group())  # 返回匹配字符串\n",
    "print(m.groups())  # 获得所有组内容"
   ]
  },
  {
   "cell_type": "code",
   "execution_count": null,
   "metadata": {},
   "outputs": [],
   "source": []
  }
 ],
 "metadata": {
  "kernelspec": {
   "display_name": "Python 3",
   "language": "python",
   "name": "python3"
  },
  "language_info": {
   "codemirror_mode": {
    "name": "ipython",
    "version": 3
   },
   "file_extension": ".py",
   "mimetype": "text/x-python",
   "name": "python",
   "nbconvert_exporter": "python",
   "pygments_lexer": "ipython3",
   "version": "3.7.0"
  }
 },
 "nbformat": 4,
 "nbformat_minor": 2
}
