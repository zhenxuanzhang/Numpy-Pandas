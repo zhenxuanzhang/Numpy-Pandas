{
 "cells": [
  {
   "cell_type": "markdown",
   "metadata": {},
   "source": [
    "# 正则表达式 "
   ]
  },
  {
   "cell_type": "markdown",
   "metadata": {},
   "source": [
    "## 1. 正则表达式中字符 "
   ]
  },
  {
   "cell_type": "markdown",
   "metadata": {},
   "source": [
    "- 正则表达式是一种字符串，正则表达式字符串是由普通字符和元字符（Metacharacters） 组成。\n",
    "    - 普通字符。是按照字符字面意义表示的字符。如图 1-1 所示是验证域名为 zhijieketang.com的邮箱的正则表达式，其中标号②的字符（@zhijieketang和com） 都属于普通字符，这里他们都表示字符本身的字面意义。\n",
    "    - 元字符。是预先定义好的一些特定字符，如图 1-1 所示其中标号①的字符（\\w+ 和\\.）都属于元字符."
   ]
  },
  {
   "cell_type": "markdown",
   "metadata": {},
   "source": [
    "### 1.1 元字符 "
   ]
  },
  {
   "cell_type": "markdown",
   "metadata": {},
   "source": [
    "元字符（Metacharacters）是用来描述其他字符的特殊字符，它是由基本元字符+普通 字符构成。 "
   ]
  },
  {
   "cell_type": "markdown",
   "metadata": {},
   "source": [
    "\n",
    "-  \\ 转义符，表示转义 \n",
    "- . 表示任意一个字符 \n",
    "- \\+ 表示重复一次或多次 \n",
    "- \\* 表示重复零次或多次 \n",
    "- ? 表示重复零次或一次 \n",
    "- | 选择符号，表示“或关系”，例如：A | B 表示匹配 A 或 B \n",
    "- { } 定义量词 \n",
    "- [ \\] 定义字符类 \n",
    "- ( ) 定义分组 \n",
    "- \\^ 可以表示取反，或匹配一行的开始 \n",
    "- \\$ 匹配一行的结束 "
   ]
  },
  {
   "cell_type": "markdown",
   "metadata": {},
   "source": [
    "### 1.2 字符转义 "
   ]
  },
  {
   "cell_type": "markdown",
   "metadata": {},
   "source": [
    "不仅可以对普通字符进行转义，还可以对基本元字符进行转义，  \n",
    "如图 1 所示其中点 （.）字符是希望按照点（.）字面意义使用，  \n",
    "作为.com 域名的一部分，而不是作为“.”基 本元字符使用，  \n",
    "所以需要加反斜杠（\\）进行转义，即“\\.”才是表示点（.）字面意义。 "
   ]
  },
  {
   "cell_type": "markdown",
   "metadata": {},
   "source": [
    "### 1.3 开始与结束字符 "
   ]
  },
  {
   "cell_type": "markdown",
   "metadata": {},
   "source": [
    "当以^开始时，要求一行字符串的开始位置匹配；  \n",
    "当以$结束时，要求一行字符串的 结束位置匹配。  \n",
    "\n",
    "所以正则表达式\\\\w+@zhijieketang\\.com 和^\\\\w+@zhijieketang\\.com$是不同的。 "
   ]
  },
  {
   "cell_type": "code",
   "execution_count": 1,
   "metadata": {},
   "outputs": [],
   "source": [
    "import re\n",
    "\n",
    "p1 = r'\\w+@zhijieketang\\.com'\n",
    "p2 = r'^\\w+@zhijieketang\\.com$'"
   ]
  },
  {
   "cell_type": "code",
   "execution_count": 8,
   "metadata": {},
   "outputs": [
    {
     "name": "stdout",
     "output_type": "stream",
     "text": [
      "<re.Match object; span=(16, 45), match='tony_guan588@zhijieketang.com'>\n",
      "None\n",
      "<re.Match object; span=(0, 29), match='tony_guan588@zhijieketang.com'>\n"
     ]
    }
   ],
   "source": [
    "text = \"Tony's email is tony_guan588@zhijieketang.com.\"\n",
    "m = re.search(p1, text)\n",
    "print(m)  # 匹配\n",
    "\n",
    "m = re.search(p2, text)\n",
    "print(m)  # 不匹配\n",
    "\n",
    "email = 'tony_guan588@zhijieketang.com'\n",
    "m = re.search(p2, email)\n",
    "print(m)  # 匹配"
   ]
  },
  {
   "cell_type": "markdown",
   "metadata": {
    "heading_collapsed": true
   },
   "source": [
    "## 2. 字符类"
   ]
  },
  {
   "cell_type": "markdown",
   "metadata": {
    "hidden": true
   },
   "source": [
    "### 2.1 定义字符类"
   ]
  },
  {
   "cell_type": "markdown",
   "metadata": {
    "hidden": true
   },
   "source": [
    "定义一个普通的字符类需要使用“[”和“]”元字符类"
   ]
  },
  {
   "cell_type": "code",
   "execution_count": 9,
   "metadata": {
    "hidden": true
   },
   "outputs": [
    {
     "name": "stdout",
     "output_type": "stream",
     "text": [
      "<re.Match object; span=(7, 11), match='Java'>\n",
      "None\n",
      "<re.Match object; span=(7, 11), match='java'>\n"
     ]
    }
   ],
   "source": [
    "import re\n",
    "\n",
    "p = r'[Jj]ava'\n",
    "# p = r'Java|java|JAVA' #或\n",
    "\n",
    "m = re.search(p, 'I like Java and Python.')\n",
    "print(m)  # 匹配\n",
    "\n",
    "m = re.search(p, 'I like JAVA and Python.')\n",
    "print(m)  # 不匹配\n",
    "\n",
    "m = re.search(p, 'I like java and Python.')\n",
    "print(m)  # 匹配"
   ]
  },
  {
   "cell_type": "markdown",
   "metadata": {
    "hidden": true
   },
   "source": [
    "### 2.2 字符类取反 "
   ]
  },
  {
   "cell_type": "markdown",
   "metadata": {
    "hidden": true
   },
   "source": [
    "有时需要在正则表达式中指定不想出现的字符，可以在字符类前加“^”符号"
   ]
  },
  {
   "cell_type": "code",
   "execution_count": 12,
   "metadata": {
    "hidden": true
   },
   "outputs": [
    {
     "name": "stdout",
     "output_type": "stream",
     "text": [
      "None\n",
      "<re.Match object; span=(4, 5), match='P'>\n"
     ]
    }
   ],
   "source": [
    "import re\n",
    "\n",
    "p = r'[^0123456789]'\n",
    "\n",
    "m = re.search(p, '1000')\n",
    "print(m)  # 不匹配\n",
    "\n",
    "m = re.search(p, '1000Python 3')\n",
    "print(m)  # 匹配P"
   ]
  },
  {
   "cell_type": "markdown",
   "metadata": {
    "hidden": true
   },
   "source": [
    "### 2.3 区间 "
   ]
  },
  {
   "cell_type": "markdown",
   "metadata": {
    "hidden": true
   },
   "source": [
    "区间是用连字符（-）表示的，[0123456789]采用区间表示为[0-9]，[^0123456789]采用区间表示为[^0-9]。  \n",
    "区间还可以表示连续的英文字母字符类，  \n",
    "例如[a-z]表示所有小写字母字符类，[A-Z]表示所有大写字母字符类。    \n",
    "[A-Za-z0-9]表示所有英文字母和数值字符类，[0-25-7]表示 0、1、2、5、6、7 几个字符组成的字符类。"
   ]
  },
  {
   "cell_type": "code",
   "execution_count": 14,
   "metadata": {
    "hidden": true
   },
   "outputs": [
    {
     "name": "stdout",
     "output_type": "stream",
     "text": [
      "<re.Match object; span=(0, 1), match='p'>\n",
      "None\n"
     ]
    }
   ],
   "source": [
    "import re\n",
    "\n",
    "m = re.search(r'[A-Za-z0-9]', 'python3.7')\n",
    "print(m)  # 匹配\n",
    "\n",
    "m = re.search(r'[0-25-7]', 'A3489C')\n",
    "print(m)  # 不匹配"
   ]
  },
  {
   "cell_type": "markdown",
   "metadata": {
    "hidden": true
   },
   "source": [
    "### 2.4 预定义字符类 "
   ]
  },
  {
   "cell_type": "markdown",
   "metadata": {
    "hidden": true
   },
   "source": [
    "有些字符类很常用，例如[0-9]等，为了书写方便正则表达式提供了预定义的字符类， 例如预定义字符类\\d 等价于[0-9]字符类"
   ]
  },
  {
   "cell_type": "markdown",
   "metadata": {
    "hidden": true
   },
   "source": [
    "- . 匹配任意一个字符   \n",
    "- \\\\ 匹配反斜杠\\字符 \n",
    "- \\n 匹配换行 \n",
    "- \\r 匹配回车 \n",
    "- \\f 匹配一个换页符 \n",
    "- \\t 匹配一个水平制表符 \n",
    "- \\v 匹配一个垂直制表符 \n",
    "- \\s 匹配一个空格符，等价于[\\t\\n\\r\\f\\v] \n",
    "- \\S 匹配一个非空格符，等价于[^\\s] \n",
    "- \\d 匹配一个数字字符，等价于[0-9] \n",
    "- \\D 匹配一个非数字字符，等价于[^0-9] \n",
    "- \\w 匹配任何语言的单词字符（如：英文字母、亚洲文字等）、数字和下划线(_)等字符，\n",
    "    如果正则表达式编译标志设置为 ASCII，则只匹配[a-zA-Z0-9_] \n",
    "- \\W 等价于[^\\w] \n",
    " \n",
    " "
   ]
  },
  {
   "cell_type": "code",
   "execution_count": 1,
   "metadata": {
    "hidden": true
   },
   "outputs": [
    {
     "name": "stdout",
     "output_type": "stream",
     "text": [
      "None\n",
      "<re.Match object; span=(0, 1), match='P'>\n",
      "<re.Match object; span=(0, 1), match='你'>\n",
      "<re.Match object; span=(3, 4), match='s'>\n",
      "<re.Match object; span=(3, 4), match='H'>\n"
     ]
    }
   ],
   "source": [
    "import re\n",
    "\n",
    "# p = r'[^0123456789]'\n",
    "p = r'\\D'\n",
    "\n",
    "m = re.search(p, '1000')\n",
    "print(m)  # 不匹配\n",
    "\n",
    "m = re.search(p, 'Python 3')\n",
    "print(m)  # 匹配\n",
    "\n",
    "text = '你们好Hello'\n",
    "m = re.search(r'\\w', text)\n",
    "print(m)  # 匹配\n",
    "\n",
    "text = '你们好sayHello'\n",
    "m = re.search(r'\\w', text,flags = re.A)\n",
    "print(m)  # 匹配\n",
    "\n",
    "text = '你们好Hello'\n",
    "m = re.search(r'\\w', text,flags = re.ASCII)\n",
    "print(m)  # 匹配"
   ]
  },
  {
   "cell_type": "markdown",
   "metadata": {},
   "source": [
    "## 3. 量词"
   ]
  },
  {
   "cell_type": "markdown",
   "metadata": {},
   "source": [
    "### 3.1 使用量词 "
   ]
  },
  {
   "cell_type": "markdown",
   "metadata": {},
   "source": [
    "量词是表示字符或字符串重复的次数。 \n",
    "\n",
    "- ? 出现零次或一次 0,1\n",
    "- \\* 出现零次或多次 >=0\n",
    "- \\+ 出现一次或多次 >=1\n",
    "- {n} 出现 n 次 n\n",
    "- {n,m} 至少出现 n 次但不超过 m 次   n=< <=m\n",
    "- {n,} 至少出现 n 次 >=n"
   ]
  },
  {
   "cell_type": "code",
   "execution_count": 20,
   "metadata": {},
   "outputs": [
    {
     "name": "stdout",
     "output_type": "stream",
     "text": [
      "<re.Match object; span=(0, 1), match='8'>\n"
     ]
    }
   ],
   "source": [
    "import re\n",
    "\n",
    "m = re.search(r'\\d?', '87654321')  # 出现数字一次\n",
    "print(m)  # 匹配字符'8'"
   ]
  },
  {
   "cell_type": "code",
   "execution_count": 21,
   "metadata": {},
   "outputs": [
    {
     "name": "stdout",
     "output_type": "stream",
     "text": [
      "<re.Match object; span=(0, 0), match=''>\n"
     ]
    }
   ],
   "source": [
    "m = re.search(r'\\d?', 'ABC')  # 出现数字零次\n",
    "print(m)  # 匹配字符''"
   ]
  },
  {
   "cell_type": "code",
   "execution_count": 22,
   "metadata": {},
   "outputs": [
    {
     "name": "stdout",
     "output_type": "stream",
     "text": [
      "<re.Match object; span=(0, 8), match='87654321'>\n"
     ]
    }
   ],
   "source": [
    "m = re.search(r'\\d*', '87654321')  # 出现数字多次\n",
    "print(m)  # 匹配字符'87654321'"
   ]
  },
  {
   "cell_type": "code",
   "execution_count": 23,
   "metadata": {},
   "outputs": [
    {
     "name": "stdout",
     "output_type": "stream",
     "text": [
      "<re.Match object; span=(0, 0), match=''>\n"
     ]
    }
   ],
   "source": [
    "m = re.search(r'\\d*', 'ABC')  # 出现数字零次\n",
    "print(m)  # 匹配字符''"
   ]
  },
  {
   "cell_type": "code",
   "execution_count": 24,
   "metadata": {},
   "outputs": [
    {
     "name": "stdout",
     "output_type": "stream",
     "text": [
      "<re.Match object; span=(0, 8), match='87654321'>\n"
     ]
    }
   ],
   "source": [
    "m = re.search(r'\\d+', '87654321')  # 出现数字多次\n",
    "print(m)  # 匹配字符'87654321'"
   ]
  },
  {
   "cell_type": "code",
   "execution_count": 30,
   "metadata": {},
   "outputs": [
    {
     "name": "stdout",
     "output_type": "stream",
     "text": [
      "<re.Match object; span=(3, 4), match='2'>\n"
     ]
    }
   ],
   "source": [
    "m = re.search(r'\\d+', 'ABC')\n",
    "print(m)  # 不匹配"
   ]
  },
  {
   "cell_type": "code",
   "execution_count": 26,
   "metadata": {},
   "outputs": [
    {
     "name": "stdout",
     "output_type": "stream",
     "text": [
      "8765432 <re.Match object; span=(0, 8), match='87654321'>\n"
     ]
    }
   ],
   "source": [
    "m = re.search(r'\\d{8}', '87654321')  # 出现数字8次\n",
    "print('8765432', m)  # 匹配字符'87654321'"
   ]
  },
  {
   "cell_type": "code",
   "execution_count": 27,
   "metadata": {},
   "outputs": [
    {
     "name": "stdout",
     "output_type": "stream",
     "text": [
      "None\n"
     ]
    }
   ],
   "source": [
    "m = re.search(r'\\d{8}', 'ABC')\n",
    "print(m)  # 不匹配"
   ]
  },
  {
   "cell_type": "code",
   "execution_count": 28,
   "metadata": {},
   "outputs": [
    {
     "name": "stdout",
     "output_type": "stream",
     "text": [
      "<re.Match object; span=(0, 8), match='87654321'>\n"
     ]
    }
   ],
   "source": [
    "m = re.search(r'\\d{7,8}', '87654321')  # 出现数字8次\n",
    "print(m)  # 匹配字符'87654321'"
   ]
  },
  {
   "cell_type": "code",
   "execution_count": 32,
   "metadata": {},
   "outputs": [
    {
     "name": "stdout",
     "output_type": "stream",
     "text": [
      "None\n"
     ]
    }
   ],
   "source": [
    "m = re.search(r'\\d{9,}', '87653321')\n",
    "print(m)  # 不匹配"
   ]
  },
  {
   "cell_type": "markdown",
   "metadata": {},
   "source": [
    "### 3.2 贪婪量词和懒惰量词 "
   ]
  },
  {
   "cell_type": "markdown",
   "metadata": {},
   "source": [
    "量词还可以细分为贪婪量词和懒惰量词，贪婪量词会尽可能多地匹配字符，懒惰量词会尽可能少地匹配字符。  \n",
    "大多数计算机语言的正则表达式量词默认是贪婪的，要想使用懒惰量词可以在量词后面加“?”即可 "
   ]
  },
  {
   "cell_type": "code",
   "execution_count": 35,
   "metadata": {},
   "outputs": [
    {
     "name": "stdout",
     "output_type": "stream",
     "text": [
      "<re.Match object; span=(0, 8), match='87654321'>\n"
     ]
    }
   ],
   "source": [
    "import re\n",
    "\n",
    "# 使用贪婪量词\n",
    "m = re.search(r'\\d{5,8}', '87654321')  # 出现数字8次\n",
    "print(m)  # 匹配字符'87654321'"
   ]
  },
  {
   "cell_type": "code",
   "execution_count": 34,
   "metadata": {},
   "outputs": [
    {
     "name": "stdout",
     "output_type": "stream",
     "text": [
      "<re.Match object; span=(0, 8), match='87654321'>\n",
      "<re.Match object; span=(0, 5), match='87654'>\n"
     ]
    }
   ],
   "source": [
    "# 使用惰性量词\n",
    "m = re.search(r'\\d{5,8}?', '87654321')  # 出现数字5次\n",
    "print(m)  # 匹配字符'87654'"
   ]
  },
  {
   "cell_type": "code",
   "execution_count": 36,
   "metadata": {},
   "outputs": [],
   "source": [
    "# Ctrl-Shift-Minus : split cell"
   ]
  },
  {
   "cell_type": "markdown",
   "metadata": {},
   "source": [
    "## 4. 分组 "
   ]
  },
  {
   "cell_type": "markdown",
   "metadata": {},
   "source": [
    "在此之前学习量词只能重复显示一个字符，如果想让一个字符串作为整体使用量词，  \n",
    "可将这个字符串放到一对小括号中，这就是分组（也称子表达式）。 "
   ]
  },
  {
   "cell_type": "markdown",
   "metadata": {},
   "source": [
    "### 4.1 使用分组 "
   ]
  },
  {
   "cell_type": "markdown",
   "metadata": {},
   "source": [
    "对正则表达式进行分组不仅可以对一个字符串整体使用量词，还可以在正则表达式 中引用已经存在的分组。 "
   ]
  },
  {
   "cell_type": "code",
   "execution_count": 38,
   "metadata": {},
   "outputs": [
    {
     "name": "stdout",
     "output_type": "stream",
     "text": [
      "<re.Match object; span=(0, 6), match='121121'>\n",
      "121121\n",
      "121\n"
     ]
    }
   ],
   "source": [
    "import re\n",
    "\n",
    "p = r'(121){2}'\n",
    "m = re.search(p, '121121abcabc')\n",
    "print(m)  # 匹配\n",
    "print(m.group())  # 返回匹配字符串\n",
    "print(m.group(1))  # 获得第一组内容"
   ]
  },
  {
   "cell_type": "code",
   "execution_count": 46,
   "metadata": {},
   "outputs": [
    {
     "name": "stdout",
     "output_type": "stream",
     "text": [
      "<re.Match object; span=(0, 12), match='010-32107777'>\n",
      "010-32107777\n",
      "('010', '32107777')\n"
     ]
    }
   ],
   "source": [
    "p = r'(\\d{3,4})-(\\d{7,8})'\n",
    "m = re.search(p, '010-321077777850-8889998')\n",
    "print(m)  # 匹配\n",
    "print(m.group())  # 返回匹配字符串\n",
    "print(m.groups())  # 获得所有组内容"
   ]
  },
  {
   "cell_type": "markdown",
   "metadata": {},
   "source": [
    "### 4.2 命名分组 "
   ]
  },
  {
   "cell_type": "markdown",
   "metadata": {},
   "source": [
    "在 Python 程序中访问分组时，除了可以通过组编号进行访问，还可以通过组名进行访问，  \n",
    "前提是要在正则表达式中为组命名。  \n",
    "组命名语法是在分组的左小括号后添加?P<分 组名>实现。 "
   ]
  },
  {
   "cell_type": "code",
   "execution_count": 47,
   "metadata": {},
   "outputs": [
    {
     "name": "stdout",
     "output_type": "stream",
     "text": [
      "<re.Match object; span=(0, 12), match='010-87654321'>\n",
      "010-87654321\n",
      "('010', '87654321')\n"
     ]
    }
   ],
   "source": [
    "import re\n",
    "\n",
    "p = r'(?P<area_code>\\d{3,4})-(?P<phone_code>\\d{7,8})'\n",
    "m = re.search(p, '010-87654321')\n",
    "print(m)  # 匹配\n",
    "print(m.group())  # 返回匹配字符串\n",
    "print(m.groups())  # 获得所有组内容"
   ]
  },
  {
   "cell_type": "code",
   "execution_count": 49,
   "metadata": {},
   "outputs": [
    {
     "name": "stdout",
     "output_type": "stream",
     "text": [
      "010\n",
      "87654321\n"
     ]
    }
   ],
   "source": [
    "# 通过组编号返回组内容\n",
    "print(m.group(1))\n",
    "print(m.group(2))"
   ]
  },
  {
   "cell_type": "code",
   "execution_count": 50,
   "metadata": {},
   "outputs": [
    {
     "name": "stdout",
     "output_type": "stream",
     "text": [
      "010\n",
      "87654321\n"
     ]
    }
   ],
   "source": [
    "# 通过组名返回组内容\n",
    "print(m.group('area_code'))\n",
    "print(m.group('phone_code'))"
   ]
  },
  {
   "cell_type": "markdown",
   "metadata": {},
   "source": [
    "### 4.3 反向引用分组 "
   ]
  },
  {
   "cell_type": "markdown",
   "metadata": {},
   "source": [
    "除了可以在程序代码中访问正则表达式匹配之后的分组内容，还可以在正则表达式 内部引用之前的分组。 "
   ]
  },
  {
   "cell_type": "code",
   "execution_count": 51,
   "metadata": {},
   "outputs": [
    {
     "name": "stdout",
     "output_type": "stream",
     "text": [
      "<re.Match object; span=(0, 10), match='<a>abc</a>'>\n",
      "None\n"
     ]
    }
   ],
   "source": [
    "import re\n",
    "\n",
    "# p = r'<([\\w]+)>.*</([\\w]+)>' #不能保证前后两个标签是一致的 比如<a>mdzz</a>和a>mdzz</b>都被匹配到\n",
    "\n",
    "p = r'<([\\w]+)>.*</\\1>'  # 使用反向引用\n",
    "\n",
    "m = re.search(p, '<a>abc</a>')\n",
    "print(m)  # 匹配\n",
    "\n",
    "m = re.search(p, '<a>abc</b>')\n",
    "print(m)  # 不匹配\n"
   ]
  },
  {
   "cell_type": "markdown",
   "metadata": {},
   "source": [
    "### 4.4 非捕获分组"
   ]
  },
  {
   "cell_type": "markdown",
   "metadata": {},
   "source": [
    "前面介绍的分组称为捕获分组，就是匹配子表达式结果被暂时保存到内存中，  \n",
    "以备表达式或其他程序引用，这称之为“捕获”，  \n",
    "捕获结果可以通过组编号或组名进行引用。   \n",
    "但是有时并不想引用子表达式的匹配结果，不想捕获匹配结果，  \n",
    "只是将小括号作为一个整体进行匹配，此时可以使用非捕获分组，非捕获分组在组开头使用“?:”实现。 "
   ]
  },
  {
   "cell_type": "code",
   "execution_count": 52,
   "metadata": {},
   "outputs": [
    {
     "name": "stdout",
     "output_type": "stream",
     "text": [
      "['.jpg', '.jpg']\n"
     ]
    }
   ],
   "source": [
    "import re\n",
    "\n",
    "s = 'img1.jpg,img2.jpg,img3.bmp'\n",
    "\n",
    "#捕获分组\n",
    "p = r'\\w+(\\.jpg)'\n",
    "mlist = re.findall(p, s)\n",
    "print(mlist)\n",
    "\n",
    "# 只返回匹配字符串，但我们真正需要的是含有匹配字符串的整个文件名"
   ]
  },
  {
   "cell_type": "code",
   "execution_count": 53,
   "metadata": {},
   "outputs": [
    {
     "name": "stdout",
     "output_type": "stream",
     "text": [
      "['img1.jpg', 'img2.jpg']\n"
     ]
    }
   ],
   "source": [
    "#非捕获分组\n",
    "p = r'\\w+(?:\\.jpg)'\n",
    "mlist = re.findall(p, s)\n",
    "print(mlist)"
   ]
  },
  {
   "cell_type": "markdown",
   "metadata": {},
   "source": [
    "## 5. re 模块 "
   ]
  },
  {
   "cell_type": "markdown",
   "metadata": {},
   "source": [
    "### 5.1 search()和 match()函数 "
   ]
  },
  {
   "cell_type": "markdown",
   "metadata": {},
   "source": [
    "- search()和 match()函数非常相似，他们的区别如下：\n",
    "    - search()。在输入字符串中查找，返回第一个匹配内容。如果找到一个 match 对象，如果没有找到返回 None。\n",
    "    - match()。在输入字符串开始处查找匹配内容，如果找到一个 match 对象，如果没有找到返回 None。 \n",
    " \n",
    " "
   ]
  },
  {
   "cell_type": "code",
   "execution_count": 54,
   "metadata": {},
   "outputs": [
    {
     "name": "stdout",
     "output_type": "stream",
     "text": [
      "<re.Match object; span=(16, 45), match='tony_guan588@zhijieketang.com'>\n",
      "None\n"
     ]
    }
   ],
   "source": [
    "import re\n",
    "\n",
    "p = r'\\w+@zhijieketang\\.com'\n",
    "\n",
    "text = \"Tony's email is tony_guan588@zhijieketang.com.\"\n",
    "m = re.search(p, text)\n",
    "print(m)  # 匹配\n",
    "\n",
    "m = re.match(p, text)\n",
    "print(m)  # 不匹配"
   ]
  },
  {
   "cell_type": "code",
   "execution_count": 55,
   "metadata": {},
   "outputs": [
    {
     "name": "stdout",
     "output_type": "stream",
     "text": [
      "<re.Match object; span=(0, 29), match='tony_guan588@zhijieketang.com'>\n",
      "<re.Match object; span=(0, 29), match='tony_guan588@zhijieketang.com'>\n"
     ]
    }
   ],
   "source": [
    "email = 'tony_guan588@zhijieketang.com'\n",
    "m = re.search(p, email)\n",
    "print(m)  # 匹配\n",
    "\n",
    "m = re.match(p, email)\n",
    "print(m)  # 匹配"
   ]
  },
  {
   "cell_type": "code",
   "execution_count": 56,
   "metadata": {},
   "outputs": [
    {
     "name": "stdout",
     "output_type": "stream",
     "text": [
      "match对象几个方法:\n",
      "tony_guan588@zhijieketang.com\n",
      "0\n",
      "29\n",
      "(0, 29)\n"
     ]
    }
   ],
   "source": [
    "# match对象几个方法\n",
    "print('match对象几个方法:')\n",
    "print(m.group())\n",
    "print(m.start())\n",
    "print(m.end())\n",
    "print(m.span())"
   ]
  },
  {
   "cell_type": "markdown",
   "metadata": {},
   "source": [
    "### 5.2 findall()和 finditer()函数 "
   ]
  },
  {
   "cell_type": "markdown",
   "metadata": {},
   "source": [
    "- findall()和 finditer()函数非常相似，他们的区别如下：\n",
    "    - findall()。在输入字符串中查找所有匹配内容。如果匹配成功，则返回 match 列表对象；如果匹配失败则返回 None。\n",
    "    - finditer()。在输入字符串中查找所有匹配内容，如果匹配成功，则返回容纳 match 的可迭代对象，通过迭代对象每次可以返回一个 match 对象。如果匹配失败则返回 None。 \n",
    " \n",
    " "
   ]
  },
  {
   "cell_type": "code",
   "execution_count": 58,
   "metadata": {},
   "outputs": [
    {
     "name": "stdout",
     "output_type": "stream",
     "text": [
      "['Java', 'java']\n"
     ]
    }
   ],
   "source": [
    "import re\n",
    "\n",
    "p = r'[Jj]ava'\n",
    "text = 'I like Java and java.'\n",
    "\n",
    "match_list = re.findall(p, text)\n",
    "print(match_list)  # 匹配"
   ]
  },
  {
   "cell_type": "code",
   "execution_count": 64,
   "metadata": {},
   "outputs": [
    {
     "name": "stdout",
     "output_type": "stream",
     "text": [
      "<class 'callable_iterator'>\n",
      "<callable_iterator object at 0x0000022EB0087588>\n",
      "Java\n",
      "java\n"
     ]
    }
   ],
   "source": [
    "match_iter = re.finditer(p, text)\n",
    "print(type(match_iter))\n",
    "print(match_iter)\n",
    "for m in match_iter:\n",
    "    print(m.group())"
   ]
  },
  {
   "cell_type": "markdown",
   "metadata": {},
   "source": [
    "### 5.3 字符串分割"
   ]
  },
  {
   "cell_type": "markdown",
   "metadata": {},
   "source": [
    "字符串分割使用 split()函数，该函数按照匹配的子字符串进行分割字符串，返回字符串列表对象。 \n",
    "\n",
    ">re.split(pattern, string, maxsplit=0, flags=0) "
   ]
  },
  {
   "cell_type": "code",
   "execution_count": 66,
   "metadata": {},
   "outputs": [
    {
     "name": "stdout",
     "output_type": "stream",
     "text": [
      "['AB', 'CD', 'EF']\n"
     ]
    }
   ],
   "source": [
    "import re\n",
    "\n",
    "p = r'\\d+'\n",
    "text = 'AB12CD34EF'\n",
    "\n",
    "clist = re.split(p, text)\n",
    "print(clist)"
   ]
  },
  {
   "cell_type": "code",
   "execution_count": 67,
   "metadata": {},
   "outputs": [
    {
     "name": "stdout",
     "output_type": "stream",
     "text": [
      "['AB', 'CD34EF']\n",
      "['AB', 'CD', 'EF']\n"
     ]
    }
   ],
   "source": [
    "clist = re.split(p, text, maxsplit=1)\n",
    "print(clist)\n",
    "\n",
    "clist = re.split(p, text, maxsplit=2)\n",
    "print(clist)"
   ]
  },
  {
   "cell_type": "markdown",
   "metadata": {},
   "source": [
    "### 5.4 字符串替换 "
   ]
  },
  {
   "cell_type": "markdown",
   "metadata": {},
   "source": [
    "字符串替换使用 sub()函数，该函数替换匹配的子字符串，返回值是替换之后的字符 串。 \n",
    "\n",
    ">re.sub(pattern, repl, string, count=0, flags=0) \n",
    " "
   ]
  },
  {
   "cell_type": "code",
   "execution_count": 68,
   "metadata": {},
   "outputs": [
    {
     "name": "stdout",
     "output_type": "stream",
     "text": [
      "AB CD EF\n",
      "AB CD34EF\n",
      "AB CD EF\n"
     ]
    }
   ],
   "source": [
    "\n",
    "import re\n",
    "\n",
    "p = r'\\d+'\n",
    "text = 'AB12CD34EF'\n",
    "\n",
    "repace_text = re.sub(p, ' ', text)\n",
    "print(repace_text)\n",
    "\n",
    "repace_text = re.sub(p, ' ', text, count=1)\n",
    "print(repace_text)\n",
    "\n",
    "repace_text = re.sub(p, ' ', text, count=2)\n",
    "print(repace_text)"
   ]
  },
  {
   "cell_type": "markdown",
   "metadata": {},
   "source": [
    "## 6. 编译正则表达式 "
   ]
  },
  {
   "cell_type": "markdown",
   "metadata": {},
   "source": [
    "但是为了提高效率，还可以对 Python 正则表达式进行编译。  \n",
    "编译的正则表达式可以重复使用，减少正则表达式解析和验证，提高效率。  \n",
    "在 re 模块中的 compile()函数可以编译正则表达式，compile()函数语法如下： \n",
    "\n",
    "    re.compile(pattern[, flags=0])  \n",
    " "
   ]
  },
  {
   "cell_type": "markdown",
   "metadata": {},
   "source": [
    "### 6.1 已编译正则表达式对象 "
   ]
  },
  {
   "cell_type": "markdown",
   "metadata": {},
   "source": [
    "<center>已编译正则表达式对象方法与 re 模块函数对照 </center>   \n",
    "\n",
    "常用函数|已编译正则表达式对象方法 |re 模块函数\n",
    " :-----: | :--------------------: | :-------:   \n",
    "search()| regex.search(string[, pos[, endpos]])|re.search(pattern, string, flags=0) \n",
    "match()| regex.match(string[, pos[, endpos]])| re.match(pattern, string, flags=0) \n",
    "findall()| regex.findall(string[, pos[, endpos]]) |re.findall(pattern, string, flags=0) \n",
    "finditer() |regex.finditer(string[, pos[, endpos]]) |re.finditer(pattern, string, flags=0) \n",
    "sub()| regex.sub(repl, string, count=0) |re.sub(pattern, repl, string, count=0, flags=0) \n",
    "split()| regex.split(string, maxsplit=0) |re.split(pattern, string, maxsplit=0, flags=0) "
   ]
  },
  {
   "cell_type": "code",
   "execution_count": 1,
   "metadata": {},
   "outputs": [],
   "source": [
    "import re\n",
    "\n",
    "p = r'\\w+@zhijieketang\\.com'\n",
    "regex = re.compile(p)"
   ]
  },
  {
   "cell_type": "code",
   "execution_count": 2,
   "metadata": {},
   "outputs": [
    {
     "name": "stdout",
     "output_type": "stream",
     "text": [
      "<re.Match object; span=(16, 45), match='tony_guan588@zhijieketang.com'>\n",
      "None\n"
     ]
    }
   ],
   "source": [
    "text = \"Tony's email is tony_guan588@zhijieketang.com.\"\n",
    "m = regex.search(text)\n",
    "print(m)  # 匹配\n",
    "\n",
    "m = regex.match(text)\n",
    "print(m)  # 不匹配"
   ]
  },
  {
   "cell_type": "code",
   "execution_count": 5,
   "metadata": {},
   "outputs": [
    {
     "name": "stdout",
     "output_type": "stream",
     "text": [
      "['Java', 'java']\n",
      "Java\n",
      "java\n"
     ]
    }
   ],
   "source": [
    "p = r'[Jj]ava'\n",
    "regex = re.compile(p)\n",
    "text = 'I like Java and java.'\n",
    "\n",
    "match_list = regex.findall(text)\n",
    "print(match_list)  # 匹配\n",
    "\n",
    "match_iter = regex.finditer(text)\n",
    "for m in match_iter:\n",
    "    print(m.group())"
   ]
  },
  {
   "cell_type": "code",
   "execution_count": 6,
   "metadata": {},
   "outputs": [
    {
     "name": "stdout",
     "output_type": "stream",
     "text": [
      "['AB', 'CD', 'EF']\n",
      "AB CD EF\n"
     ]
    }
   ],
   "source": [
    "p = r'\\d+'\n",
    "regex = re.compile(p)\n",
    "text = 'AB12CD34EF'\n",
    "\n",
    "clist = regex.split(text)\n",
    "print(clist)\n",
    "\n",
    "repace_text = regex.sub(' ', text)\n",
    "print(repace_text)"
   ]
  },
  {
   "cell_type": "markdown",
   "metadata": {},
   "source": [
    "### 6.2 编译标志 "
   ]
  },
  {
   "cell_type": "markdown",
   "metadata": {},
   "source": [
    "compile()函数编译正则表达式对象时，还可以设置编译标志。编译标志可以改变正则表达式引擎行为。"
   ]
  },
  {
   "cell_type": "markdown",
   "metadata": {},
   "source": [
    "<center>几个常用的编译标志</center>\n",
    "\n",
    "                                                            1. ASCII 和 Unicode \n",
    "                                                            2. 忽略大小写 \n",
    "                                                            3. 点（.）元字符匹配换行符 \n",
    "                                                            4. 多行模式 \n",
    "                                                            5. 详细模式 \n",
    " "
   ]
  },
  {
   "cell_type": "markdown",
   "metadata": {},
   "source": [
    "### 6.1 ASCII 和 Unicode "
   ]
  },
  {
   "cell_type": "markdown",
   "metadata": {},
   "source": [
    "可以通过编译标志re.ASCII（或re.A）设置ASCII编码；  \n",
    "编译标志re.UNICODE（或re.U）设置Unicode编码。"
   ]
  },
  {
   "cell_type": "code",
   "execution_count": 7,
   "metadata": {},
   "outputs": [
    {
     "name": "stdout",
     "output_type": "stream",
     "text": [
      "<re.Match object; span=(0, 8), match='你们好Hello'>\n",
      "<re.Match object; span=(0, 8), match='你们好Hello'>\n"
     ]
    }
   ],
   "source": [
    "import re\n",
    "\n",
    "text = '你们好Hello'\n",
    "\n",
    "p = r'\\w+'\n",
    "regex = re.compile(p, re.U)\n",
    "\n",
    "m = regex.search(text)\n",
    "print(m)  # 匹配\n",
    "\n",
    "m = regex.match(text)\n",
    "print(m)  # 匹配"
   ]
  },
  {
   "cell_type": "code",
   "execution_count": 8,
   "metadata": {},
   "outputs": [
    {
     "name": "stdout",
     "output_type": "stream",
     "text": [
      "<re.Match object; span=(3, 8), match='Hello'>\n",
      "None\n"
     ]
    }
   ],
   "source": [
    "regex = re.compile(p, re.A)\n",
    "\n",
    "m = regex.search(text)\n",
    "print(m)  # 匹配\n",
    "\n",
    "m = regex.match(text)\n",
    "print(m)  # 不匹配"
   ]
  },
  {
   "cell_type": "markdown",
   "metadata": {},
   "source": [
    "### 6.2 忽略大小写 "
   ]
  },
  {
   "cell_type": "markdown",
   "metadata": {},
   "source": [
    "默认情况下正则表达式引擎室大小写敏感的，但有时在匹配过程中需要忽略大小写，  \n",
    "可以通过编译标志re.IGNORECASE（或re.I）实现。"
   ]
  },
  {
   "cell_type": "code",
   "execution_count": 11,
   "metadata": {},
   "outputs": [
    {
     "name": "stdout",
     "output_type": "stream",
     "text": [
      "None\n",
      "None\n",
      "None\n"
     ]
    }
   ],
   "source": [
    "import re\n",
    "\n",
    "p = r'(java).*(python)'\n",
    "regex = re.compile(p, re.I)\n",
    "\n",
    "m = regex.search('I like Java and Python.')\n",
    "print(m)  # 匹配\n",
    "\n",
    "m = regex.search('I like JAVA and Python.')\n",
    "print(m)  # 匹配\n",
    "\n",
    "m = regex.search('I like java and Python.')\n",
    "print(m)  # 匹配"
   ]
  },
  {
   "cell_type": "markdown",
   "metadata": {},
   "source": [
    "### 6.3 点（.）元字符匹配换行符 "
   ]
  },
  {
   "cell_type": "markdown",
   "metadata": {},
   "source": [
    "默认情况下正则表达式引擎中点（.）元字符可以匹配除换行符外的任何字符，  \n",
    "但是有时需要点（.）元字符也能匹配换行符，可以通过编译标志re.DOTALL（或re.S）实现。"
   ]
  },
  {
   "cell_type": "code",
   "execution_count": 14,
   "metadata": {},
   "outputs": [
    {
     "name": "stdout",
     "output_type": "stream",
     "text": [
      "<re.Match object; span=(0, 5), match='Hello'>\n",
      "<re.Match object; span=(0, 13), match='Hello\\n World.'>\n"
     ]
    }
   ],
   "source": [
    "import re\n",
    "\n",
    "p = r'.+'\n",
    "regex = re.compile(p)\n",
    "\n",
    "m = regex.search('Hello\\n World.')\n",
    "print(m)  # 匹配\n",
    "\n",
    "regex = re.compile(p, re.DOTALL)\n",
    "\n",
    "m = regex.search('Hello\\n World.')\n",
    "print(m)  # 匹配"
   ]
  },
  {
   "cell_type": "markdown",
   "metadata": {},
   "source": [
    "### 6.4 多行模式 "
   ]
  },
  {
   "cell_type": "markdown",
   "metadata": {},
   "source": [
    "编译标志re.MULTILINE（或re.M）可以设置多行模式， \n",
    "\n",
    "多行模式对于元字符^和\\$行为会产生影响。  \n",
    "\n",
    "默认情况下^和\\$匹配字符串的开始和结束，\n",
    "\n",
    "而在多行模式下^和$匹配任意一行的开始和结束。"
   ]
  },
  {
   "cell_type": "code",
   "execution_count": 15,
   "metadata": {},
   "outputs": [
    {
     "name": "stdout",
     "output_type": "stream",
     "text": [
      "None\n",
      "<re.Match object; span=(6, 11), match='World'>\n"
     ]
    }
   ],
   "source": [
    "import re\n",
    "\n",
    "p = r'^World'\n",
    "regex = re.compile(p)\n",
    "\n",
    "m = regex.search('Hello\\nWorld.')\n",
    "print(m)  # 不匹配\n",
    "\n",
    "regex = re.compile(p, re.M)\n",
    "\n",
    "m = regex.search('Hello\\nWorld.')\n",
    "print(m)  # 匹配"
   ]
  },
  {
   "cell_type": "markdown",
   "metadata": {},
   "source": [
    "### 6.5 详细模式"
   ]
  },
  {
   "cell_type": "markdown",
   "metadata": {},
   "source": [
    "编译表示re.VERBOSE（或re.X）可以设置详细模式，  \n",
    "详细模式情况下可以在正则表达式中添加注释，可以有空格和换行，  \n",
    "这样编写的正则表达式非常便于阅读。"
   ]
  },
  {
   "cell_type": "code",
   "execution_count": 16,
   "metadata": {},
   "outputs": [
    {
     "name": "stdout",
     "output_type": "stream",
     "text": [
      "<re.Match object; span=(7, 22), match='Java and Python'>\n",
      "<re.Match object; span=(7, 22), match='JAVA and Python'>\n",
      "<re.Match object; span=(7, 22), match='java and Python'>\n"
     ]
    }
   ],
   "source": [
    "import re\n",
    "\n",
    "p = \"\"\"(java)     #匹配java字符串\n",
    "        .*        #匹配任意字符零或多个\n",
    "        (python)  #匹配python字符串\n",
    "    \"\"\"\n",
    "\n",
    "regex = re.compile(p, re.I | re.VERBOSE)\n",
    "\n",
    "m = regex.search('I like Java and Python.')\n",
    "print(m)  # 匹配\n",
    "\n",
    "m = regex.search('I like JAVA and Python.')\n",
    "print(m)  # 匹配\n",
    "\n",
    "m = regex.search('I like java and Python.')\n",
    "print(m)  # 匹配"
   ]
  },
  {
   "cell_type": "markdown",
   "metadata": {},
   "source": []
  },
  {
   "cell_type": "code",
   "execution_count": null,
   "metadata": {},
   "outputs": [],
   "source": []
  },
  {
   "cell_type": "code",
   "execution_count": null,
   "metadata": {},
   "outputs": [],
   "source": []
  },
  {
   "cell_type": "code",
   "execution_count": null,
   "metadata": {},
   "outputs": [],
   "source": []
  },
  {
   "cell_type": "code",
   "execution_count": null,
   "metadata": {},
   "outputs": [],
   "source": []
  },
  {
   "cell_type": "code",
   "execution_count": null,
   "metadata": {},
   "outputs": [],
   "source": []
  },
  {
   "cell_type": "code",
   "execution_count": null,
   "metadata": {},
   "outputs": [],
   "source": []
  },
  {
   "cell_type": "code",
   "execution_count": null,
   "metadata": {},
   "outputs": [],
   "source": []
  },
  {
   "cell_type": "code",
   "execution_count": null,
   "metadata": {},
   "outputs": [],
   "source": []
  }
 ],
 "metadata": {
  "kernelspec": {
   "display_name": "Python 3",
   "language": "python",
   "name": "python3"
  },
  "language_info": {
   "codemirror_mode": {
    "name": "ipython",
    "version": 3
   },
   "file_extension": ".py",
   "mimetype": "text/x-python",
   "name": "python",
   "nbconvert_exporter": "python",
   "pygments_lexer": "ipython3",
   "version": "3.7.0"
  },
  "latex_envs": {
   "LaTeX_envs_menu_present": true,
   "autoclose": false,
   "autocomplete": true,
   "bibliofile": "biblio.bib",
   "cite_by": "apalike",
   "current_citInitial": 1,
   "eqLabelWithNumbers": true,
   "eqNumInitial": 1,
   "hotkeys": {
    "equation": "Ctrl-E",
    "itemize": "Ctrl-I"
   },
   "labels_anchors": false,
   "latex_user_defs": false,
   "report_style_numbering": false,
   "user_envs_cfg": false
  },
  "toc": {
   "base_numbering": 1,
   "nav_menu": {},
   "number_sections": true,
   "sideBar": true,
   "skip_h1_title": false,
   "title_cell": "Table of Contents",
   "title_sidebar": "Contents",
   "toc_cell": false,
   "toc_position": {},
   "toc_section_display": true,
   "toc_window_display": true
  }
 },
 "nbformat": 4,
 "nbformat_minor": 2
}
