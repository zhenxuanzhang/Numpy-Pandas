{
 "cells": [
  {
   "cell_type": "markdown",
   "metadata": {},
   "source": [
    "pandas Series"
   ]
  },
  {
   "cell_type": "code",
   "execution_count": 1,
   "metadata": {},
   "outputs": [],
   "source": [
    "import pandas as pd"
   ]
  },
  {
   "cell_type": "code",
   "execution_count": 3,
   "metadata": {},
   "outputs": [],
   "source": [
    "a = pd.Series([82,75,73,89,79])"
   ]
  },
  {
   "cell_type": "code",
   "execution_count": 4,
   "metadata": {},
   "outputs": [
    {
     "data": {
      "text/plain": [
       "count     5.000000\n",
       "mean     79.600000\n",
       "std       6.308724\n",
       "min      73.000000\n",
       "25%      75.000000\n",
       "50%      79.000000\n",
       "75%      82.000000\n",
       "max      89.000000\n",
       "dtype: float64"
      ]
     },
     "execution_count": 4,
     "metadata": {},
     "output_type": "execute_result"
    }
   ],
   "source": [
    "a.describe()"
   ]
  },
  {
   "cell_type": "code",
   "execution_count": 5,
   "metadata": {},
   "outputs": [
    {
     "name": "stdout",
     "output_type": "stream",
     "text": [
      "89\n"
     ]
    }
   ],
   "source": [
    "print(a[3])"
   ]
  },
  {
   "cell_type": "code",
   "execution_count": 6,
   "metadata": {},
   "outputs": [
    {
     "name": "stdout",
     "output_type": "stream",
     "text": [
      "82\n",
      "75\n",
      "73\n",
      "89\n",
      "79\n"
     ]
    }
   ],
   "source": [
    "for i in a:\n",
    "    print(i)"
   ]
  },
  {
   "cell_type": "code",
   "execution_count": 7,
   "metadata": {},
   "outputs": [
    {
     "name": "stdout",
     "output_type": "stream",
     "text": [
      "0    77\n",
      "1    70\n",
      "2    68\n",
      "3    84\n",
      "4    74\n",
      "dtype: int64\n"
     ]
    }
   ],
   "source": [
    "print(a-5)"
   ]
  },
  {
   "cell_type": "code",
   "execution_count": 8,
   "metadata": {},
   "outputs": [
    {
     "name": "stdout",
     "output_type": "stream",
     "text": [
      "0     True\n",
      "1    False\n",
      "2    False\n",
      "3     True\n",
      "4    False\n",
      "dtype: bool\n"
     ]
    }
   ],
   "source": [
    "print(a>80)"
   ]
  },
  {
   "cell_type": "code",
   "execution_count": 9,
   "metadata": {},
   "outputs": [
    {
     "name": "stdout",
     "output_type": "stream",
     "text": [
      "79.6\n"
     ]
    }
   ],
   "source": [
    "print(a.mean())"
   ]
  },
  {
   "cell_type": "code",
   "execution_count": 10,
   "metadata": {},
   "outputs": [],
   "source": [
    "# 计算同向和反向特征的元素个数\n",
    "\n",
    "def dir_judge(var1, var2):\n",
    "    mean1 = var1.mean()\n",
    "    mean2 = var2.mean()\n",
    "    \n",
    "    same_dir = ((var1 > mean1)&(var2 > mean2)) | ((var1 < mean1)&(var2 < mean2))\n",
    "    print(same_dir)\n",
    "    return(len(same_dir[same_dir == True]),len(same_dir[same_dir == False]))\n",
    "\n"
   ]
  },
  {
   "cell_type": "code",
   "execution_count": 11,
   "metadata": {},
   "outputs": [
    {
     "name": "stdout",
     "output_type": "stream",
     "text": [
      "0    False\n",
      "1     True\n",
      "2    False\n",
      "3    False\n",
      "4     True\n",
      "5    False\n",
      "6    False\n",
      "dtype: bool\n"
     ]
    },
    {
     "data": {
      "text/plain": [
       "(2, 5)"
      ]
     },
     "execution_count": 11,
     "metadata": {},
     "output_type": "execute_result"
    }
   ],
   "source": [
    "math_score = pd.Series([143,137,141,130,136,128,139])\n",
    "eng_score = pd.Series([73,82,75,76,65,89,67])\n",
    "\n",
    "dir_judge(math_score,eng_score)"
   ]
  },
  {
   "cell_type": "markdown",
   "metadata": {},
   "source": [
    "索引\n",
    "\n",
    "series为列表和字典的结合"
   ]
  },
  {
   "cell_type": "code",
   "execution_count": 12,
   "metadata": {},
   "outputs": [
    {
     "data": {
      "text/plain": [
       "ZQ     143\n",
       "ZZX    137\n",
       "YSC    141\n",
       "WDF    130\n",
       "SZY    136\n",
       "XJL    128\n",
       "XJY    139\n",
       "dtype: int64"
      ]
     },
     "execution_count": 12,
     "metadata": {},
     "output_type": "execute_result"
    }
   ],
   "source": [
    "math_score = pd.Series([143,137,141,130,136,128,139],\n",
    "                index = ['ZQ','ZZX','YSC','WDF','SZY','XJL','XJY'])\n",
    "math_score"
   ]
  },
  {
   "cell_type": "code",
   "execution_count": 13,
   "metadata": {},
   "outputs": [
    {
     "data": {
      "text/plain": [
       "count      7.000000\n",
       "mean     136.285714\n",
       "std        5.529144\n",
       "min      128.000000\n",
       "25%      133.000000\n",
       "50%      137.000000\n",
       "75%      140.000000\n",
       "max      143.000000\n",
       "dtype: float64"
      ]
     },
     "execution_count": 13,
     "metadata": {},
     "output_type": "execute_result"
    }
   ],
   "source": [
    "math_score.describe()"
   ]
  },
  {
   "cell_type": "code",
   "execution_count": 14,
   "metadata": {},
   "outputs": [
    {
     "data": {
      "text/plain": [
       "137"
      ]
     },
     "execution_count": 14,
     "metadata": {},
     "output_type": "execute_result"
    }
   ],
   "source": [
    "math_score.loc['ZZX']  #索引"
   ]
  },
  {
   "cell_type": "code",
   "execution_count": 15,
   "metadata": {},
   "outputs": [
    {
     "data": {
      "text/plain": [
       "141"
      ]
     },
     "execution_count": 15,
     "metadata": {},
     "output_type": "execute_result"
    }
   ],
   "source": [
    "math_score.iloc[2]   #位置"
   ]
  },
  {
   "cell_type": "code",
   "execution_count": 16,
   "metadata": {},
   "outputs": [
    {
     "data": {
      "text/plain": [
       "141"
      ]
     },
     "execution_count": 16,
     "metadata": {},
     "output_type": "execute_result"
    }
   ],
   "source": [
    "math_score[2]"
   ]
  },
  {
   "cell_type": "code",
   "execution_count": 17,
   "metadata": {},
   "outputs": [
    {
     "data": {
      "text/plain": [
       "'ZQ'"
      ]
     },
     "execution_count": 17,
     "metadata": {},
     "output_type": "execute_result"
    }
   ],
   "source": [
    "math_score.idxmax()"
   ]
  },
  {
   "cell_type": "markdown",
   "metadata": {},
   "source": [
    "向量计算"
   ]
  },
  {
   "cell_type": "code",
   "execution_count": 18,
   "metadata": {},
   "outputs": [],
   "source": [
    "math_score = pd.Series([143,137,141,130,136,128,139],\n",
    "                index = ['ZQ','ZZX','YSC','WDF','SZY','XJL','XJY'])\n",
    "eng_score = pd.Series([73,82,75,76,65,89,67],\n",
    "                     index = ['ZQ','ZZX','YSC','WDF','SZY','XJL','XJY'])"
   ]
  },
  {
   "cell_type": "code",
   "execution_count": 19,
   "metadata": {},
   "outputs": [
    {
     "data": {
      "text/plain": [
       "ZQ     216\n",
       "ZZX    219\n",
       "YSC    216\n",
       "WDF    206\n",
       "SZY    201\n",
       "XJL    217\n",
       "XJY    206\n",
       "dtype: int64"
      ]
     },
     "execution_count": 19,
     "metadata": {},
     "output_type": "execute_result"
    }
   ],
   "source": [
    "math_score + eng_score"
   ]
  },
  {
   "cell_type": "code",
   "execution_count": 20,
   "metadata": {},
   "outputs": [],
   "source": [
    "pol_score = pd.Series([73,71,65,70,67,68,60],\n",
    "                     index = ['ZZX','YSC','ZQ','WDF','XJY','XJL','SZY'])"
   ]
  },
  {
   "cell_type": "code",
   "execution_count": 21,
   "metadata": {},
   "outputs": [
    {
     "data": {
      "text/plain": [
       "SZY    261\n",
       "WDF    276\n",
       "XJL    285\n",
       "XJY    273\n",
       "YSC    287\n",
       "ZQ     281\n",
       "ZZX    292\n",
       "dtype: int64"
      ]
     },
     "execution_count": 21,
     "metadata": {},
     "output_type": "execute_result"
    }
   ],
   "source": [
    "pol_score + math_score + eng_score  # 根据索引相加"
   ]
  },
  {
   "cell_type": "code",
   "execution_count": 22,
   "metadata": {},
   "outputs": [],
   "source": [
    "pro_score = pd.Series([150,100,140,130,120,110,119],\n",
    "                     index =  ['ZQ','MD','AD','CD','ZZ','RNG','XJY'])"
   ]
  },
  {
   "cell_type": "code",
   "execution_count": 23,
   "metadata": {},
   "outputs": [
    {
     "data": {
      "text/plain": [
       "AD       NaN\n",
       "CD       NaN\n",
       "MD       NaN\n",
       "RNG      NaN\n",
       "SZY      NaN\n",
       "WDF      NaN\n",
       "XJL      NaN\n",
       "XJY    186.0\n",
       "YSC      NaN\n",
       "ZQ     215.0\n",
       "ZZ       NaN\n",
       "ZZX      NaN\n",
       "dtype: float64"
      ]
     },
     "execution_count": 23,
     "metadata": {},
     "output_type": "execute_result"
    }
   ],
   "source": [
    "pro_score + pol_score"
   ]
  },
  {
   "cell_type": "markdown",
   "metadata": {},
   "source": [
    "apply"
   ]
  },
  {
   "cell_type": "code",
   "execution_count": 24,
   "metadata": {},
   "outputs": [],
   "source": [
    "pol_score = pd.Series([73,71,65,70,67,68,60])"
   ]
  },
  {
   "cell_type": "code",
   "execution_count": 25,
   "metadata": {},
   "outputs": [],
   "source": [
    "def multi(num):\n",
    "    return num * 2"
   ]
  },
  {
   "cell_type": "code",
   "execution_count": 26,
   "metadata": {},
   "outputs": [
    {
     "data": {
      "text/plain": [
       "0    146\n",
       "1    142\n",
       "2    130\n",
       "3    140\n",
       "4    134\n",
       "5    136\n",
       "6    120\n",
       "dtype: int64"
      ]
     },
     "execution_count": 26,
     "metadata": {},
     "output_type": "execute_result"
    }
   ],
   "source": [
    "pol_score.apply(multi)"
   ]
  },
  {
   "cell_type": "code",
   "execution_count": 27,
   "metadata": {},
   "outputs": [
    {
     "data": {
      "text/plain": [
       "0    146\n",
       "1    142\n",
       "2    130\n",
       "3    140\n",
       "4    134\n",
       "5    136\n",
       "6    120\n",
       "dtype: int64"
      ]
     },
     "execution_count": 27,
     "metadata": {},
     "output_type": "execute_result"
    }
   ],
   "source": [
    "pol_score * 2"
   ]
  },
  {
   "cell_type": "code",
   "execution_count": 28,
   "metadata": {},
   "outputs": [],
   "source": [
    "def multi_big(num):\n",
    "    if num > 70:\n",
    "        return num * 2"
   ]
  },
  {
   "cell_type": "code",
   "execution_count": 29,
   "metadata": {},
   "outputs": [
    {
     "data": {
      "text/plain": [
       "0    146.0\n",
       "1    142.0\n",
       "2      NaN\n",
       "3      NaN\n",
       "4      NaN\n",
       "5      NaN\n",
       "6      NaN\n",
       "dtype: float64"
      ]
     },
     "execution_count": 29,
     "metadata": {},
     "output_type": "execute_result"
    }
   ],
   "source": [
    "pol_score.apply(multi_big)"
   ]
  },
  {
   "cell_type": "markdown",
   "metadata": {},
   "source": [
    "# 缺失值填充"
   ]
  },
  {
   "cell_type": "markdown",
   "metadata": {},
   "source": [
    "去除NAN:Not a Number\n"
   ]
  },
  {
   "cell_type": "code",
   "execution_count": 32,
   "metadata": {},
   "outputs": [],
   "source": [
    "pro_score = pd.Series([150,100,140,130,120,110,119],\n",
    "                     index =  ['ZQ','MD','AD','CD','ZZ','RNG','XJY'])\n",
    "pol_score = pd.Series([73,71,65,70,67,68,60],\n",
    "                     index = ['ZZX','YSC','ZQ','WDF','XJY','XJL','SZY'])"
   ]
  },
  {
   "cell_type": "code",
   "execution_count": 33,
   "metadata": {},
   "outputs": [
    {
     "data": {
      "text/plain": [
       "AD       NaN\n",
       "CD       NaN\n",
       "MD       NaN\n",
       "RNG      NaN\n",
       "SZY      NaN\n",
       "WDF      NaN\n",
       "XJL      NaN\n",
       "XJY    186.0\n",
       "YSC      NaN\n",
       "ZQ     215.0\n",
       "ZZ       NaN\n",
       "ZZX      NaN\n",
       "dtype: float64"
      ]
     },
     "execution_count": 33,
     "metadata": {},
     "output_type": "execute_result"
    }
   ],
   "source": [
    "pro_score + pol_score"
   ]
  },
  {
   "cell_type": "markdown",
   "metadata": {},
   "source": [
    "dropna"
   ]
  },
  {
   "cell_type": "code",
   "execution_count": 34,
   "metadata": {},
   "outputs": [
    {
     "data": {
      "text/plain": [
       "XJY    186.0\n",
       "ZQ     215.0\n",
       "dtype: float64"
      ]
     },
     "execution_count": 34,
     "metadata": {},
     "output_type": "execute_result"
    }
   ],
   "source": [
    "(pro_score + pol_score).dropna()  \n",
    "# 直接去除NAN值"
   ]
  },
  {
   "cell_type": "markdown",
   "metadata": {},
   "source": [
    "fillna"
   ]
  },
  {
   "cell_type": "code",
   "execution_count": 36,
   "metadata": {},
   "outputs": [
    {
     "data": {
      "text/plain": [
       "AD       0.0\n",
       "CD       0.0\n",
       "MD       0.0\n",
       "RNG      0.0\n",
       "SZY      0.0\n",
       "WDF      0.0\n",
       "XJL      0.0\n",
       "XJY    186.0\n",
       "YSC      0.0\n",
       "ZQ     215.0\n",
       "ZZ       0.0\n",
       "ZZX      0.0\n",
       "dtype: float64"
      ]
     },
     "execution_count": 36,
     "metadata": {},
     "output_type": "execute_result"
    }
   ],
   "source": [
    "(pro_score + pol_score).fillna(0)  \n",
    "# 将NAN值填充为一个常数"
   ]
  },
  {
   "cell_type": "markdown",
   "metadata": {},
   "source": [
    "add"
   ]
  },
  {
   "cell_type": "code",
   "execution_count": 38,
   "metadata": {},
   "outputs": [
    {
     "data": {
      "text/plain": [
       "AD     140.0\n",
       "CD     130.0\n",
       "MD     100.0\n",
       "RNG    110.0\n",
       "SZY     60.0\n",
       "WDF     70.0\n",
       "XJL     68.0\n",
       "XJY    186.0\n",
       "YSC     71.0\n",
       "ZQ     215.0\n",
       "ZZ     120.0\n",
       "ZZX     73.0\n",
       "dtype: float64"
      ]
     },
     "execution_count": 38,
     "metadata": {},
     "output_type": "execute_result"
    }
   ],
   "source": [
    "pro_score.add(pol_score, fill_value= 0) \n",
    "# 以pro_score为基础加上pol_score，无对应项相当于加0"
   ]
  },
  {
   "cell_type": "markdown",
   "metadata": {},
   "source": [
    "# 绘图"
   ]
  },
  {
   "cell_type": "code",
   "execution_count": 49,
   "metadata": {},
   "outputs": [],
   "source": [
    "# pol_score = pd.Series([73,71,65,70,67,68,60],\n",
    "#                      index = ['ZZX','YSC','ZQ','WDF','XJY','XJL','SZY'],\n",
    "#                      name = 'politics scores in GRE')\n",
    "import numpy as np\n",
    "pol_score = pd.Series(np.random.randn(100)+65,name = 'politics scores in GRE')"
   ]
  },
  {
   "cell_type": "code",
   "execution_count": 50,
   "metadata": {},
   "outputs": [
    {
     "data": {
      "text/plain": [
       "<matplotlib.axes._subplots.AxesSubplot at 0x2c556a44748>"
      ]
     },
     "execution_count": 50,
     "metadata": {},
     "output_type": "execute_result"
    },
    {
     "data": {
      "image/png": "[encoded data removed]",
      "text/plain": [
       "<Figure size 432x288 with 1 Axes>"
      ]
     },
     "metadata": {
      "needs_background": "light"
     },
     "output_type": "display_data"
    }
   ],
   "source": [
    "pol_score.plot(kind = 'line')\n",
    "# kind = 'bar','hist','box'"
   ]
  },
  {
   "cell_type": "code",
   "execution_count": 51,
   "metadata": {},
   "outputs": [
    {
     "data": {
      "text/plain": [
       "<matplotlib.axes._subplots.AxesSubplot at 0x2c556ef6eb8>"
      ]
     },
     "execution_count": 51,
     "metadata": {},
     "output_type": "execute_result"
    },
    {
     "data": {
      "image/png": "[encoded data removed]",
      "text/plain": [
       "<Figure size 432x288 with 1 Axes>"
      ]
     },
     "metadata": {
      "needs_background": "light"
     },
     "output_type": "display_data"
    }
   ],
   "source": [
    "pol_score.plot.bar()"
   ]
  },
  {
   "cell_type": "code",
   "execution_count": 57,
   "metadata": {},
   "outputs": [
    {
     "data": {
      "text/plain": [
       "<matplotlib.axes._subplots.AxesSubplot at 0x2c556f944a8>"
      ]
     },
     "execution_count": 57,
     "metadata": {},
     "output_type": "execute_result"
    },
    {
     "data": {
      "image/png": "[encoded data removed]",
      "text/plain": [
       "<Figure size 432x432 with 1 Axes>"
      ]
     },
     "metadata": {},
     "output_type": "display_data"
    }
   ],
   "source": [
    "pol_score.plot.pie(figsize = (6,6))"
   ]
  },
  {
   "cell_type": "code",
   "execution_count": 53,
   "metadata": {},
   "outputs": [
    {
     "data": {
      "text/plain": [
       "<matplotlib.axes._subplots.AxesSubplot at 0x2c556a3ae48>"
      ]
     },
     "execution_count": 53,
     "metadata": {},
     "output_type": "execute_result"
    },
    {
     "data": {
      "image/png": "[encoded data removed]",
      "text/plain": [
       "<Figure size 432x288 with 1 Axes>"
      ]
     },
     "metadata": {
      "needs_background": "light"
     },
     "output_type": "display_data"
    }
   ],
   "source": [
    "pol_score.plot.area()"
   ]
  },
  {
   "cell_type": "code",
   "execution_count": 54,
   "metadata": {},
   "outputs": [
    {
     "data": {
      "text/plain": [
       "<matplotlib.axes._subplots.AxesSubplot at 0x2c556defd68>"
      ]
     },
     "execution_count": 54,
     "metadata": {},
     "output_type": "execute_result"
    },
    {
     "data": {
      "image/png": "[encoded data removed]",
      "text/plain": [
       "<Figure size 432x288 with 1 Axes>"
      ]
     },
     "metadata": {
      "needs_background": "light"
     },
     "output_type": "display_data"
    }
   ],
   "source": [
    "pol_score.plot.hist()"
   ]
  },
  {
   "cell_type": "code",
   "execution_count": 55,
   "metadata": {},
   "outputs": [
    {
     "data": {
      "text/plain": [
       "<matplotlib.axes._subplots.AxesSubplot at 0x2c556e61358>"
      ]
     },
     "execution_count": 55,
     "metadata": {},
     "output_type": "execute_result"
    },
    {
     "data": {
      "image/png": "[encoded data removed]",
      "text/plain": [
       "<Figure size 432x288 with 1 Axes>"
      ]
     },
     "metadata": {
      "needs_background": "light"
     },
     "output_type": "display_data"
    }
   ],
   "source": [
    "pol_score.plot.kde()\n",
    "# 密度图"
   ]
  },
  {
   "cell_type": "code",
   "execution_count": 56,
   "metadata": {},
   "outputs": [
    {
     "data": {
      "text/plain": [
       "<matplotlib.axes._subplots.AxesSubplot at 0x2c556eae0f0>"
      ]
     },
     "execution_count": 56,
     "metadata": {},
     "output_type": "execute_result"
    },
    {
     "data": {
      "image/png": "[encoded data removed]",
      "text/plain": [
       "<Figure size 432x288 with 1 Axes>"
      ]
     },
     "metadata": {
      "needs_background": "light"
     },
     "output_type": "display_data"
    }
   ],
   "source": [
    "pol_score.plot.box()"
   ]
  },
  {
   "cell_type": "markdown",
   "metadata": {},
   "source": [
    "# DataFrame"
   ]
  },
  {
   "cell_type": "code",
   "execution_count": 10,
   "metadata": {},
   "outputs": [],
   "source": [
    "import numpy as np\n",
    "gre_scores_np = np.array([\n",
    "    ['name','pol','eng','math','stat'],\n",
    "    ['zzx',73,82,137,114,],\n",
    "    ['zq',65,73,143,150,],\n",
    "    ['ysc',71,75,141,94,],\n",
    "    ['xjy',67,67,139,119,],\n",
    "    ['xjl',68,89,128,115,],\n",
    "])"
   ]
  },
  {
   "cell_type": "code",
   "execution_count": 11,
   "metadata": {},
   "outputs": [
    {
     "data": {
      "text/plain": [
       "dtype('<U4')"
      ]
     },
     "execution_count": 11,
     "metadata": {},
     "output_type": "execute_result"
    }
   ],
   "source": [
    "gre_scores_np.dtype\n",
    "# 全转为字符串"
   ]
  },
  {
   "cell_type": "markdown",
   "metadata": {},
   "source": [
    "###  使用dataframe"
   ]
  },
  {
   "cell_type": "code",
   "execution_count": 6,
   "metadata": {},
   "outputs": [
    {
     "data": {
      "text/html": [
       "<div>\n",
       "<style scoped>\n",
       "    .dataframe tbody tr th:only-of-type {\n",
       "        vertical-align: middle;\n",
       "    }\n",
       "\n",
       "    .dataframe tbody tr th {\n",
       "        vertical-align: top;\n",
       "    }\n",
       "\n",
       "    .dataframe thead th {\n",
       "        text-align: right;\n",
       "    }\n",
       "</style>\n",
       "<table border=\"1\" class=\"dataframe\">\n",
       "  <thead>\n",
       "    <tr style=\"text-align: right;\">\n",
       "      <th></th>\n",
       "      <th>name</th>\n",
       "      <th>pol</th>\n",
       "      <th>eng</th>\n",
       "      <th>math</th>\n",
       "      <th>stat</th>\n",
       "    </tr>\n",
       "  </thead>\n",
       "  <tbody>\n",
       "    <tr>\n",
       "      <th>0</th>\n",
       "      <td>zzx</td>\n",
       "      <td>73</td>\n",
       "      <td>82</td>\n",
       "      <td>137</td>\n",
       "      <td>114</td>\n",
       "    </tr>\n",
       "    <tr>\n",
       "      <th>1</th>\n",
       "      <td>zq</td>\n",
       "      <td>65</td>\n",
       "      <td>73</td>\n",
       "      <td>143</td>\n",
       "      <td>150</td>\n",
       "    </tr>\n",
       "    <tr>\n",
       "      <th>2</th>\n",
       "      <td>ysc</td>\n",
       "      <td>71</td>\n",
       "      <td>75</td>\n",
       "      <td>141</td>\n",
       "      <td>94</td>\n",
       "    </tr>\n",
       "    <tr>\n",
       "      <th>3</th>\n",
       "      <td>xjy</td>\n",
       "      <td>67</td>\n",
       "      <td>67</td>\n",
       "      <td>139</td>\n",
       "      <td>119</td>\n",
       "    </tr>\n",
       "    <tr>\n",
       "      <th>4</th>\n",
       "      <td>xjl</td>\n",
       "      <td>68</td>\n",
       "      <td>89</td>\n",
       "      <td>128</td>\n",
       "      <td>115</td>\n",
       "    </tr>\n",
       "  </tbody>\n",
       "</table>\n",
       "</div>"
      ],
      "text/plain": [
       "  name  pol  eng  math  stat\n",
       "0  zzx   73   82   137   114\n",
       "1   zq   65   73   143   150\n",
       "2  ysc   71   75   141    94\n",
       "3  xjy   67   67   139   119\n",
       "4  xjl   68   89   128   115"
      ]
     },
     "execution_count": 6,
     "metadata": {},
     "output_type": "execute_result"
    }
   ],
   "source": [
    "import pandas as pd\n",
    "\n",
    "gre_scores = pd.DataFrame({\n",
    "    'name':['zzx','zq','ysc','xjy','xjl'],\n",
    "    'pol':[73,65,71,67,68],\n",
    "    'eng':[82,73,75,67,89],\n",
    "    'math':[137,143,141,139,128],\n",
    "    'stat':[114,150,94,119,115]\n",
    "})\n",
    "\n",
    "gre_scores\n"
   ]
  },
  {
   "cell_type": "code",
   "execution_count": 7,
   "metadata": {},
   "outputs": [
    {
     "data": {
      "text/plain": [
       "pol      68.8\n",
       "eng      77.2\n",
       "math    137.6\n",
       "stat    118.4\n",
       "dtype: float64"
      ]
     },
     "execution_count": 7,
     "metadata": {},
     "output_type": "execute_result"
    }
   ],
   "source": [
    "gre_scores.mean()\n",
    "# 按列求均值，识别数字型数据"
   ]
  },
  {
   "cell_type": "code",
   "execution_count": 8,
   "metadata": {},
   "outputs": [
    {
     "data": {
      "text/plain": [
       "0    406\n",
       "1    431\n",
       "2    381\n",
       "3    392\n",
       "4    400\n",
       "dtype: int64"
      ]
     },
     "execution_count": 8,
     "metadata": {},
     "output_type": "execute_result"
    }
   ],
   "source": [
    "gre_scores.sum(axis=1)"
   ]
  },
  {
   "cell_type": "code",
   "execution_count": 9,
   "metadata": {},
   "outputs": [
    {
     "data": {
      "text/plain": [
       "name    zzx\n",
       "pol      73\n",
       "eng      89\n",
       "math    143\n",
       "stat    150\n",
       "dtype: object"
      ]
     },
     "execution_count": 9,
     "metadata": {},
     "output_type": "execute_result"
    }
   ],
   "source": [
    "gre_scores.max()"
   ]
  },
  {
   "cell_type": "markdown",
   "metadata": {},
   "source": [
    "### np,pd求std "
   ]
  },
  {
   "cell_type": "code",
   "execution_count": 12,
   "metadata": {},
   "outputs": [
    {
     "data": {
      "text/plain": [
       "pol      3.193744\n",
       "eng      8.497058\n",
       "math     5.813777\n",
       "stat    20.156885\n",
       "dtype: float64"
      ]
     },
     "execution_count": 12,
     "metadata": {},
     "output_type": "execute_result"
    }
   ],
   "source": [
    "gre_scores.std()"
   ]
  },
  {
   "cell_type": "code",
   "execution_count": 14,
   "metadata": {},
   "outputs": [
    {
     "data": {
      "text/plain": [
       "array([ 2.85657137,  7.6       ,  5.2       , 18.02886574])"
      ]
     },
     "execution_count": 14,
     "metadata": {},
     "output_type": "execute_result"
    }
   ],
   "source": [
    "gre_scores_np = np.array([\n",
    "    [73,82,137,114,],\n",
    "    [65,73,143,150,],\n",
    "    [71,75,141,94,],\n",
    "    [67,67,139,119,],\n",
    "    [68,89,128,115,],\n",
    "])\n",
    "gre_scores_np.std(axis=0)"
   ]
  },
  {
   "cell_type": "markdown",
   "metadata": {},
   "source": [
    "np求std的值比pd小"
   ]
  },
  {
   "cell_type": "code",
   "execution_count": 17,
   "metadata": {},
   "outputs": [
    {
     "name": "stdout",
     "output_type": "stream",
     "text": [
      "[[0 1 2 3 4 5 6 7 8 9]]\n",
      "2.8722813232690143\n"
     ]
    }
   ],
   "source": [
    "a = np.array([range(10)])\n",
    "print(a)\n",
    "print(a.std())"
   ]
  },
  {
   "cell_type": "code",
   "execution_count": 19,
   "metadata": {},
   "outputs": [
    {
     "data": {
      "text/plain": [
       "3.0276503540974917"
      ]
     },
     "execution_count": 19,
     "metadata": {},
     "output_type": "execute_result"
    }
   ],
   "source": [
    "np.sqrt(((a-np.mean(a))**2).sum() / (a.size - 1)) #校正除以n-1"
   ]
  },
  {
   "cell_type": "code",
   "execution_count": 20,
   "metadata": {},
   "outputs": [
    {
     "data": {
      "text/plain": [
       "2.8722813232690143"
      ]
     },
     "execution_count": 20,
     "metadata": {},
     "output_type": "execute_result"
    }
   ],
   "source": [
    "np.sqrt(((a-np.mean(a))**2).sum() / (a.size))"
   ]
  },
  {
   "cell_type": "code",
   "execution_count": 25,
   "metadata": {},
   "outputs": [
    {
     "name": "stdout",
     "output_type": "stream",
     "text": [
      "   0\n",
      "0  0\n",
      "1  1\n",
      "2  2\n",
      "3  3\n",
      "4  4\n",
      "5  5\n",
      "6  6\n",
      "7  7\n",
      "8  8\n",
      "9  9\n"
     ]
    }
   ],
   "source": [
    "b = pd.DataFrame([0,1,2,3,4,5,6,7,8,9])\n",
    "print(b)"
   ]
  },
  {
   "cell_type": "code",
   "execution_count": 26,
   "metadata": {},
   "outputs": [
    {
     "data": {
      "text/plain": [
       "0    3.02765\n",
       "dtype: float64"
      ]
     },
     "execution_count": 26,
     "metadata": {},
     "output_type": "execute_result"
    }
   ],
   "source": [
    "b.std()\n",
    "# pandas 默认作贝塞尔校正即计算样本标准差"
   ]
  },
  {
   "cell_type": "code",
   "execution_count": 27,
   "metadata": {},
   "outputs": [
    {
     "data": {
      "text/plain": [
       "0    2.872281\n",
       "dtype: float64"
      ]
     },
     "execution_count": 27,
     "metadata": {},
     "output_type": "execute_result"
    }
   ],
   "source": [
    "b.std(ddof = 0) # 计算总体标准差"
   ]
  },
  {
   "cell_type": "markdown",
   "metadata": {},
   "source": [
    "## 读取df元素 "
   ]
  },
  {
   "cell_type": "code",
   "execution_count": 28,
   "metadata": {},
   "outputs": [
    {
     "name": "stdout",
     "output_type": "stream",
     "text": [
      "  name  pol  eng  math  stat\n",
      "0  zzx   73   82   137   114\n",
      "1   zq   65   73   143   150\n",
      "2  ysc   71   75   141    94\n",
      "3  xjy   67   67   139   119\n",
      "4  xjl   68   89   128   115\n"
     ]
    }
   ],
   "source": [
    "print(gre_scores)"
   ]
  },
  {
   "cell_type": "code",
   "execution_count": 29,
   "metadata": {},
   "outputs": [
    {
     "data": {
      "text/html": [
       "<div>\n",
       "<style scoped>\n",
       "    .dataframe tbody tr th:only-of-type {\n",
       "        vertical-align: middle;\n",
       "    }\n",
       "\n",
       "    .dataframe tbody tr th {\n",
       "        vertical-align: top;\n",
       "    }\n",
       "\n",
       "    .dataframe thead th {\n",
       "        text-align: right;\n",
       "    }\n",
       "</style>\n",
       "<table border=\"1\" class=\"dataframe\">\n",
       "  <thead>\n",
       "    <tr style=\"text-align: right;\">\n",
       "      <th></th>\n",
       "      <th>pol</th>\n",
       "      <th>eng</th>\n",
       "      <th>math</th>\n",
       "      <th>stat</th>\n",
       "    </tr>\n",
       "  </thead>\n",
       "  <tbody>\n",
       "    <tr>\n",
       "      <th>zzx</th>\n",
       "      <td>73</td>\n",
       "      <td>82</td>\n",
       "      <td>137</td>\n",
       "      <td>114</td>\n",
       "    </tr>\n",
       "    <tr>\n",
       "      <th>zq</th>\n",
       "      <td>65</td>\n",
       "      <td>73</td>\n",
       "      <td>143</td>\n",
       "      <td>150</td>\n",
       "    </tr>\n",
       "    <tr>\n",
       "      <th>ysc</th>\n",
       "      <td>71</td>\n",
       "      <td>75</td>\n",
       "      <td>141</td>\n",
       "      <td>94</td>\n",
       "    </tr>\n",
       "    <tr>\n",
       "      <th>xjy</th>\n",
       "      <td>67</td>\n",
       "      <td>67</td>\n",
       "      <td>139</td>\n",
       "      <td>119</td>\n",
       "    </tr>\n",
       "    <tr>\n",
       "      <th>xjl</th>\n",
       "      <td>68</td>\n",
       "      <td>89</td>\n",
       "      <td>128</td>\n",
       "      <td>115</td>\n",
       "    </tr>\n",
       "  </tbody>\n",
       "</table>\n",
       "</div>"
      ],
      "text/plain": [
       "     pol  eng  math  stat\n",
       "zzx   73   82   137   114\n",
       "zq    65   73   143   150\n",
       "ysc   71   75   141    94\n",
       "xjy   67   67   139   119\n",
       "xjl   68   89   128   115"
      ]
     },
     "execution_count": 29,
     "metadata": {},
     "output_type": "execute_result"
    }
   ],
   "source": [
    "import pandas as pd\n",
    "\n",
    "gre_scores = pd.DataFrame({\n",
    "    \n",
    "    'pol':[73,65,71,67,68],\n",
    "    'eng':[82,73,75,67,89],\n",
    "    'math':[137,143,141,139,128],\n",
    "    'stat':[114,150,94,119,115]\n",
    "},index = ['zzx','zq','ysc','xjy','xjl'],)\n",
    "\n",
    "gre_scores\n"
   ]
  },
  {
   "cell_type": "code",
   "execution_count": 30,
   "metadata": {},
   "outputs": [
    {
     "data": {
      "text/plain": [
       "pol      73\n",
       "eng      82\n",
       "math    137\n",
       "stat    114\n",
       "Name: zzx, dtype: int64"
      ]
     },
     "execution_count": 30,
     "metadata": {},
     "output_type": "execute_result"
    }
   ],
   "source": [
    "gre_scores.loc['zzx']\n",
    "# 通过自设标签"
   ]
  },
  {
   "cell_type": "code",
   "execution_count": 31,
   "metadata": {},
   "outputs": [
    {
     "data": {
      "text/plain": [
       "pol      73\n",
       "eng      82\n",
       "math    137\n",
       "stat    114\n",
       "Name: zzx, dtype: int64"
      ]
     },
     "execution_count": 31,
     "metadata": {},
     "output_type": "execute_result"
    }
   ],
   "source": [
    "gre_scores.iloc[0]\n",
    "# 通过索引"
   ]
  },
  {
   "cell_type": "code",
   "execution_count": 32,
   "metadata": {},
   "outputs": [
    {
     "data": {
      "text/plain": [
       "zzx    114\n",
       "zq     150\n",
       "ysc     94\n",
       "xjy    119\n",
       "xjl    115\n",
       "Name: stat, dtype: int64"
      ]
     },
     "execution_count": 32,
     "metadata": {},
     "output_type": "execute_result"
    }
   ],
   "source": [
    "gre_scores['stat']"
   ]
  },
  {
   "cell_type": "code",
   "execution_count": 33,
   "metadata": {},
   "outputs": [
    {
     "data": {
      "text/plain": [
       "pandas.core.series.Series"
      ]
     },
     "execution_count": 33,
     "metadata": {},
     "output_type": "execute_result"
    }
   ],
   "source": [
    "type(gre_scores.loc['zzx'])\n",
    "# Series"
   ]
  },
  {
   "cell_type": "code",
   "execution_count": 35,
   "metadata": {},
   "outputs": [
    {
     "data": {
      "text/plain": [
       "'zq'"
      ]
     },
     "execution_count": 35,
     "metadata": {},
     "output_type": "execute_result"
    }
   ],
   "source": [
    "gre_scores['stat'].idxmax()"
   ]
  },
  {
   "cell_type": "code",
   "execution_count": 37,
   "metadata": {},
   "outputs": [
    {
     "data": {
      "text/plain": [
       "pol      65\n",
       "eng      73\n",
       "math    143\n",
       "stat    150\n",
       "Name: zq, dtype: int64"
      ]
     },
     "execution_count": 37,
     "metadata": {},
     "output_type": "execute_result"
    }
   ],
   "source": [
    "gre_scores.loc[gre_scores['stat'].idxmax()]"
   ]
  },
  {
   "cell_type": "code",
   "execution_count": 39,
   "metadata": {},
   "outputs": [
    {
     "data": {
      "text/plain": [
       "431"
      ]
     },
     "execution_count": 39,
     "metadata": {},
     "output_type": "execute_result"
    }
   ],
   "source": [
    "gre_scores.loc[gre_scores['stat'].idxmax()].sum()\n",
    "# 找出专业课最高的同学的总成绩"
   ]
  },
  {
   "cell_type": "code",
   "execution_count": 40,
   "metadata": {},
   "outputs": [
    {
     "data": {
      "text/plain": [
       "100.5"
      ]
     },
     "execution_count": 40,
     "metadata": {},
     "output_type": "execute_result"
    }
   ],
   "source": [
    "gre_scores.values.mean()\n",
    "# 计算所有值的均值"
   ]
  },
  {
   "cell_type": "code",
   "execution_count": 45,
   "metadata": {},
   "outputs": [
    {
     "data": {
      "text/plain": [
       "'zq'"
      ]
     },
     "execution_count": 45,
     "metadata": {},
     "output_type": "execute_result"
    }
   ],
   "source": [
    "gre_scores['stat'].idxmax()"
   ]
  },
  {
   "cell_type": "code",
   "execution_count": 48,
   "metadata": {},
   "outputs": [
    {
     "data": {
      "text/plain": [
       "431"
      ]
     },
     "execution_count": 48,
     "metadata": {},
     "output_type": "execute_result"
    }
   ],
   "source": [
    "gre_scores.loc[gre_scores['stat'].idxmax()].sum()"
   ]
  },
  {
   "cell_type": "code",
   "execution_count": 53,
   "metadata": {},
   "outputs": [
    {
     "data": {
      "text/plain": [
       "'math'"
      ]
     },
     "execution_count": 53,
     "metadata": {},
     "output_type": "execute_result"
    }
   ],
   "source": []
  },
  {
   "cell_type": "markdown",
   "metadata": {},
   "source": [
    "## 加载CSV到DataFrame"
   ]
  },
  {
   "cell_type": "code",
   "execution_count": 2,
   "metadata": {},
   "outputs": [],
   "source": [
    "import pandas as pd"
   ]
  },
  {
   "cell_type": "code",
   "execution_count": 4,
   "metadata": {},
   "outputs": [
    {
     "name": "stdout",
     "output_type": "stream",
     "text": [
      "1111\n",
      "C:\\Users\\14284\\Documents\\numpy\\Numpy-Pandas\n",
      "C:\\Users\\14284\\Documents\\numpy\\Numpy-Pandas\n",
      "C:\\Users\\14284\\Documents\\numpy\n",
      "C:\\Users\\14284\\Documents\\numpy\\Numpy-Pandas\n"
     ]
    }
   ],
   "source": [
    "import os\n",
    "print(\"1111\")\n",
    "print (os.getcwd())#获得当前目录\n",
    "print (os.path.abspath('.'))#获得当前工作目录\n",
    "print (os.path.abspath('..'))#获得当前工作目录的父目录\n",
    "print (os.path.abspath(os.curdir))#获得当前工作目录\n"
   ]
  },
  {
   "cell_type": "code",
   "execution_count": 11,
   "metadata": {},
   "outputs": [],
   "source": [
    "gre_ruc = pd.read_csv('./data/gre_ruc.csv',encoding = 'utf-8')"
   ]
  },
  {
   "cell_type": "code",
   "execution_count": 13,
   "metadata": {},
   "outputs": [
    {
     "data": {
      "text/html": [
       "<div>\n",
       "<style scoped>\n",
       "    .dataframe tbody tr th:only-of-type {\n",
       "        vertical-align: middle;\n",
       "    }\n",
       "\n",
       "    .dataframe tbody tr th {\n",
       "        vertical-align: top;\n",
       "    }\n",
       "\n",
       "    .dataframe thead th {\n",
       "        text-align: right;\n",
       "    }\n",
       "</style>\n",
       "<table border=\"1\" class=\"dataframe\">\n",
       "  <thead>\n",
       "    <tr style=\"text-align: right;\">\n",
       "      <th></th>\n",
       "      <th>num</th>\n",
       "      <th>firscore</th>\n",
       "      <th>secscore</th>\n",
       "      <th>totalscore</th>\n",
       "    </tr>\n",
       "  </thead>\n",
       "  <tbody>\n",
       "    <tr>\n",
       "      <th>count</th>\n",
       "      <td>5.900000e+01</td>\n",
       "      <td>59.000000</td>\n",
       "      <td>59.000000</td>\n",
       "      <td>59.000000</td>\n",
       "    </tr>\n",
       "    <tr>\n",
       "      <th>mean</th>\n",
       "      <td>1.000291e+14</td>\n",
       "      <td>395.084746</td>\n",
       "      <td>286.135593</td>\n",
       "      <td>79.837458</td>\n",
       "    </tr>\n",
       "    <tr>\n",
       "      <th>std</th>\n",
       "      <td>6.871298e+03</td>\n",
       "      <td>9.938237</td>\n",
       "      <td>13.740774</td>\n",
       "      <td>2.073498</td>\n",
       "    </tr>\n",
       "    <tr>\n",
       "      <th>min</th>\n",
       "      <td>1.000291e+14</td>\n",
       "      <td>368.000000</td>\n",
       "      <td>252.000000</td>\n",
       "      <td>73.120000</td>\n",
       "    </tr>\n",
       "    <tr>\n",
       "      <th>25%</th>\n",
       "      <td>1.000291e+14</td>\n",
       "      <td>388.000000</td>\n",
       "      <td>276.500000</td>\n",
       "      <td>78.430000</td>\n",
       "    </tr>\n",
       "    <tr>\n",
       "      <th>50%</th>\n",
       "      <td>1.000291e+14</td>\n",
       "      <td>393.000000</td>\n",
       "      <td>286.000000</td>\n",
       "      <td>79.530000</td>\n",
       "    </tr>\n",
       "    <tr>\n",
       "      <th>75%</th>\n",
       "      <td>1.000291e+14</td>\n",
       "      <td>400.500000</td>\n",
       "      <td>293.000000</td>\n",
       "      <td>81.280000</td>\n",
       "    </tr>\n",
       "    <tr>\n",
       "      <th>max</th>\n",
       "      <td>1.000291e+14</td>\n",
       "      <td>426.000000</td>\n",
       "      <td>317.000000</td>\n",
       "      <td>85.180000</td>\n",
       "    </tr>\n",
       "  </tbody>\n",
       "</table>\n",
       "</div>"
      ],
      "text/plain": [
       "                num    firscore    secscore  totalscore\n",
       "count  5.900000e+01   59.000000   59.000000   59.000000\n",
       "mean   1.000291e+14  395.084746  286.135593   79.837458\n",
       "std    6.871298e+03    9.938237   13.740774    2.073498\n",
       "min    1.000291e+14  368.000000  252.000000   73.120000\n",
       "25%    1.000291e+14  388.000000  276.500000   78.430000\n",
       "50%    1.000291e+14  393.000000  286.000000   79.530000\n",
       "75%    1.000291e+14  400.500000  293.000000   81.280000\n",
       "max    1.000291e+14  426.000000  317.000000   85.180000"
      ]
     },
     "execution_count": 13,
     "metadata": {},
     "output_type": "execute_result"
    }
   ],
   "source": [
    "# gre_ruc\n",
    "gre_ruc.describe()"
   ]
  },
  {
   "cell_type": "code",
   "execution_count": 14,
   "metadata": {},
   "outputs": [],
   "source": [
    "gre_ruc = pd.read_csv('./data/gre_ruc.csv',encoding = 'utf-8',index_col = 'name')"
   ]
  },
  {
   "cell_type": "code",
   "execution_count": 15,
   "metadata": {},
   "outputs": [
    {
     "data": {
      "text/html": [
       "<div>\n",
       "<style scoped>\n",
       "    .dataframe tbody tr th:only-of-type {\n",
       "        vertical-align: middle;\n",
       "    }\n",
       "\n",
       "    .dataframe tbody tr th {\n",
       "        vertical-align: top;\n",
       "    }\n",
       "\n",
       "    .dataframe thead th {\n",
       "        text-align: right;\n",
       "    }\n",
       "</style>\n",
       "<table border=\"1\" class=\"dataframe\">\n",
       "  <thead>\n",
       "    <tr style=\"text-align: right;\">\n",
       "      <th></th>\n",
       "      <th>num</th>\n",
       "      <th>firscore</th>\n",
       "      <th>secscore</th>\n",
       "      <th>totalscore</th>\n",
       "    </tr>\n",
       "    <tr>\n",
       "      <th>name</th>\n",
       "      <th></th>\n",
       "      <th></th>\n",
       "      <th></th>\n",
       "      <th></th>\n",
       "    </tr>\n",
       "  </thead>\n",
       "  <tbody>\n",
       "    <tr>\n",
       "      <th>张碧莹</th>\n",
       "      <td>100029111514436</td>\n",
       "      <td>426</td>\n",
       "      <td>298</td>\n",
       "      <td>85.18</td>\n",
       "    </tr>\n",
       "    <tr>\n",
       "      <th>卢子腾</th>\n",
       "      <td>100029111515802</td>\n",
       "      <td>411</td>\n",
       "      <td>316</td>\n",
       "      <td>84.63</td>\n",
       "    </tr>\n",
       "    <tr>\n",
       "      <th>王馨韬</th>\n",
       "      <td>100029111502996</td>\n",
       "      <td>415</td>\n",
       "      <td>308</td>\n",
       "      <td>84.50</td>\n",
       "    </tr>\n",
       "    <tr>\n",
       "      <th>崔楚乔</th>\n",
       "      <td>100029111512680</td>\n",
       "      <td>417</td>\n",
       "      <td>290</td>\n",
       "      <td>83.24</td>\n",
       "    </tr>\n",
       "    <tr>\n",
       "      <th>马宁</th>\n",
       "      <td>100029111503009</td>\n",
       "      <td>404</td>\n",
       "      <td>309</td>\n",
       "      <td>83.05</td>\n",
       "    </tr>\n",
       "    <tr>\n",
       "      <th>张浩博</th>\n",
       "      <td>100029111503068</td>\n",
       "      <td>398</td>\n",
       "      <td>317</td>\n",
       "      <td>82.89</td>\n",
       "    </tr>\n",
       "    <tr>\n",
       "      <th>吴昆</th>\n",
       "      <td>100029111519527</td>\n",
       "      <td>407</td>\n",
       "      <td>301</td>\n",
       "      <td>82.78</td>\n",
       "    </tr>\n",
       "    <tr>\n",
       "      <th>林家嗣</th>\n",
       "      <td>100029111520953</td>\n",
       "      <td>393</td>\n",
       "      <td>316</td>\n",
       "      <td>82.11</td>\n",
       "    </tr>\n",
       "    <tr>\n",
       "      <th>程明远</th>\n",
       "      <td>100029111515743</td>\n",
       "      <td>408</td>\n",
       "      <td>291</td>\n",
       "      <td>82.06</td>\n",
       "    </tr>\n",
       "    <tr>\n",
       "      <th>陶萱</th>\n",
       "      <td>100029111514078</td>\n",
       "      <td>405</td>\n",
       "      <td>292</td>\n",
       "      <td>81.73</td>\n",
       "    </tr>\n",
       "    <tr>\n",
       "      <th>周靓</th>\n",
       "      <td>100029111513125</td>\n",
       "      <td>406</td>\n",
       "      <td>289</td>\n",
       "      <td>81.61</td>\n",
       "    </tr>\n",
       "    <tr>\n",
       "      <th>张振轩</th>\n",
       "      <td>100029111502983</td>\n",
       "      <td>406</td>\n",
       "      <td>289</td>\n",
       "      <td>81.61</td>\n",
       "    </tr>\n",
       "    <tr>\n",
       "      <th>李小凤</th>\n",
       "      <td>100029111512329</td>\n",
       "      <td>411</td>\n",
       "      <td>280</td>\n",
       "      <td>81.54</td>\n",
       "    </tr>\n",
       "    <tr>\n",
       "      <th>杜新宇</th>\n",
       "      <td>100029111516871</td>\n",
       "      <td>403</td>\n",
       "      <td>291</td>\n",
       "      <td>81.36</td>\n",
       "    </tr>\n",
       "    <tr>\n",
       "      <th>隋尚廷</th>\n",
       "      <td>100029111512831</td>\n",
       "      <td>405</td>\n",
       "      <td>287</td>\n",
       "      <td>81.30</td>\n",
       "    </tr>\n",
       "    <tr>\n",
       "      <th>宋梦馨</th>\n",
       "      <td>100029111523551</td>\n",
       "      <td>398</td>\n",
       "      <td>298</td>\n",
       "      <td>81.26</td>\n",
       "    </tr>\n",
       "    <tr>\n",
       "      <th>陈衎</th>\n",
       "      <td>100029111513601</td>\n",
       "      <td>394</td>\n",
       "      <td>296</td>\n",
       "      <td>80.53</td>\n",
       "    </tr>\n",
       "    <tr>\n",
       "      <th>徐子晴</th>\n",
       "      <td>100029111513599</td>\n",
       "      <td>387</td>\n",
       "      <td>306</td>\n",
       "      <td>80.41</td>\n",
       "    </tr>\n",
       "    <tr>\n",
       "      <th>黄晓菲</th>\n",
       "      <td>100029111522718</td>\n",
       "      <td>400</td>\n",
       "      <td>284</td>\n",
       "      <td>80.34</td>\n",
       "    </tr>\n",
       "    <tr>\n",
       "      <th>焦渝</th>\n",
       "      <td>100029111523237</td>\n",
       "      <td>397</td>\n",
       "      <td>285</td>\n",
       "      <td>80.01</td>\n",
       "    </tr>\n",
       "    <tr>\n",
       "      <th>舒嘉仪</th>\n",
       "      <td>100029111523099</td>\n",
       "      <td>397</td>\n",
       "      <td>284</td>\n",
       "      <td>79.92</td>\n",
       "    </tr>\n",
       "    <tr>\n",
       "      <th>侯恒悦</th>\n",
       "      <td>100029111503042</td>\n",
       "      <td>391</td>\n",
       "      <td>293</td>\n",
       "      <td>79.85</td>\n",
       "    </tr>\n",
       "    <tr>\n",
       "      <th>林佳茗</th>\n",
       "      <td>100029111514074</td>\n",
       "      <td>397</td>\n",
       "      <td>283</td>\n",
       "      <td>79.84</td>\n",
       "    </tr>\n",
       "    <tr>\n",
       "      <th>冷雨轩</th>\n",
       "      <td>100029111516590</td>\n",
       "      <td>386</td>\n",
       "      <td>300</td>\n",
       "      <td>79.75</td>\n",
       "    </tr>\n",
       "    <tr>\n",
       "      <th>杨睿</th>\n",
       "      <td>100029111513615</td>\n",
       "      <td>387</td>\n",
       "      <td>298</td>\n",
       "      <td>79.72</td>\n",
       "    </tr>\n",
       "    <tr>\n",
       "      <th>张力文</th>\n",
       "      <td>100029111513591</td>\n",
       "      <td>382</td>\n",
       "      <td>306</td>\n",
       "      <td>79.71</td>\n",
       "    </tr>\n",
       "    <tr>\n",
       "      <th>李文俊</th>\n",
       "      <td>100029111502968</td>\n",
       "      <td>393</td>\n",
       "      <td>288</td>\n",
       "      <td>79.71</td>\n",
       "    </tr>\n",
       "    <tr>\n",
       "      <th>郭宇</th>\n",
       "      <td>100029111503037</td>\n",
       "      <td>399</td>\n",
       "      <td>278</td>\n",
       "      <td>79.69</td>\n",
       "    </tr>\n",
       "    <tr>\n",
       "      <th>庄艳阳</th>\n",
       "      <td>100029111503006</td>\n",
       "      <td>405</td>\n",
       "      <td>267</td>\n",
       "      <td>79.59</td>\n",
       "    </tr>\n",
       "    <tr>\n",
       "      <th>吕婧悦</th>\n",
       "      <td>100029111509965</td>\n",
       "      <td>393</td>\n",
       "      <td>286</td>\n",
       "      <td>79.53</td>\n",
       "    </tr>\n",
       "    <tr>\n",
       "      <th>周睿</th>\n",
       "      <td>100029111520160</td>\n",
       "      <td>401</td>\n",
       "      <td>272</td>\n",
       "      <td>79.45</td>\n",
       "    </tr>\n",
       "    <tr>\n",
       "      <th>陈炫廷</th>\n",
       "      <td>100029111525214</td>\n",
       "      <td>391</td>\n",
       "      <td>287</td>\n",
       "      <td>79.34</td>\n",
       "    </tr>\n",
       "    <tr>\n",
       "      <th>刘铭宇</th>\n",
       "      <td>100029111503049</td>\n",
       "      <td>394</td>\n",
       "      <td>282</td>\n",
       "      <td>79.33</td>\n",
       "    </tr>\n",
       "    <tr>\n",
       "      <th>刘佳瑞</th>\n",
       "      <td>100029111516867</td>\n",
       "      <td>390</td>\n",
       "      <td>288</td>\n",
       "      <td>79.29</td>\n",
       "    </tr>\n",
       "    <tr>\n",
       "      <th>王硕</th>\n",
       "      <td>100029111513608</td>\n",
       "      <td>389</td>\n",
       "      <td>289</td>\n",
       "      <td>79.23</td>\n",
       "    </tr>\n",
       "    <tr>\n",
       "      <th>苗雨</th>\n",
       "      <td>100029111518068</td>\n",
       "      <td>386</td>\n",
       "      <td>293</td>\n",
       "      <td>79.15</td>\n",
       "    </tr>\n",
       "    <tr>\n",
       "      <th>黄楚雯</th>\n",
       "      <td>100029111516359</td>\n",
       "      <td>387</td>\n",
       "      <td>290</td>\n",
       "      <td>79.04</td>\n",
       "    </tr>\n",
       "    <tr>\n",
       "      <th>赵廷蓉</th>\n",
       "      <td>100029111516202</td>\n",
       "      <td>389</td>\n",
       "      <td>286</td>\n",
       "      <td>78.97</td>\n",
       "    </tr>\n",
       "    <tr>\n",
       "      <th>杨鸣</th>\n",
       "      <td>100029111503043</td>\n",
       "      <td>384</td>\n",
       "      <td>294</td>\n",
       "      <td>78.96</td>\n",
       "    </tr>\n",
       "    <tr>\n",
       "      <th>王霈</th>\n",
       "      <td>100029111524223</td>\n",
       "      <td>387</td>\n",
       "      <td>289</td>\n",
       "      <td>78.95</td>\n",
       "    </tr>\n",
       "    <tr>\n",
       "      <th>陈士翀</th>\n",
       "      <td>100029111503018</td>\n",
       "      <td>389</td>\n",
       "      <td>284</td>\n",
       "      <td>78.80</td>\n",
       "    </tr>\n",
       "    <tr>\n",
       "      <th>武晓佳</th>\n",
       "      <td>100029111511131</td>\n",
       "      <td>393</td>\n",
       "      <td>277</td>\n",
       "      <td>78.76</td>\n",
       "    </tr>\n",
       "    <tr>\n",
       "      <th>刘美溪</th>\n",
       "      <td>100029111502987</td>\n",
       "      <td>388</td>\n",
       "      <td>283</td>\n",
       "      <td>78.58</td>\n",
       "    </tr>\n",
       "    <tr>\n",
       "      <th>曹丽敏</th>\n",
       "      <td>100029111503046</td>\n",
       "      <td>398</td>\n",
       "      <td>265</td>\n",
       "      <td>78.43</td>\n",
       "    </tr>\n",
       "    <tr>\n",
       "      <th>陈珍琪</th>\n",
       "      <td>100029111515425</td>\n",
       "      <td>398</td>\n",
       "      <td>265</td>\n",
       "      <td>78.43</td>\n",
       "    </tr>\n",
       "    <tr>\n",
       "      <th>孔德会</th>\n",
       "      <td>100029111503047</td>\n",
       "      <td>391</td>\n",
       "      <td>276</td>\n",
       "      <td>78.40</td>\n",
       "    </tr>\n",
       "    <tr>\n",
       "      <th>夏玉</th>\n",
       "      <td>100029111525443</td>\n",
       "      <td>386</td>\n",
       "      <td>283</td>\n",
       "      <td>78.30</td>\n",
       "    </tr>\n",
       "    <tr>\n",
       "      <th>邓让</th>\n",
       "      <td>100029111513607</td>\n",
       "      <td>389</td>\n",
       "      <td>276</td>\n",
       "      <td>78.12</td>\n",
       "    </tr>\n",
       "    <tr>\n",
       "      <th>常佩佩</th>\n",
       "      <td>100029111518704</td>\n",
       "      <td>395</td>\n",
       "      <td>266</td>\n",
       "      <td>78.10</td>\n",
       "    </tr>\n",
       "    <tr>\n",
       "      <th>谢欣妮</th>\n",
       "      <td>100029111516356</td>\n",
       "      <td>388</td>\n",
       "      <td>277</td>\n",
       "      <td>78.06</td>\n",
       "    </tr>\n",
       "    <tr>\n",
       "      <th>张萌</th>\n",
       "      <td>100029111518261</td>\n",
       "      <td>388</td>\n",
       "      <td>276</td>\n",
       "      <td>77.98</td>\n",
       "    </tr>\n",
       "    <tr>\n",
       "      <th>韩玉豪</th>\n",
       "      <td>100029111516029</td>\n",
       "      <td>387</td>\n",
       "      <td>276</td>\n",
       "      <td>77.84</td>\n",
       "    </tr>\n",
       "    <tr>\n",
       "      <th>张戈辉</th>\n",
       "      <td>100029111510937</td>\n",
       "      <td>393</td>\n",
       "      <td>266</td>\n",
       "      <td>77.82</td>\n",
       "    </tr>\n",
       "    <tr>\n",
       "      <th>曹运铎</th>\n",
       "      <td>100029111513606</td>\n",
       "      <td>388</td>\n",
       "      <td>274</td>\n",
       "      <td>77.81</td>\n",
       "    </tr>\n",
       "    <tr>\n",
       "      <th>常海晴</th>\n",
       "      <td>100029111514071</td>\n",
       "      <td>389</td>\n",
       "      <td>272</td>\n",
       "      <td>77.77</td>\n",
       "    </tr>\n",
       "    <tr>\n",
       "      <th>芦欣楠</th>\n",
       "      <td>100029111509739</td>\n",
       "      <td>384</td>\n",
       "      <td>280</td>\n",
       "      <td>77.76</td>\n",
       "    </tr>\n",
       "    <tr>\n",
       "      <th>陈思宇</th>\n",
       "      <td>100029111513462</td>\n",
       "      <td>392</td>\n",
       "      <td>265</td>\n",
       "      <td>77.59</td>\n",
       "    </tr>\n",
       "    <tr>\n",
       "      <th>仇新慧</th>\n",
       "      <td>100029111516870</td>\n",
       "      <td>387</td>\n",
       "      <td>273</td>\n",
       "      <td>77.58</td>\n",
       "    </tr>\n",
       "    <tr>\n",
       "      <th>杨名婧</th>\n",
       "      <td>100029111502930</td>\n",
       "      <td>368</td>\n",
       "      <td>252</td>\n",
       "      <td>73.12</td>\n",
       "    </tr>\n",
       "  </tbody>\n",
       "</table>\n",
       "</div>"
      ],
      "text/plain": [
       "                  num  firscore  secscore  totalscore\n",
       "name                                                 \n",
       "张碧莹   100029111514436       426       298       85.18\n",
       "卢子腾   100029111515802       411       316       84.63\n",
       "王馨韬   100029111502996       415       308       84.50\n",
       "崔楚乔   100029111512680       417       290       83.24\n",
       "马宁    100029111503009       404       309       83.05\n",
       "张浩博   100029111503068       398       317       82.89\n",
       "吴昆    100029111519527       407       301       82.78\n",
       "林家嗣   100029111520953       393       316       82.11\n",
       "程明远   100029111515743       408       291       82.06\n",
       "陶萱    100029111514078       405       292       81.73\n",
       "周靓    100029111513125       406       289       81.61\n",
       "张振轩   100029111502983       406       289       81.61\n",
       "李小凤   100029111512329       411       280       81.54\n",
       "杜新宇   100029111516871       403       291       81.36\n",
       "隋尚廷   100029111512831       405       287       81.30\n",
       "宋梦馨   100029111523551       398       298       81.26\n",
       "陈衎    100029111513601       394       296       80.53\n",
       "徐子晴   100029111513599       387       306       80.41\n",
       "黄晓菲   100029111522718       400       284       80.34\n",
       "焦渝    100029111523237       397       285       80.01\n",
       "舒嘉仪   100029111523099       397       284       79.92\n",
       "侯恒悦   100029111503042       391       293       79.85\n",
       "林佳茗   100029111514074       397       283       79.84\n",
       "冷雨轩   100029111516590       386       300       79.75\n",
       "杨睿    100029111513615       387       298       79.72\n",
       "张力文   100029111513591       382       306       79.71\n",
       "李文俊   100029111502968       393       288       79.71\n",
       "郭宇    100029111503037       399       278       79.69\n",
       "庄艳阳   100029111503006       405       267       79.59\n",
       "吕婧悦   100029111509965       393       286       79.53\n",
       "周睿    100029111520160       401       272       79.45\n",
       "陈炫廷   100029111525214       391       287       79.34\n",
       "刘铭宇   100029111503049       394       282       79.33\n",
       "刘佳瑞   100029111516867       390       288       79.29\n",
       "王硕    100029111513608       389       289       79.23\n",
       "苗雨    100029111518068       386       293       79.15\n",
       "黄楚雯   100029111516359       387       290       79.04\n",
       "赵廷蓉   100029111516202       389       286       78.97\n",
       "杨鸣    100029111503043       384       294       78.96\n",
       "王霈    100029111524223       387       289       78.95\n",
       "陈士翀   100029111503018       389       284       78.80\n",
       "武晓佳   100029111511131       393       277       78.76\n",
       "刘美溪   100029111502987       388       283       78.58\n",
       "曹丽敏   100029111503046       398       265       78.43\n",
       "陈珍琪   100029111515425       398       265       78.43\n",
       "孔德会   100029111503047       391       276       78.40\n",
       "夏玉    100029111525443       386       283       78.30\n",
       "邓让    100029111513607       389       276       78.12\n",
       "常佩佩   100029111518704       395       266       78.10\n",
       "谢欣妮   100029111516356       388       277       78.06\n",
       "张萌    100029111518261       388       276       77.98\n",
       "韩玉豪   100029111516029       387       276       77.84\n",
       "张戈辉   100029111510937       393       266       77.82\n",
       "曹运铎   100029111513606       388       274       77.81\n",
       "常海晴   100029111514071       389       272       77.77\n",
       "芦欣楠   100029111509739       384       280       77.76\n",
       "陈思宇   100029111513462       392       265       77.59\n",
       "仇新慧   100029111516870       387       273       77.58\n",
       "杨名婧   100029111502930       368       252       73.12"
      ]
     },
     "execution_count": 15,
     "metadata": {},
     "output_type": "execute_result"
    }
   ],
   "source": [
    "gre_ruc"
   ]
  },
  {
   "cell_type": "code",
   "execution_count": 16,
   "metadata": {},
   "outputs": [
    {
     "data": {
      "text/plain": [
       "name\n",
       "张碧莹    85.18\n",
       "卢子腾    84.63\n",
       "王馨韬    84.50\n",
       "崔楚乔    83.24\n",
       "马宁     83.05\n",
       "张浩博    82.89\n",
       "吴昆     82.78\n",
       "林家嗣    82.11\n",
       "程明远    82.06\n",
       "陶萱     81.73\n",
       "周靓     81.61\n",
       "张振轩    81.61\n",
       "李小凤    81.54\n",
       "杜新宇    81.36\n",
       "隋尚廷    81.30\n",
       "宋梦馨    81.26\n",
       "陈衎     80.53\n",
       "徐子晴    80.41\n",
       "黄晓菲    80.34\n",
       "焦渝     80.01\n",
       "舒嘉仪    79.92\n",
       "侯恒悦    79.85\n",
       "林佳茗    79.84\n",
       "冷雨轩    79.75\n",
       "杨睿     79.72\n",
       "张力文    79.71\n",
       "李文俊    79.71\n",
       "郭宇     79.69\n",
       "庄艳阳    79.59\n",
       "吕婧悦    79.53\n",
       "周睿     79.45\n",
       "陈炫廷    79.34\n",
       "刘铭宇    79.33\n",
       "刘佳瑞    79.29\n",
       "王硕     79.23\n",
       "苗雨     79.15\n",
       "黄楚雯    79.04\n",
       "赵廷蓉    78.97\n",
       "杨鸣     78.96\n",
       "王霈     78.95\n",
       "陈士翀    78.80\n",
       "武晓佳    78.76\n",
       "刘美溪    78.58\n",
       "曹丽敏    78.43\n",
       "陈珍琪    78.43\n",
       "孔德会    78.40\n",
       "夏玉     78.30\n",
       "邓让     78.12\n",
       "常佩佩    78.10\n",
       "谢欣妮    78.06\n",
       "张萌     77.98\n",
       "韩玉豪    77.84\n",
       "张戈辉    77.82\n",
       "曹运铎    77.81\n",
       "常海晴    77.77\n",
       "芦欣楠    77.76\n",
       "陈思宇    77.59\n",
       "仇新慧    77.58\n",
       "杨名婧    73.12\n",
       "Name: totalscore, dtype: float64"
      ]
     },
     "execution_count": 16,
     "metadata": {},
     "output_type": "execute_result"
    }
   ],
   "source": [
    "gre_ruc['totalscore']"
   ]
  },
  {
   "cell_type": "code",
   "execution_count": 17,
   "metadata": {},
   "outputs": [
    {
     "data": {
      "text/plain": [
       "num           1.000291e+14\n",
       "firscore      4.060000e+02\n",
       "secscore      2.890000e+02\n",
       "totalscore    8.161000e+01\n",
       "Name: 张振轩, dtype: float64"
      ]
     },
     "execution_count": 17,
     "metadata": {},
     "output_type": "execute_result"
    }
   ],
   "source": [
    "gre_ruc.loc['张振轩']"
   ]
  },
  {
   "cell_type": "markdown",
   "metadata": {},
   "source": [
    "## pandas的轴 "
   ]
  },
  {
   "cell_type": "code",
   "execution_count": 21,
   "metadata": {},
   "outputs": [
    {
     "data": {
      "text/plain": [
       "pol      68.8\n",
       "eng      77.2\n",
       "math    137.6\n",
       "stat    118.4\n",
       "dtype: float64"
      ]
     },
     "execution_count": 21,
     "metadata": {},
     "output_type": "execute_result"
    }
   ],
   "source": [
    "gre_scores = pd.DataFrame({\n",
    "    \n",
    "    'pol':[73,65,71,67,68],\n",
    "    'eng':[82,73,75,67,89],\n",
    "    'math':[137,143,141,139,128],\n",
    "    'stat':[114,150,94,119,115]\n",
    "},index = ['zzx','zq','ysc','xjy','xjl'],)\n",
    "\n",
    "gre_scores.mean()\n"
   ]
  },
  {
   "cell_type": "code",
   "execution_count": 22,
   "metadata": {},
   "outputs": [
    {
     "data": {
      "text/plain": [
       "pol      73\n",
       "eng      89\n",
       "math    143\n",
       "stat    150\n",
       "dtype: int64"
      ]
     },
     "execution_count": 22,
     "metadata": {},
     "output_type": "execute_result"
    }
   ],
   "source": [
    "gre_scores.max()"
   ]
  },
  {
   "cell_type": "code",
   "execution_count": 23,
   "metadata": {},
   "outputs": [
    {
     "data": {
      "text/plain": [
       "zzx    101.50\n",
       "zq     107.75\n",
       "ysc     95.25\n",
       "xjy     98.00\n",
       "xjl    100.00\n",
       "dtype: float64"
      ]
     },
     "execution_count": 23,
     "metadata": {},
     "output_type": "execute_result"
    }
   ],
   "source": [
    "gre_scores.mean(axis = 1)"
   ]
  },
  {
   "cell_type": "code",
   "execution_count": 26,
   "metadata": {},
   "outputs": [
    {
     "data": {
      "text/plain": [
       "pol      68.8\n",
       "eng      77.2\n",
       "math    137.6\n",
       "stat    118.4\n",
       "dtype: float64"
      ]
     },
     "execution_count": 26,
     "metadata": {},
     "output_type": "execute_result"
    }
   ],
   "source": [
    "gre_scores.mean(axis = 'index')"
   ]
  },
  {
   "cell_type": "markdown",
   "metadata": {},
   "source": [
    "## df向量化计算 "
   ]
  },
  {
   "cell_type": "code",
   "execution_count": 3,
   "metadata": {},
   "outputs": [],
   "source": [
    "import pandas as pd "
   ]
  },
  {
   "cell_type": "markdown",
   "metadata": {},
   "source": [
    "同series计算\n",
    "\n",
    "通过Index计算，而非位置"
   ]
  },
  {
   "cell_type": "markdown",
   "metadata": {},
   "source": [
    "## applymap,apply "
   ]
  },
  {
   "cell_type": "markdown",
   "metadata": {},
   "source": [
    "applymap 对df中每个元素作用\n",
    "\n",
    "apply 对df每一列作用"
   ]
  },
  {
   "cell_type": "code",
   "execution_count": 4,
   "metadata": {},
   "outputs": [],
   "source": [
    "import pandas as pd \n",
    "gre_scores = pd.DataFrame({\n",
    "    \n",
    "    'pol':[73,65,71,67,68],\n",
    "    'eng':[82,73,75,67,89],\n",
    "    'math':[137,143,141,139,128],\n",
    "    'stat':[114,150,94,119,115]\n",
    "},index = ['zzx','zq','ysc','xjy','xjl'],)\n"
   ]
  },
  {
   "cell_type": "code",
   "execution_count": 8,
   "metadata": {},
   "outputs": [
    {
     "data": {
      "text/plain": [
       "pol      73\n",
       "eng      89\n",
       "math    143\n",
       "stat    150\n",
       "dtype: int64"
      ]
     },
     "execution_count": 8,
     "metadata": {},
     "output_type": "execute_result"
    }
   ],
   "source": [
    "gre_scores.apply(max)"
   ]
  },
  {
   "cell_type": "code",
   "execution_count": 9,
   "metadata": {},
   "outputs": [
    {
     "data": {
      "text/plain": [
       "zzx    406\n",
       "zq     431\n",
       "ysc    381\n",
       "xjy    392\n",
       "xjl    400\n",
       "dtype: int64"
      ]
     },
     "execution_count": 9,
     "metadata": {},
     "output_type": "execute_result"
    }
   ],
   "source": [
    "gre_scores.apply(sum,axis=1)"
   ]
  },
  {
   "cell_type": "code",
   "execution_count": 11,
   "metadata": {},
   "outputs": [
    {
     "data": {
      "text/html": [
       "<div>\n",
       "<style scoped>\n",
       "    .dataframe tbody tr th:only-of-type {\n",
       "        vertical-align: middle;\n",
       "    }\n",
       "\n",
       "    .dataframe tbody tr th {\n",
       "        vertical-align: top;\n",
       "    }\n",
       "\n",
       "    .dataframe thead th {\n",
       "        text-align: right;\n",
       "    }\n",
       "</style>\n",
       "<table border=\"1\" class=\"dataframe\">\n",
       "  <thead>\n",
       "    <tr style=\"text-align: right;\">\n",
       "      <th></th>\n",
       "      <th>pol</th>\n",
       "      <th>eng</th>\n",
       "      <th>math</th>\n",
       "      <th>stat</th>\n",
       "    </tr>\n",
       "  </thead>\n",
       "  <tbody>\n",
       "    <tr>\n",
       "      <th>zzx</th>\n",
       "      <td>B</td>\n",
       "      <td>B</td>\n",
       "      <td>A</td>\n",
       "      <td>A</td>\n",
       "    </tr>\n",
       "    <tr>\n",
       "      <th>zq</th>\n",
       "      <td>B</td>\n",
       "      <td>B</td>\n",
       "      <td>A</td>\n",
       "      <td>A</td>\n",
       "    </tr>\n",
       "    <tr>\n",
       "      <th>ysc</th>\n",
       "      <td>B</td>\n",
       "      <td>B</td>\n",
       "      <td>A</td>\n",
       "      <td>B</td>\n",
       "    </tr>\n",
       "    <tr>\n",
       "      <th>xjy</th>\n",
       "      <td>B</td>\n",
       "      <td>B</td>\n",
       "      <td>A</td>\n",
       "      <td>A</td>\n",
       "    </tr>\n",
       "    <tr>\n",
       "      <th>xjl</th>\n",
       "      <td>B</td>\n",
       "      <td>B</td>\n",
       "      <td>A</td>\n",
       "      <td>A</td>\n",
       "    </tr>\n",
       "  </tbody>\n",
       "</table>\n",
       "</div>"
      ],
      "text/plain": [
       "    pol eng math stat\n",
       "zzx   B   B    A    A\n",
       "zq    B   B    A    A\n",
       "ysc   B   B    A    B\n",
       "xjy   B   B    A    A\n",
       "xjl   B   B    A    A"
      ]
     },
     "execution_count": 11,
     "metadata": {},
     "output_type": "execute_result"
    }
   ],
   "source": [
    "def excell(value):\n",
    "    if value > 100:\n",
    "        return 'A'\n",
    "    else:\n",
    "        return 'B'\n",
    "gre_scores.applymap(excell)"
   ]
  },
  {
   "cell_type": "markdown",
   "metadata": {},
   "source": [
    "###  确定每科的优秀程度"
   ]
  },
  {
   "cell_type": "code",
   "execution_count": 12,
   "metadata": {},
   "outputs": [],
   "source": [
    "# 按列确定优秀\n",
    "\n",
    "def cell_largethanmean(bool_v):\n",
    "    if bool_v:\n",
    "        return 'A'\n",
    "    else:\n",
    "        return 'B'\n",
    "\n",
    "def largerthanmean(num):\n",
    "    mean = num.mean()\n",
    "    return num > mean\n",
    "\n"
   ]
  },
  {
   "cell_type": "code",
   "execution_count": 15,
   "metadata": {},
   "outputs": [
    {
     "data": {
      "text/html": [
       "<div>\n",
       "<style scoped>\n",
       "    .dataframe tbody tr th:only-of-type {\n",
       "        vertical-align: middle;\n",
       "    }\n",
       "\n",
       "    .dataframe tbody tr th {\n",
       "        vertical-align: top;\n",
       "    }\n",
       "\n",
       "    .dataframe thead th {\n",
       "        text-align: right;\n",
       "    }\n",
       "</style>\n",
       "<table border=\"1\" class=\"dataframe\">\n",
       "  <thead>\n",
       "    <tr style=\"text-align: right;\">\n",
       "      <th></th>\n",
       "      <th>pol</th>\n",
       "      <th>eng</th>\n",
       "      <th>math</th>\n",
       "      <th>stat</th>\n",
       "    </tr>\n",
       "  </thead>\n",
       "  <tbody>\n",
       "    <tr>\n",
       "      <th>zzx</th>\n",
       "      <td>True</td>\n",
       "      <td>True</td>\n",
       "      <td>False</td>\n",
       "      <td>False</td>\n",
       "    </tr>\n",
       "    <tr>\n",
       "      <th>zq</th>\n",
       "      <td>False</td>\n",
       "      <td>False</td>\n",
       "      <td>True</td>\n",
       "      <td>True</td>\n",
       "    </tr>\n",
       "    <tr>\n",
       "      <th>ysc</th>\n",
       "      <td>True</td>\n",
       "      <td>False</td>\n",
       "      <td>True</td>\n",
       "      <td>False</td>\n",
       "    </tr>\n",
       "    <tr>\n",
       "      <th>xjy</th>\n",
       "      <td>False</td>\n",
       "      <td>False</td>\n",
       "      <td>True</td>\n",
       "      <td>True</td>\n",
       "    </tr>\n",
       "    <tr>\n",
       "      <th>xjl</th>\n",
       "      <td>False</td>\n",
       "      <td>True</td>\n",
       "      <td>False</td>\n",
       "      <td>False</td>\n",
       "    </tr>\n",
       "  </tbody>\n",
       "</table>\n",
       "</div>"
      ],
      "text/plain": [
       "       pol    eng   math   stat\n",
       "zzx   True   True  False  False\n",
       "zq   False  False   True   True\n",
       "ysc   True  False   True  False\n",
       "xjy  False  False   True   True\n",
       "xjl  False   True  False  False"
      ]
     },
     "execution_count": 15,
     "metadata": {},
     "output_type": "execute_result"
    }
   ],
   "source": [
    "gre_scores.apply(largerthanmean)"
   ]
  },
  {
   "cell_type": "code",
   "execution_count": 16,
   "metadata": {},
   "outputs": [
    {
     "data": {
      "text/html": [
       "<div>\n",
       "<style scoped>\n",
       "    .dataframe tbody tr th:only-of-type {\n",
       "        vertical-align: middle;\n",
       "    }\n",
       "\n",
       "    .dataframe tbody tr th {\n",
       "        vertical-align: top;\n",
       "    }\n",
       "\n",
       "    .dataframe thead th {\n",
       "        text-align: right;\n",
       "    }\n",
       "</style>\n",
       "<table border=\"1\" class=\"dataframe\">\n",
       "  <thead>\n",
       "    <tr style=\"text-align: right;\">\n",
       "      <th></th>\n",
       "      <th>pol</th>\n",
       "      <th>eng</th>\n",
       "      <th>math</th>\n",
       "      <th>stat</th>\n",
       "    </tr>\n",
       "  </thead>\n",
       "  <tbody>\n",
       "    <tr>\n",
       "      <th>zzx</th>\n",
       "      <td>A</td>\n",
       "      <td>A</td>\n",
       "      <td>B</td>\n",
       "      <td>B</td>\n",
       "    </tr>\n",
       "    <tr>\n",
       "      <th>zq</th>\n",
       "      <td>B</td>\n",
       "      <td>B</td>\n",
       "      <td>A</td>\n",
       "      <td>A</td>\n",
       "    </tr>\n",
       "    <tr>\n",
       "      <th>ysc</th>\n",
       "      <td>A</td>\n",
       "      <td>B</td>\n",
       "      <td>A</td>\n",
       "      <td>B</td>\n",
       "    </tr>\n",
       "    <tr>\n",
       "      <th>xjy</th>\n",
       "      <td>B</td>\n",
       "      <td>B</td>\n",
       "      <td>A</td>\n",
       "      <td>A</td>\n",
       "    </tr>\n",
       "    <tr>\n",
       "      <th>xjl</th>\n",
       "      <td>B</td>\n",
       "      <td>A</td>\n",
       "      <td>B</td>\n",
       "      <td>B</td>\n",
       "    </tr>\n",
       "  </tbody>\n",
       "</table>\n",
       "</div>"
      ],
      "text/plain": [
       "    pol eng math stat\n",
       "zzx   A   A    B    B\n",
       "zq    B   B    A    A\n",
       "ysc   A   B    A    B\n",
       "xjy   B   B    A    A\n",
       "xjl   B   A    B    B"
      ]
     },
     "execution_count": 16,
     "metadata": {},
     "output_type": "execute_result"
    }
   ],
   "source": [
    "gre_scores.apply(largerthanmean).applymap(cell_largethanmean)"
   ]
  },
  {
   "cell_type": "markdown",
   "metadata": {},
   "source": [
    "###  确定每科的最高与最低分差值"
   ]
  },
  {
   "cell_type": "code",
   "execution_count": 20,
   "metadata": {},
   "outputs": [],
   "source": [
    "def gap_between_maxandmin(num):\n",
    "    return num.idxmax()+'-'+num.idxmin()+'='+str(num.max()-num.min())"
   ]
  },
  {
   "cell_type": "code",
   "execution_count": 21,
   "metadata": {},
   "outputs": [
    {
     "data": {
      "text/plain": [
       "pol       zzx-zq=8\n",
       "eng     xjl-xjy=22\n",
       "math     zq-xjl=15\n",
       "stat     zq-ysc=56\n",
       "dtype: object"
      ]
     },
     "execution_count": 21,
     "metadata": {},
     "output_type": "execute_result"
    }
   ],
   "source": [
    "gre_scores.apply(gap_between_maxandmin)"
   ]
  },
  {
   "cell_type": "markdown",
   "metadata": {},
   "source": [
    "## Series运算 "
   ]
  },
  {
   "cell_type": "code",
   "execution_count": 29,
   "metadata": {},
   "outputs": [
    {
     "name": "stdout",
     "output_type": "stream",
     "text": [
      "     pol  eng  math  stat\n",
      "zzx   73   82   137   114\n",
      "zq    65   73   143   150\n",
      "ysc   71   75   141    94\n",
      "xjy   67   67   139   119\n",
      "xjl   68   89   128   115\n",
      "\n",
      "\n",
      "     pol  eng  math  stat\n",
      "zzx   74   84   140   118\n",
      "zq    66   75   146   154\n",
      "ysc   72   77   144    98\n",
      "xjy   68   69   142   123\n",
      "xjl   69   91   131   119\n"
     ]
    }
   ],
   "source": [
    "s = pd.Series([1,2,3,4],index = ['pol','eng','math','stat'])\n",
    "print(gre_scores)\n",
    "print('\\n')\n",
    "print(gre_scores + s)"
   ]
  },
  {
   "cell_type": "markdown",
   "metadata": {},
   "source": [
    "series与df相加按行标签相加"
   ]
  },
  {
   "cell_type": "code",
   "execution_count": 40,
   "metadata": {},
   "outputs": [
    {
     "name": "stdout",
     "output_type": "stream",
     "text": [
      "   pol  eng  math  stat\n",
      "0   73   82   137   114\n",
      "1   65   73   143   150\n",
      "2   71   75   141    94\n",
      "3   67   67   139   119\n",
      "4   68   89   128   115\n",
      "\n",
      "\n",
      "   pol  eng  math  stat\n",
      "0   74   83   138   115\n",
      "1   67   75   145   152\n",
      "2   74   78   144    97\n",
      "3   71   71   143   123\n",
      "4   73   94   133   120\n"
     ]
    }
   ],
   "source": [
    "s = pd.Series([1,2,3,4,5])\n",
    "gre_scores = pd.DataFrame({\n",
    "    \n",
    "    'pol':[73,65,71,67,68],\n",
    "    'eng':[82,73,75,67,89],\n",
    "    'math':[137,143,141,139,128],\n",
    "    'stat':[114,150,94,119,115]\n",
    "})\n",
    "print(gre_scores)\n",
    "print('\\n')\n",
    "print(gre_scores.add(s,axis=0))"
   ]
  },
  {
   "cell_type": "markdown",
   "metadata": {},
   "source": [
    "使用add按列相加"
   ]
  },
  {
   "cell_type": "markdown",
   "metadata": {},
   "source": [
    "原则上Series索引值与df列名相同的项进行相加\n",
    "\n",
    "add(),sub(),mul(),div()"
   ]
  },
  {
   "cell_type": "markdown",
   "metadata": {},
   "source": [
    "## groupby "
   ]
  },
  {
   "cell_type": "code",
   "execution_count": 43,
   "metadata": {},
   "outputs": [],
   "source": [
    "import pandas as pd \n",
    "gre_scores = pd.DataFrame({\n",
    "    \n",
    "    'sch':['pku','ruc','cufe','pku','ruc','cufe'],\n",
    "    'sub':['math','math','math','stat','stat','stat'],\n",
    "    'score':[143,137,136,150,114,110],\n",
    "    'class':['应统','应统','金数','应统','应统','金数']\n",
    "})\n"
   ]
  },
  {
   "cell_type": "code",
   "execution_count": 44,
   "metadata": {},
   "outputs": [
    {
     "data": {
      "text/html": [
       "<div>\n",
       "<style scoped>\n",
       "    .dataframe tbody tr th:only-of-type {\n",
       "        vertical-align: middle;\n",
       "    }\n",
       "\n",
       "    .dataframe tbody tr th {\n",
       "        vertical-align: top;\n",
       "    }\n",
       "\n",
       "    .dataframe thead th {\n",
       "        text-align: right;\n",
       "    }\n",
       "</style>\n",
       "<table border=\"1\" class=\"dataframe\">\n",
       "  <thead>\n",
       "    <tr style=\"text-align: right;\">\n",
       "      <th></th>\n",
       "      <th>sch</th>\n",
       "      <th>sub</th>\n",
       "      <th>score</th>\n",
       "      <th>class</th>\n",
       "    </tr>\n",
       "  </thead>\n",
       "  <tbody>\n",
       "    <tr>\n",
       "      <th>0</th>\n",
       "      <td>pku</td>\n",
       "      <td>math</td>\n",
       "      <td>143</td>\n",
       "      <td>应统</td>\n",
       "    </tr>\n",
       "    <tr>\n",
       "      <th>1</th>\n",
       "      <td>ruc</td>\n",
       "      <td>math</td>\n",
       "      <td>137</td>\n",
       "      <td>应统</td>\n",
       "    </tr>\n",
       "    <tr>\n",
       "      <th>2</th>\n",
       "      <td>cufe</td>\n",
       "      <td>math</td>\n",
       "      <td>136</td>\n",
       "      <td>金数</td>\n",
       "    </tr>\n",
       "    <tr>\n",
       "      <th>3</th>\n",
       "      <td>pku</td>\n",
       "      <td>stat</td>\n",
       "      <td>150</td>\n",
       "      <td>应统</td>\n",
       "    </tr>\n",
       "    <tr>\n",
       "      <th>4</th>\n",
       "      <td>ruc</td>\n",
       "      <td>stat</td>\n",
       "      <td>114</td>\n",
       "      <td>应统</td>\n",
       "    </tr>\n",
       "    <tr>\n",
       "      <th>5</th>\n",
       "      <td>cufe</td>\n",
       "      <td>stat</td>\n",
       "      <td>110</td>\n",
       "      <td>金数</td>\n",
       "    </tr>\n",
       "  </tbody>\n",
       "</table>\n",
       "</div>"
      ],
      "text/plain": [
       "    sch   sub  score class\n",
       "0   pku  math    143    应统\n",
       "1   ruc  math    137    应统\n",
       "2  cufe  math    136    金数\n",
       "3   pku  stat    150    应统\n",
       "4   ruc  stat    114    应统\n",
       "5  cufe  stat    110    金数"
      ]
     },
     "execution_count": 44,
     "metadata": {},
     "output_type": "execute_result"
    }
   ],
   "source": [
    "gre_scores"
   ]
  },
  {
   "cell_type": "code",
   "execution_count": 46,
   "metadata": {},
   "outputs": [
    {
     "data": {
      "text/plain": [
       "sch\n",
       "cufe    246\n",
       "pku     293\n",
       "ruc     251\n",
       "Name: score, dtype: int64"
      ]
     },
     "execution_count": 46,
     "metadata": {},
     "output_type": "execute_result"
    }
   ],
   "source": [
    "gre_scores.groupby('sch').sum()['score']"
   ]
  },
  {
   "cell_type": "code",
   "execution_count": 47,
   "metadata": {},
   "outputs": [
    {
     "data": {
      "text/plain": [
       "<pandas.core.groupby.groupby.DataFrameGroupBy object at 0x00000196050F8470>"
      ]
     },
     "execution_count": 47,
     "metadata": {},
     "output_type": "execute_result"
    }
   ],
   "source": [
    "gre_scores.groupby('sch')"
   ]
  },
  {
   "cell_type": "code",
   "execution_count": 48,
   "metadata": {},
   "outputs": [
    {
     "data": {
      "text/html": [
       "<div>\n",
       "<style scoped>\n",
       "    .dataframe tbody tr th:only-of-type {\n",
       "        vertical-align: middle;\n",
       "    }\n",
       "\n",
       "    .dataframe tbody tr th {\n",
       "        vertical-align: top;\n",
       "    }\n",
       "\n",
       "    .dataframe thead th {\n",
       "        text-align: right;\n",
       "    }\n",
       "</style>\n",
       "<table border=\"1\" class=\"dataframe\">\n",
       "  <thead>\n",
       "    <tr style=\"text-align: right;\">\n",
       "      <th></th>\n",
       "      <th>score</th>\n",
       "    </tr>\n",
       "    <tr>\n",
       "      <th>sch</th>\n",
       "      <th></th>\n",
       "    </tr>\n",
       "  </thead>\n",
       "  <tbody>\n",
       "    <tr>\n",
       "      <th>cufe</th>\n",
       "      <td>246</td>\n",
       "    </tr>\n",
       "    <tr>\n",
       "      <th>pku</th>\n",
       "      <td>293</td>\n",
       "    </tr>\n",
       "    <tr>\n",
       "      <th>ruc</th>\n",
       "      <td>251</td>\n",
       "    </tr>\n",
       "  </tbody>\n",
       "</table>\n",
       "</div>"
      ],
      "text/plain": [
       "      score\n",
       "sch        \n",
       "cufe    246\n",
       "pku     293\n",
       "ruc     251"
      ]
     },
     "execution_count": 48,
     "metadata": {},
     "output_type": "execute_result"
    }
   ],
   "source": [
    "gre_scores.groupby('sch').sum()"
   ]
  },
  {
   "cell_type": "code",
   "execution_count": 49,
   "metadata": {},
   "outputs": [
    {
     "data": {
      "text/plain": [
       "pandas.core.frame.DataFrame"
      ]
     },
     "execution_count": 49,
     "metadata": {},
     "output_type": "execute_result"
    }
   ],
   "source": [
    "type(gre_scores.groupby('sch').sum())"
   ]
  },
  {
   "cell_type": "code",
   "execution_count": 52,
   "metadata": {},
   "outputs": [
    {
     "data": {
      "text/plain": [
       "sch\n",
       "pku     293\n",
       "ruc     251\n",
       "cufe    246\n",
       "Name: score, dtype: int64"
      ]
     },
     "execution_count": 52,
     "metadata": {},
     "output_type": "execute_result"
    }
   ],
   "source": [
    "gre_scores.groupby('sch').sum()['score'].sort_values(ascending=False)"
   ]
  },
  {
   "cell_type": "markdown",
   "metadata": {},
   "source": [
    "## 合并 "
   ]
  },
  {
   "cell_type": "code",
   "execution_count": 53,
   "metadata": {},
   "outputs": [
    {
     "data": {
      "text/html": [
       "<div>\n",
       "<style scoped>\n",
       "    .dataframe tbody tr th:only-of-type {\n",
       "        vertical-align: middle;\n",
       "    }\n",
       "\n",
       "    .dataframe tbody tr th {\n",
       "        vertical-align: top;\n",
       "    }\n",
       "\n",
       "    .dataframe thead th {\n",
       "        text-align: right;\n",
       "    }\n",
       "</style>\n",
       "<table border=\"1\" class=\"dataframe\">\n",
       "  <thead>\n",
       "    <tr style=\"text-align: right;\">\n",
       "      <th></th>\n",
       "      <th>pol</th>\n",
       "      <th>eng</th>\n",
       "      <th>math</th>\n",
       "      <th>stat</th>\n",
       "    </tr>\n",
       "  </thead>\n",
       "  <tbody>\n",
       "    <tr>\n",
       "      <th>zzx</th>\n",
       "      <td>73</td>\n",
       "      <td>82</td>\n",
       "      <td>137</td>\n",
       "      <td>114</td>\n",
       "    </tr>\n",
       "    <tr>\n",
       "      <th>zq</th>\n",
       "      <td>65</td>\n",
       "      <td>73</td>\n",
       "      <td>143</td>\n",
       "      <td>150</td>\n",
       "    </tr>\n",
       "    <tr>\n",
       "      <th>ysc</th>\n",
       "      <td>71</td>\n",
       "      <td>75</td>\n",
       "      <td>141</td>\n",
       "      <td>94</td>\n",
       "    </tr>\n",
       "    <tr>\n",
       "      <th>xjy</th>\n",
       "      <td>67</td>\n",
       "      <td>67</td>\n",
       "      <td>139</td>\n",
       "      <td>119</td>\n",
       "    </tr>\n",
       "    <tr>\n",
       "      <th>xjl</th>\n",
       "      <td>68</td>\n",
       "      <td>89</td>\n",
       "      <td>128</td>\n",
       "      <td>115</td>\n",
       "    </tr>\n",
       "  </tbody>\n",
       "</table>\n",
       "</div>"
      ],
      "text/plain": [
       "     pol  eng  math  stat\n",
       "zzx   73   82   137   114\n",
       "zq    65   73   143   150\n",
       "ysc   71   75   141    94\n",
       "xjy   67   67   139   119\n",
       "xjl   68   89   128   115"
      ]
     },
     "execution_count": 53,
     "metadata": {},
     "output_type": "execute_result"
    }
   ],
   "source": [
    "import pandas as pd\n",
    "\n",
    "gre_scores = pd.DataFrame({\n",
    "    \n",
    "    'pol':[73,65,71,67,68],\n",
    "    'eng':[82,73,75,67,89],\n",
    "    'math':[137,143,141,139,128],\n",
    "    'stat':[114,150,94,119,115]\n",
    "},index = ['zzx','zq','ysc','xjy','xjl'],)\n",
    "\n",
    "gre_scores\n"
   ]
  },
  {
   "cell_type": "code",
   "execution_count": 61,
   "metadata": {},
   "outputs": [
    {
     "data": {
      "text/html": [
       "<div>\n",
       "<style scoped>\n",
       "    .dataframe tbody tr th:only-of-type {\n",
       "        vertical-align: middle;\n",
       "    }\n",
       "\n",
       "    .dataframe tbody tr th {\n",
       "        vertical-align: top;\n",
       "    }\n",
       "\n",
       "    .dataframe thead th {\n",
       "        text-align: right;\n",
       "    }\n",
       "</style>\n",
       "<table border=\"1\" class=\"dataframe\">\n",
       "  <thead>\n",
       "    <tr style=\"text-align: right;\">\n",
       "      <th></th>\n",
       "      <th>pol</th>\n",
       "      <th>eng</th>\n",
       "      <th>math</th>\n",
       "      <th>stat</th>\n",
       "    </tr>\n",
       "  </thead>\n",
       "  <tbody>\n",
       "    <tr>\n",
       "      <th>wdf</th>\n",
       "      <td>70</td>\n",
       "      <td>80</td>\n",
       "      <td>132</td>\n",
       "      <td>94</td>\n",
       "    </tr>\n",
       "  </tbody>\n",
       "</table>\n",
       "</div>"
      ],
      "text/plain": [
       "     pol  eng  math  stat\n",
       "wdf   70   80   132    94"
      ]
     },
     "execution_count": 61,
     "metadata": {},
     "output_type": "execute_result"
    }
   ],
   "source": [
    "df_new = pd.DataFrame([[70,80,132,94]],columns=['pol','eng','math','stat'],index=['wdf'])\n",
    "df_new"
   ]
  },
  {
   "cell_type": "code",
   "execution_count": 64,
   "metadata": {},
   "outputs": [
    {
     "data": {
      "text/html": [
       "<div>\n",
       "<style scoped>\n",
       "    .dataframe tbody tr th:only-of-type {\n",
       "        vertical-align: middle;\n",
       "    }\n",
       "\n",
       "    .dataframe tbody tr th {\n",
       "        vertical-align: top;\n",
       "    }\n",
       "\n",
       "    .dataframe thead th {\n",
       "        text-align: right;\n",
       "    }\n",
       "</style>\n",
       "<table border=\"1\" class=\"dataframe\">\n",
       "  <thead>\n",
       "    <tr style=\"text-align: right;\">\n",
       "      <th></th>\n",
       "      <th>pol</th>\n",
       "      <th>eng</th>\n",
       "      <th>math</th>\n",
       "      <th>stat</th>\n",
       "    </tr>\n",
       "  </thead>\n",
       "  <tbody>\n",
       "    <tr>\n",
       "      <th>zzx</th>\n",
       "      <td>73</td>\n",
       "      <td>82</td>\n",
       "      <td>137</td>\n",
       "      <td>114</td>\n",
       "    </tr>\n",
       "    <tr>\n",
       "      <th>zq</th>\n",
       "      <td>65</td>\n",
       "      <td>73</td>\n",
       "      <td>143</td>\n",
       "      <td>150</td>\n",
       "    </tr>\n",
       "    <tr>\n",
       "      <th>ysc</th>\n",
       "      <td>71</td>\n",
       "      <td>75</td>\n",
       "      <td>141</td>\n",
       "      <td>94</td>\n",
       "    </tr>\n",
       "    <tr>\n",
       "      <th>xjy</th>\n",
       "      <td>67</td>\n",
       "      <td>67</td>\n",
       "      <td>139</td>\n",
       "      <td>119</td>\n",
       "    </tr>\n",
       "    <tr>\n",
       "      <th>xjl</th>\n",
       "      <td>68</td>\n",
       "      <td>89</td>\n",
       "      <td>128</td>\n",
       "      <td>115</td>\n",
       "    </tr>\n",
       "    <tr>\n",
       "      <th>wdf</th>\n",
       "      <td>70</td>\n",
       "      <td>80</td>\n",
       "      <td>132</td>\n",
       "      <td>94</td>\n",
       "    </tr>\n",
       "  </tbody>\n",
       "</table>\n",
       "</div>"
      ],
      "text/plain": [
       "     pol  eng  math  stat\n",
       "zzx   73   82   137   114\n",
       "zq    65   73   143   150\n",
       "ysc   71   75   141    94\n",
       "xjy   67   67   139   119\n",
       "xjl   68   89   128   115\n",
       "wdf   70   80   132    94"
      ]
     },
     "execution_count": 64,
     "metadata": {},
     "output_type": "execute_result"
    }
   ],
   "source": [
    "df_append = gre_scores.append(df_new, ignore_index=False)\n",
    "df_append"
   ]
  },
  {
   "cell_type": "code",
   "execution_count": 77,
   "metadata": {},
   "outputs": [],
   "source": [
    "gre_schools = pd.DataFrame({\n",
    "     'name':['zzx','zq','ysc','xjy','xjl'],\n",
    "    'sch':['ruc','pku','ruc','ruc','ruc'],\n",
    "},index = ['zzx','zq','ysc','xjy','xjl'],)"
   ]
  },
  {
   "cell_type": "code",
   "execution_count": 78,
   "metadata": {},
   "outputs": [
    {
     "data": {
      "text/html": [
       "<div>\n",
       "<style scoped>\n",
       "    .dataframe tbody tr th:only-of-type {\n",
       "        vertical-align: middle;\n",
       "    }\n",
       "\n",
       "    .dataframe tbody tr th {\n",
       "        vertical-align: top;\n",
       "    }\n",
       "\n",
       "    .dataframe thead th {\n",
       "        text-align: right;\n",
       "    }\n",
       "</style>\n",
       "<table border=\"1\" class=\"dataframe\">\n",
       "  <thead>\n",
       "    <tr style=\"text-align: right;\">\n",
       "      <th></th>\n",
       "      <th>name</th>\n",
       "      <th>sch</th>\n",
       "    </tr>\n",
       "  </thead>\n",
       "  <tbody>\n",
       "    <tr>\n",
       "      <th>zzx</th>\n",
       "      <td>zzx</td>\n",
       "      <td>ruc</td>\n",
       "    </tr>\n",
       "    <tr>\n",
       "      <th>zq</th>\n",
       "      <td>zq</td>\n",
       "      <td>pku</td>\n",
       "    </tr>\n",
       "    <tr>\n",
       "      <th>ysc</th>\n",
       "      <td>ysc</td>\n",
       "      <td>ruc</td>\n",
       "    </tr>\n",
       "    <tr>\n",
       "      <th>xjy</th>\n",
       "      <td>xjy</td>\n",
       "      <td>ruc</td>\n",
       "    </tr>\n",
       "    <tr>\n",
       "      <th>xjl</th>\n",
       "      <td>xjl</td>\n",
       "      <td>ruc</td>\n",
       "    </tr>\n",
       "  </tbody>\n",
       "</table>\n",
       "</div>"
      ],
      "text/plain": [
       "    name  sch\n",
       "zzx  zzx  ruc\n",
       "zq    zq  pku\n",
       "ysc  ysc  ruc\n",
       "xjy  xjy  ruc\n",
       "xjl  xjl  ruc"
      ]
     },
     "execution_count": 78,
     "metadata": {},
     "output_type": "execute_result"
    }
   ],
   "source": [
    "gre_schools"
   ]
  },
  {
   "cell_type": "code",
   "execution_count": 76,
   "metadata": {},
   "outputs": [
    {
     "data": {
      "text/html": [
       "<div>\n",
       "<style scoped>\n",
       "    .dataframe tbody tr th:only-of-type {\n",
       "        vertical-align: middle;\n",
       "    }\n",
       "\n",
       "    .dataframe tbody tr th {\n",
       "        vertical-align: top;\n",
       "    }\n",
       "\n",
       "    .dataframe thead th {\n",
       "        text-align: right;\n",
       "    }\n",
       "</style>\n",
       "<table border=\"1\" class=\"dataframe\">\n",
       "  <thead>\n",
       "    <tr style=\"text-align: right;\">\n",
       "      <th></th>\n",
       "      <th>name</th>\n",
       "      <th>pol</th>\n",
       "      <th>eng</th>\n",
       "      <th>math</th>\n",
       "      <th>stat</th>\n",
       "    </tr>\n",
       "  </thead>\n",
       "  <tbody>\n",
       "    <tr>\n",
       "      <th>zzx</th>\n",
       "      <td>zzx</td>\n",
       "      <td>73</td>\n",
       "      <td>82</td>\n",
       "      <td>137</td>\n",
       "      <td>114</td>\n",
       "    </tr>\n",
       "    <tr>\n",
       "      <th>zq</th>\n",
       "      <td>zq</td>\n",
       "      <td>65</td>\n",
       "      <td>73</td>\n",
       "      <td>143</td>\n",
       "      <td>150</td>\n",
       "    </tr>\n",
       "    <tr>\n",
       "      <th>ysc</th>\n",
       "      <td>ysc</td>\n",
       "      <td>71</td>\n",
       "      <td>75</td>\n",
       "      <td>141</td>\n",
       "      <td>94</td>\n",
       "    </tr>\n",
       "    <tr>\n",
       "      <th>xjy</th>\n",
       "      <td>xjy</td>\n",
       "      <td>67</td>\n",
       "      <td>67</td>\n",
       "      <td>139</td>\n",
       "      <td>119</td>\n",
       "    </tr>\n",
       "    <tr>\n",
       "      <th>xjl</th>\n",
       "      <td>xjl</td>\n",
       "      <td>68</td>\n",
       "      <td>89</td>\n",
       "      <td>128</td>\n",
       "      <td>115</td>\n",
       "    </tr>\n",
       "  </tbody>\n",
       "</table>\n",
       "</div>"
      ],
      "text/plain": [
       "    name  pol  eng  math  stat\n",
       "zzx  zzx   73   82   137   114\n",
       "zq    zq   65   73   143   150\n",
       "ysc  ysc   71   75   141    94\n",
       "xjy  xjy   67   67   139   119\n",
       "xjl  xjl   68   89   128   115"
      ]
     },
     "execution_count": 76,
     "metadata": {},
     "output_type": "execute_result"
    }
   ],
   "source": [
    "gre_scores = pd.DataFrame({\n",
    "    'name':['zzx','zq','ysc','xjy','xjl'],\n",
    "    'pol':[73,65,71,67,68],\n",
    "    'eng':[82,73,75,67,89],\n",
    "    'math':[137,143,141,139,128],\n",
    "    'stat':[114,150,94,119,115]\n",
    "},index = ['zzx','zq','ysc','xjy','xjl'],)\n",
    "gre_scores"
   ]
  },
  {
   "cell_type": "code",
   "execution_count": 79,
   "metadata": {},
   "outputs": [
    {
     "data": {
      "text/html": [
       "<div>\n",
       "<style scoped>\n",
       "    .dataframe tbody tr th:only-of-type {\n",
       "        vertical-align: middle;\n",
       "    }\n",
       "\n",
       "    .dataframe tbody tr th {\n",
       "        vertical-align: top;\n",
       "    }\n",
       "\n",
       "    .dataframe thead th {\n",
       "        text-align: right;\n",
       "    }\n",
       "</style>\n",
       "<table border=\"1\" class=\"dataframe\">\n",
       "  <thead>\n",
       "    <tr style=\"text-align: right;\">\n",
       "      <th></th>\n",
       "      <th>name</th>\n",
       "      <th>pol</th>\n",
       "      <th>eng</th>\n",
       "      <th>math</th>\n",
       "      <th>stat</th>\n",
       "      <th>sch</th>\n",
       "    </tr>\n",
       "  </thead>\n",
       "  <tbody>\n",
       "    <tr>\n",
       "      <th>0</th>\n",
       "      <td>zzx</td>\n",
       "      <td>73</td>\n",
       "      <td>82</td>\n",
       "      <td>137</td>\n",
       "      <td>114</td>\n",
       "      <td>ruc</td>\n",
       "    </tr>\n",
       "    <tr>\n",
       "      <th>1</th>\n",
       "      <td>zq</td>\n",
       "      <td>65</td>\n",
       "      <td>73</td>\n",
       "      <td>143</td>\n",
       "      <td>150</td>\n",
       "      <td>pku</td>\n",
       "    </tr>\n",
       "    <tr>\n",
       "      <th>2</th>\n",
       "      <td>ysc</td>\n",
       "      <td>71</td>\n",
       "      <td>75</td>\n",
       "      <td>141</td>\n",
       "      <td>94</td>\n",
       "      <td>ruc</td>\n",
       "    </tr>\n",
       "    <tr>\n",
       "      <th>3</th>\n",
       "      <td>xjy</td>\n",
       "      <td>67</td>\n",
       "      <td>67</td>\n",
       "      <td>139</td>\n",
       "      <td>119</td>\n",
       "      <td>ruc</td>\n",
       "    </tr>\n",
       "    <tr>\n",
       "      <th>4</th>\n",
       "      <td>xjl</td>\n",
       "      <td>68</td>\n",
       "      <td>89</td>\n",
       "      <td>128</td>\n",
       "      <td>115</td>\n",
       "      <td>ruc</td>\n",
       "    </tr>\n",
       "  </tbody>\n",
       "</table>\n",
       "</div>"
      ],
      "text/plain": [
       "  name  pol  eng  math  stat  sch\n",
       "0  zzx   73   82   137   114  ruc\n",
       "1   zq   65   73   143   150  pku\n",
       "2  ysc   71   75   141    94  ruc\n",
       "3  xjy   67   67   139   119  ruc\n",
       "4  xjl   68   89   128   115  ruc"
      ]
     },
     "execution_count": 79,
     "metadata": {},
     "output_type": "execute_result"
    }
   ],
   "source": [
    "gre_scores.merge(gre_schools,on = 'name')"
   ]
  },
  {
   "cell_type": "code",
   "execution_count": 81,
   "metadata": {},
   "outputs": [
    {
     "data": {
      "text/html": [
       "<div>\n",
       "<style scoped>\n",
       "    .dataframe tbody tr th:only-of-type {\n",
       "        vertical-align: middle;\n",
       "    }\n",
       "\n",
       "    .dataframe tbody tr th {\n",
       "        vertical-align: top;\n",
       "    }\n",
       "\n",
       "    .dataframe thead th {\n",
       "        text-align: right;\n",
       "    }\n",
       "</style>\n",
       "<table border=\"1\" class=\"dataframe\">\n",
       "  <thead>\n",
       "    <tr style=\"text-align: right;\">\n",
       "      <th></th>\n",
       "      <th>name</th>\n",
       "      <th>pol</th>\n",
       "      <th>eng</th>\n",
       "      <th>math</th>\n",
       "      <th>stat</th>\n",
       "      <th>sch</th>\n",
       "    </tr>\n",
       "  </thead>\n",
       "  <tbody>\n",
       "    <tr>\n",
       "      <th>0</th>\n",
       "      <td>zzx</td>\n",
       "      <td>73</td>\n",
       "      <td>82</td>\n",
       "      <td>137</td>\n",
       "      <td>114</td>\n",
       "      <td>ruc</td>\n",
       "    </tr>\n",
       "    <tr>\n",
       "      <th>1</th>\n",
       "      <td>zq</td>\n",
       "      <td>65</td>\n",
       "      <td>73</td>\n",
       "      <td>143</td>\n",
       "      <td>150</td>\n",
       "      <td>pku</td>\n",
       "    </tr>\n",
       "    <tr>\n",
       "      <th>2</th>\n",
       "      <td>ysc</td>\n",
       "      <td>71</td>\n",
       "      <td>75</td>\n",
       "      <td>141</td>\n",
       "      <td>94</td>\n",
       "      <td>ruc</td>\n",
       "    </tr>\n",
       "    <tr>\n",
       "      <th>3</th>\n",
       "      <td>xjy</td>\n",
       "      <td>67</td>\n",
       "      <td>67</td>\n",
       "      <td>139</td>\n",
       "      <td>119</td>\n",
       "      <td>ruc</td>\n",
       "    </tr>\n",
       "    <tr>\n",
       "      <th>4</th>\n",
       "      <td>xjl</td>\n",
       "      <td>68</td>\n",
       "      <td>89</td>\n",
       "      <td>128</td>\n",
       "      <td>115</td>\n",
       "      <td>ruc</td>\n",
       "    </tr>\n",
       "  </tbody>\n",
       "</table>\n",
       "</div>"
      ],
      "text/plain": [
       "  name  pol  eng  math  stat  sch\n",
       "0  zzx   73   82   137   114  ruc\n",
       "1   zq   65   73   143   150  pku\n",
       "2  ysc   71   75   141    94  ruc\n",
       "3  xjy   67   67   139   119  ruc\n",
       "4  xjl   68   89   128   115  ruc"
      ]
     },
     "execution_count": 81,
     "metadata": {},
     "output_type": "execute_result"
    }
   ],
   "source": [
    "# 左连接\n",
    "gre_s2 = gre_scores.merge(gre_schools,on = 'name',how= 'left')\n",
    "gre_s2"
   ]
  },
  {
   "cell_type": "code",
   "execution_count": 89,
   "metadata": {},
   "outputs": [
    {
     "data": {
      "text/html": [
       "<div>\n",
       "<style scoped>\n",
       "    .dataframe tbody tr th:only-of-type {\n",
       "        vertical-align: middle;\n",
       "    }\n",
       "\n",
       "    .dataframe tbody tr th {\n",
       "        vertical-align: top;\n",
       "    }\n",
       "\n",
       "    .dataframe thead th {\n",
       "        text-align: right;\n",
       "    }\n",
       "</style>\n",
       "<table border=\"1\" class=\"dataframe\">\n",
       "  <thead>\n",
       "    <tr style=\"text-align: right;\">\n",
       "      <th></th>\n",
       "      <th>name</th>\n",
       "      <th>pol</th>\n",
       "      <th>eng</th>\n",
       "      <th>math</th>\n",
       "      <th>stat</th>\n",
       "    </tr>\n",
       "  </thead>\n",
       "  <tbody>\n",
       "    <tr>\n",
       "      <th>zzx</th>\n",
       "      <td>zzx</td>\n",
       "      <td>73</td>\n",
       "      <td>82</td>\n",
       "      <td>137</td>\n",
       "      <td>114</td>\n",
       "    </tr>\n",
       "    <tr>\n",
       "      <th>zq</th>\n",
       "      <td>zq</td>\n",
       "      <td>65</td>\n",
       "      <td>73</td>\n",
       "      <td>143</td>\n",
       "      <td>150</td>\n",
       "    </tr>\n",
       "    <tr>\n",
       "      <th>ysc</th>\n",
       "      <td>ysc</td>\n",
       "      <td>71</td>\n",
       "      <td>75</td>\n",
       "      <td>141</td>\n",
       "      <td>94</td>\n",
       "    </tr>\n",
       "    <tr>\n",
       "      <th>xjy</th>\n",
       "      <td>xjy</td>\n",
       "      <td>67</td>\n",
       "      <td>67</td>\n",
       "      <td>139</td>\n",
       "      <td>119</td>\n",
       "    </tr>\n",
       "    <tr>\n",
       "      <th>xjl</th>\n",
       "      <td>xjl</td>\n",
       "      <td>68</td>\n",
       "      <td>89</td>\n",
       "      <td>128</td>\n",
       "      <td>115</td>\n",
       "    </tr>\n",
       "    <tr>\n",
       "      <th>wdf</th>\n",
       "      <td>wdf</td>\n",
       "      <td>70</td>\n",
       "      <td>80</td>\n",
       "      <td>132</td>\n",
       "      <td>94</td>\n",
       "    </tr>\n",
       "  </tbody>\n",
       "</table>\n",
       "</div>"
      ],
      "text/plain": [
       "    name  pol  eng  math  stat\n",
       "zzx  zzx   73   82   137   114\n",
       "zq    zq   65   73   143   150\n",
       "ysc  ysc   71   75   141    94\n",
       "xjy  xjy   67   67   139   119\n",
       "xjl  xjl   68   89   128   115\n",
       "wdf  wdf   70   80   132    94"
      ]
     },
     "execution_count": 89,
     "metadata": {},
     "output_type": "execute_result"
    }
   ],
   "source": [
    "df_append = gre_scores.append(df_new, ignore_index=False)\n",
    "df_append"
   ]
  },
  {
   "cell_type": "code",
   "execution_count": 92,
   "metadata": {},
   "outputs": [
    {
     "data": {
      "text/html": [
       "<div>\n",
       "<style scoped>\n",
       "    .dataframe tbody tr th:only-of-type {\n",
       "        vertical-align: middle;\n",
       "    }\n",
       "\n",
       "    .dataframe tbody tr th {\n",
       "        vertical-align: top;\n",
       "    }\n",
       "\n",
       "    .dataframe thead th {\n",
       "        text-align: right;\n",
       "    }\n",
       "</style>\n",
       "<table border=\"1\" class=\"dataframe\">\n",
       "  <thead>\n",
       "    <tr style=\"text-align: right;\">\n",
       "      <th></th>\n",
       "      <th>name</th>\n",
       "      <th>pol</th>\n",
       "      <th>eng</th>\n",
       "      <th>math</th>\n",
       "      <th>stat</th>\n",
       "      <th>sch</th>\n",
       "    </tr>\n",
       "  </thead>\n",
       "  <tbody>\n",
       "    <tr>\n",
       "      <th>0</th>\n",
       "      <td>zzx</td>\n",
       "      <td>73</td>\n",
       "      <td>82</td>\n",
       "      <td>137</td>\n",
       "      <td>114</td>\n",
       "      <td>ruc</td>\n",
       "    </tr>\n",
       "    <tr>\n",
       "      <th>1</th>\n",
       "      <td>zq</td>\n",
       "      <td>65</td>\n",
       "      <td>73</td>\n",
       "      <td>143</td>\n",
       "      <td>150</td>\n",
       "      <td>pku</td>\n",
       "    </tr>\n",
       "    <tr>\n",
       "      <th>2</th>\n",
       "      <td>ysc</td>\n",
       "      <td>71</td>\n",
       "      <td>75</td>\n",
       "      <td>141</td>\n",
       "      <td>94</td>\n",
       "      <td>ruc</td>\n",
       "    </tr>\n",
       "    <tr>\n",
       "      <th>3</th>\n",
       "      <td>xjy</td>\n",
       "      <td>67</td>\n",
       "      <td>67</td>\n",
       "      <td>139</td>\n",
       "      <td>119</td>\n",
       "      <td>ruc</td>\n",
       "    </tr>\n",
       "    <tr>\n",
       "      <th>4</th>\n",
       "      <td>xjl</td>\n",
       "      <td>68</td>\n",
       "      <td>89</td>\n",
       "      <td>128</td>\n",
       "      <td>115</td>\n",
       "      <td>ruc</td>\n",
       "    </tr>\n",
       "    <tr>\n",
       "      <th>5</th>\n",
       "      <td>wdf</td>\n",
       "      <td>70</td>\n",
       "      <td>80</td>\n",
       "      <td>132</td>\n",
       "      <td>94</td>\n",
       "      <td>NaN</td>\n",
       "    </tr>\n",
       "  </tbody>\n",
       "</table>\n",
       "</div>"
      ],
      "text/plain": [
       "  name  pol  eng  math  stat  sch\n",
       "0  zzx   73   82   137   114  ruc\n",
       "1   zq   65   73   143   150  pku\n",
       "2  ysc   71   75   141    94  ruc\n",
       "3  xjy   67   67   139   119  ruc\n",
       "4  xjl   68   89   128   115  ruc\n",
       "5  wdf   70   80   132    94  NaN"
      ]
     },
     "execution_count": 92,
     "metadata": {},
     "output_type": "execute_result"
    }
   ],
   "source": [
    "df_append2 = df_append.merge(gre_schools,on = 'name',how= 'left')  #左连接\n",
    "df_append2"
   ]
  },
  {
   "cell_type": "code",
   "execution_count": 93,
   "metadata": {},
   "outputs": [
    {
     "data": {
      "text/html": [
       "<div>\n",
       "<style scoped>\n",
       "    .dataframe tbody tr th:only-of-type {\n",
       "        vertical-align: middle;\n",
       "    }\n",
       "\n",
       "    .dataframe tbody tr th {\n",
       "        vertical-align: top;\n",
       "    }\n",
       "\n",
       "    .dataframe thead th {\n",
       "        text-align: right;\n",
       "    }\n",
       "</style>\n",
       "<table border=\"1\" class=\"dataframe\">\n",
       "  <thead>\n",
       "    <tr style=\"text-align: right;\">\n",
       "      <th></th>\n",
       "      <th>name</th>\n",
       "      <th>pol</th>\n",
       "      <th>eng</th>\n",
       "      <th>math</th>\n",
       "      <th>stat</th>\n",
       "      <th>sch</th>\n",
       "    </tr>\n",
       "  </thead>\n",
       "  <tbody>\n",
       "    <tr>\n",
       "      <th>0</th>\n",
       "      <td>zzx</td>\n",
       "      <td>73</td>\n",
       "      <td>82</td>\n",
       "      <td>137</td>\n",
       "      <td>114</td>\n",
       "      <td>ruc</td>\n",
       "    </tr>\n",
       "    <tr>\n",
       "      <th>1</th>\n",
       "      <td>zq</td>\n",
       "      <td>65</td>\n",
       "      <td>73</td>\n",
       "      <td>143</td>\n",
       "      <td>150</td>\n",
       "      <td>pku</td>\n",
       "    </tr>\n",
       "    <tr>\n",
       "      <th>2</th>\n",
       "      <td>ysc</td>\n",
       "      <td>71</td>\n",
       "      <td>75</td>\n",
       "      <td>141</td>\n",
       "      <td>94</td>\n",
       "      <td>ruc</td>\n",
       "    </tr>\n",
       "    <tr>\n",
       "      <th>3</th>\n",
       "      <td>xjy</td>\n",
       "      <td>67</td>\n",
       "      <td>67</td>\n",
       "      <td>139</td>\n",
       "      <td>119</td>\n",
       "      <td>ruc</td>\n",
       "    </tr>\n",
       "    <tr>\n",
       "      <th>4</th>\n",
       "      <td>xjl</td>\n",
       "      <td>68</td>\n",
       "      <td>89</td>\n",
       "      <td>128</td>\n",
       "      <td>115</td>\n",
       "      <td>ruc</td>\n",
       "    </tr>\n",
       "  </tbody>\n",
       "</table>\n",
       "</div>"
      ],
      "text/plain": [
       "  name  pol  eng  math  stat  sch\n",
       "0  zzx   73   82   137   114  ruc\n",
       "1   zq   65   73   143   150  pku\n",
       "2  ysc   71   75   141    94  ruc\n",
       "3  xjy   67   67   139   119  ruc\n",
       "4  xjl   68   89   128   115  ruc"
      ]
     },
     "execution_count": 93,
     "metadata": {},
     "output_type": "execute_result"
    }
   ],
   "source": [
    "df_append2 = df_append.merge(gre_schools,on = 'name',how= 'right')  #右连接\n",
    "df_append2"
   ]
  },
  {
   "cell_type": "markdown",
   "metadata": {},
   "source": [
    "### join"
   ]
  },
  {
   "cell_type": "code",
   "execution_count": 95,
   "metadata": {},
   "outputs": [
    {
     "data": {
      "text/html": [
       "<div>\n",
       "<style scoped>\n",
       "    .dataframe tbody tr th:only-of-type {\n",
       "        vertical-align: middle;\n",
       "    }\n",
       "\n",
       "    .dataframe tbody tr th {\n",
       "        vertical-align: top;\n",
       "    }\n",
       "\n",
       "    .dataframe thead th {\n",
       "        text-align: right;\n",
       "    }\n",
       "</style>\n",
       "<table border=\"1\" class=\"dataframe\">\n",
       "  <thead>\n",
       "    <tr style=\"text-align: right;\">\n",
       "      <th></th>\n",
       "      <th>name</th>\n",
       "      <th>sch</th>\n",
       "    </tr>\n",
       "  </thead>\n",
       "  <tbody>\n",
       "    <tr>\n",
       "      <th>zzx</th>\n",
       "      <td>zzx</td>\n",
       "      <td>ruc</td>\n",
       "    </tr>\n",
       "    <tr>\n",
       "      <th>zq</th>\n",
       "      <td>zq</td>\n",
       "      <td>pku</td>\n",
       "    </tr>\n",
       "    <tr>\n",
       "      <th>ysc</th>\n",
       "      <td>ysc</td>\n",
       "      <td>ruc</td>\n",
       "    </tr>\n",
       "    <tr>\n",
       "      <th>xjy</th>\n",
       "      <td>xjy</td>\n",
       "      <td>ruc</td>\n",
       "    </tr>\n",
       "    <tr>\n",
       "      <th>xjl</th>\n",
       "      <td>xjl</td>\n",
       "      <td>ruc</td>\n",
       "    </tr>\n",
       "  </tbody>\n",
       "</table>\n",
       "</div>"
      ],
      "text/plain": [
       "    name  sch\n",
       "zzx  zzx  ruc\n",
       "zq    zq  pku\n",
       "ysc  ysc  ruc\n",
       "xjy  xjy  ruc\n",
       "xjl  xjl  ruc"
      ]
     },
     "execution_count": 95,
     "metadata": {},
     "output_type": "execute_result"
    }
   ],
   "source": [
    "gre_schools"
   ]
  },
  {
   "cell_type": "code",
   "execution_count": 96,
   "metadata": {},
   "outputs": [
    {
     "data": {
      "text/html": [
       "<div>\n",
       "<style scoped>\n",
       "    .dataframe tbody tr th:only-of-type {\n",
       "        vertical-align: middle;\n",
       "    }\n",
       "\n",
       "    .dataframe tbody tr th {\n",
       "        vertical-align: top;\n",
       "    }\n",
       "\n",
       "    .dataframe thead th {\n",
       "        text-align: right;\n",
       "    }\n",
       "</style>\n",
       "<table border=\"1\" class=\"dataframe\">\n",
       "  <thead>\n",
       "    <tr style=\"text-align: right;\">\n",
       "      <th></th>\n",
       "      <th>name</th>\n",
       "      <th>pol</th>\n",
       "      <th>eng</th>\n",
       "      <th>math</th>\n",
       "      <th>stat</th>\n",
       "    </tr>\n",
       "  </thead>\n",
       "  <tbody>\n",
       "    <tr>\n",
       "      <th>zzx</th>\n",
       "      <td>zzx</td>\n",
       "      <td>73</td>\n",
       "      <td>82</td>\n",
       "      <td>137</td>\n",
       "      <td>114</td>\n",
       "    </tr>\n",
       "    <tr>\n",
       "      <th>zq</th>\n",
       "      <td>zq</td>\n",
       "      <td>65</td>\n",
       "      <td>73</td>\n",
       "      <td>143</td>\n",
       "      <td>150</td>\n",
       "    </tr>\n",
       "    <tr>\n",
       "      <th>ysc</th>\n",
       "      <td>ysc</td>\n",
       "      <td>71</td>\n",
       "      <td>75</td>\n",
       "      <td>141</td>\n",
       "      <td>94</td>\n",
       "    </tr>\n",
       "    <tr>\n",
       "      <th>xjy</th>\n",
       "      <td>xjy</td>\n",
       "      <td>67</td>\n",
       "      <td>67</td>\n",
       "      <td>139</td>\n",
       "      <td>119</td>\n",
       "    </tr>\n",
       "    <tr>\n",
       "      <th>xjl</th>\n",
       "      <td>xjl</td>\n",
       "      <td>68</td>\n",
       "      <td>89</td>\n",
       "      <td>128</td>\n",
       "      <td>115</td>\n",
       "    </tr>\n",
       "  </tbody>\n",
       "</table>\n",
       "</div>"
      ],
      "text/plain": [
       "    name  pol  eng  math  stat\n",
       "zzx  zzx   73   82   137   114\n",
       "zq    zq   65   73   143   150\n",
       "ysc  ysc   71   75   141    94\n",
       "xjy  xjy   67   67   139   119\n",
       "xjl  xjl   68   89   128   115"
      ]
     },
     "execution_count": 96,
     "metadata": {},
     "output_type": "execute_result"
    }
   ],
   "source": [
    "gre_scores"
   ]
  },
  {
   "cell_type": "code",
   "execution_count": 99,
   "metadata": {},
   "outputs": [
    {
     "data": {
      "text/html": [
       "<div>\n",
       "<style scoped>\n",
       "    .dataframe tbody tr th:only-of-type {\n",
       "        vertical-align: middle;\n",
       "    }\n",
       "\n",
       "    .dataframe tbody tr th {\n",
       "        vertical-align: top;\n",
       "    }\n",
       "\n",
       "    .dataframe thead th {\n",
       "        text-align: right;\n",
       "    }\n",
       "</style>\n",
       "<table border=\"1\" class=\"dataframe\">\n",
       "  <thead>\n",
       "    <tr style=\"text-align: right;\">\n",
       "      <th></th>\n",
       "      <th>pol</th>\n",
       "      <th>eng</th>\n",
       "      <th>math</th>\n",
       "      <th>stat</th>\n",
       "      <th>sch</th>\n",
       "    </tr>\n",
       "    <tr>\n",
       "      <th>name</th>\n",
       "      <th></th>\n",
       "      <th></th>\n",
       "      <th></th>\n",
       "      <th></th>\n",
       "      <th></th>\n",
       "    </tr>\n",
       "  </thead>\n",
       "  <tbody>\n",
       "    <tr>\n",
       "      <th>zzx</th>\n",
       "      <td>73</td>\n",
       "      <td>82</td>\n",
       "      <td>137</td>\n",
       "      <td>114</td>\n",
       "      <td>ruc</td>\n",
       "    </tr>\n",
       "    <tr>\n",
       "      <th>zq</th>\n",
       "      <td>65</td>\n",
       "      <td>73</td>\n",
       "      <td>143</td>\n",
       "      <td>150</td>\n",
       "      <td>pku</td>\n",
       "    </tr>\n",
       "    <tr>\n",
       "      <th>ysc</th>\n",
       "      <td>71</td>\n",
       "      <td>75</td>\n",
       "      <td>141</td>\n",
       "      <td>94</td>\n",
       "      <td>ruc</td>\n",
       "    </tr>\n",
       "    <tr>\n",
       "      <th>xjy</th>\n",
       "      <td>67</td>\n",
       "      <td>67</td>\n",
       "      <td>139</td>\n",
       "      <td>119</td>\n",
       "      <td>ruc</td>\n",
       "    </tr>\n",
       "    <tr>\n",
       "      <th>xjl</th>\n",
       "      <td>68</td>\n",
       "      <td>89</td>\n",
       "      <td>128</td>\n",
       "      <td>115</td>\n",
       "      <td>ruc</td>\n",
       "    </tr>\n",
       "  </tbody>\n",
       "</table>\n",
       "</div>"
      ],
      "text/plain": [
       "      pol  eng  math  stat  sch\n",
       "name                           \n",
       "zzx    73   82   137   114  ruc\n",
       "zq     65   73   143   150  pku\n",
       "ysc    71   75   141    94  ruc\n",
       "xjy    67   67   139   119  ruc\n",
       "xjl    68   89   128   115  ruc"
      ]
     },
     "execution_count": 99,
     "metadata": {},
     "output_type": "execute_result"
    }
   ],
   "source": [
    "gre_scores.set_index('name').join(gre_schools.set_index('name'))  # 有两个相同的列"
   ]
  },
  {
   "cell_type": "code",
   "execution_count": 101,
   "metadata": {},
   "outputs": [
    {
     "data": {
      "text/html": [
       "<div>\n",
       "<style scoped>\n",
       "    .dataframe tbody tr th:only-of-type {\n",
       "        vertical-align: middle;\n",
       "    }\n",
       "\n",
       "    .dataframe tbody tr th {\n",
       "        vertical-align: top;\n",
       "    }\n",
       "\n",
       "    .dataframe thead th {\n",
       "        text-align: right;\n",
       "    }\n",
       "</style>\n",
       "<table border=\"1\" class=\"dataframe\">\n",
       "  <thead>\n",
       "    <tr style=\"text-align: right;\">\n",
       "      <th></th>\n",
       "      <th>name</th>\n",
       "      <th>pol</th>\n",
       "      <th>eng</th>\n",
       "      <th>math</th>\n",
       "      <th>stat</th>\n",
       "      <th>sch</th>\n",
       "    </tr>\n",
       "  </thead>\n",
       "  <tbody>\n",
       "    <tr>\n",
       "      <th>zzx</th>\n",
       "      <td>zzx</td>\n",
       "      <td>73</td>\n",
       "      <td>82</td>\n",
       "      <td>137</td>\n",
       "      <td>114</td>\n",
       "      <td>ruc</td>\n",
       "    </tr>\n",
       "    <tr>\n",
       "      <th>zq</th>\n",
       "      <td>zq</td>\n",
       "      <td>65</td>\n",
       "      <td>73</td>\n",
       "      <td>143</td>\n",
       "      <td>150</td>\n",
       "      <td>pku</td>\n",
       "    </tr>\n",
       "    <tr>\n",
       "      <th>ysc</th>\n",
       "      <td>ysc</td>\n",
       "      <td>71</td>\n",
       "      <td>75</td>\n",
       "      <td>141</td>\n",
       "      <td>94</td>\n",
       "      <td>ruc</td>\n",
       "    </tr>\n",
       "    <tr>\n",
       "      <th>xjy</th>\n",
       "      <td>xjy</td>\n",
       "      <td>67</td>\n",
       "      <td>67</td>\n",
       "      <td>139</td>\n",
       "      <td>119</td>\n",
       "      <td>ruc</td>\n",
       "    </tr>\n",
       "    <tr>\n",
       "      <th>xjl</th>\n",
       "      <td>xjl</td>\n",
       "      <td>68</td>\n",
       "      <td>89</td>\n",
       "      <td>128</td>\n",
       "      <td>115</td>\n",
       "      <td>ruc</td>\n",
       "    </tr>\n",
       "  </tbody>\n",
       "</table>\n",
       "</div>"
      ],
      "text/plain": [
       "    name  pol  eng  math  stat  sch\n",
       "zzx  zzx   73   82   137   114  ruc\n",
       "zq    zq   65   73   143   150  pku\n",
       "ysc  ysc   71   75   141    94  ruc\n",
       "xjy  xjy   67   67   139   119  ruc\n",
       "xjl  xjl   68   89   128   115  ruc"
      ]
     },
     "execution_count": 101,
     "metadata": {},
     "output_type": "execute_result"
    }
   ],
   "source": [
    "gre_scores.join(gre_schools.set_index('name'),on='name',how='left')  # 保留索引"
   ]
  },
  {
   "cell_type": "markdown",
   "metadata": {},
   "source": [
    "## df绘图 "
   ]
  },
  {
   "cell_type": "code",
   "execution_count": 102,
   "metadata": {},
   "outputs": [],
   "source": [
    "gre_ruc = pd.read_csv('./data/gre_ruc.csv',encoding = 'utf-8')"
   ]
  },
  {
   "cell_type": "code",
   "execution_count": 108,
   "metadata": {},
   "outputs": [
    {
     "data": {
      "text/plain": [
       "<matplotlib.axes._subplots.AxesSubplot at 0x196065ce7f0>"
      ]
     },
     "execution_count": 108,
     "metadata": {},
     "output_type": "execute_result"
    },
    {
     "data": {
      "image/png": "[encoded data removed]",
      "text/plain": [
       "<Figure size 432x288 with 1 Axes>"
      ]
     },
     "metadata": {
      "needs_background": "light"
     },
     "output_type": "display_data"
    }
   ],
   "source": [
    "gre_scores.plot()"
   ]
  },
  {
   "cell_type": "code",
   "execution_count": 109,
   "metadata": {},
   "outputs": [
    {
     "data": {
      "text/plain": [
       "array([<matplotlib.axes._subplots.AxesSubplot object at 0x0000019606457240>,\n",
       "       <matplotlib.axes._subplots.AxesSubplot object at 0x00000196077105C0>,\n",
       "       <matplotlib.axes._subplots.AxesSubplot object at 0x0000019607738940>,\n",
       "       <matplotlib.axes._subplots.AxesSubplot object at 0x0000019607762EB8>],\n",
       "      dtype=object)"
      ]
     },
     "execution_count": 109,
     "metadata": {},
     "output_type": "execute_result"
    },
    {
     "data": {
      "image/png": "[encoded data removed]",
      "text/plain": [
       "<Figure size 432x288 with 4 Axes>"
      ]
     },
     "metadata": {
      "needs_background": "light"
     },
     "output_type": "display_data"
    }
   ],
   "source": [
    "gre_scores.plot(subplots = True)"
   ]
  },
  {
   "cell_type": "code",
   "execution_count": 110,
   "metadata": {},
   "outputs": [
    {
     "data": {
      "text/plain": [
       "array([<matplotlib.axes._subplots.AxesSubplot object at 0x0000019607819CF8>,\n",
       "       <matplotlib.axes._subplots.AxesSubplot object at 0x00000196078E2DA0>,\n",
       "       <matplotlib.axes._subplots.AxesSubplot object at 0x0000019607913320>,\n",
       "       <matplotlib.axes._subplots.AxesSubplot object at 0x0000019607939860>],\n",
       "      dtype=object)"
      ]
     },
     "execution_count": 110,
     "metadata": {},
     "output_type": "execute_result"
    },
    {
     "data": {
      "image/png": "[encoded data removed]",
      "text/plain": [
       "<Figure size 432x288 with 4 Axes>"
      ]
     },
     "metadata": {
      "needs_background": "light"
     },
     "output_type": "display_data"
    }
   ],
   "source": [
    "gre_scores.plot.hist(subplots = True)"
   ]
  },
  {
   "cell_type": "markdown",
   "metadata": {},
   "source": [
    "散点图"
   ]
  },
  {
   "cell_type": "code",
   "execution_count": 111,
   "metadata": {},
   "outputs": [
    {
     "data": {
      "text/plain": [
       "<matplotlib.axes._subplots.AxesSubplot at 0x19607a572e8>"
      ]
     },
     "execution_count": 111,
     "metadata": {},
     "output_type": "execute_result"
    },
    {
     "data": {
      "image/png": "[encoded data removed]",
      "text/plain": [
       "<Figure size 432x288 with 1 Axes>"
      ]
     },
     "metadata": {
      "needs_background": "light"
     },
     "output_type": "display_data"
    }
   ],
   "source": [
    "gre_scores.plot.scatter(x='pol',y='eng')"
   ]
  },
  {
   "cell_type": "code",
   "execution_count": 112,
   "metadata": {},
   "outputs": [
    {
     "data": {
      "text/plain": [
       "<matplotlib.axes._subplots.AxesSubplot at 0x19607ac3160>"
      ]
     },
     "execution_count": 112,
     "metadata": {},
     "output_type": "execute_result"
    },
    {
     "data": {
      "image/png": "[encoded data removed]",
      "text/plain": [
       "<Figure size 432x288 with 1 Axes>"
      ]
     },
     "metadata": {
      "needs_background": "light"
     },
     "output_type": "display_data"
    }
   ],
   "source": [
    "gre_scores.plot.scatter(x='math',y='eng')"
   ]
  },
  {
   "cell_type": "code",
   "execution_count": 113,
   "metadata": {},
   "outputs": [
    {
     "data": {
      "text/plain": [
       "<matplotlib.axes._subplots.AxesSubplot at 0x19607b21208>"
      ]
     },
     "execution_count": 113,
     "metadata": {},
     "output_type": "execute_result"
    },
    {
     "data": {
      "image/png": "[encoded data removed]",
      "text/plain": [
       "<Figure size 432x288 with 1 Axes>"
      ]
     },
     "metadata": {
      "needs_background": "light"
     },
     "output_type": "display_data"
    }
   ],
   "source": [
    "gre_scores.plot.scatter(x='math',y='pol')"
   ]
  },
  {
   "cell_type": "code",
   "execution_count": 114,
   "metadata": {},
   "outputs": [
    {
     "data": {
      "text/plain": [
       "<matplotlib.axes._subplots.AxesSubplot at 0x19607b80668>"
      ]
     },
     "execution_count": 114,
     "metadata": {},
     "output_type": "execute_result"
    },
    {
     "data": {
      "image/png": "[encoded data removed]",
      "text/plain": [
       "<Figure size 432x288 with 1 Axes>"
      ]
     },
     "metadata": {
      "needs_background": "light"
     },
     "output_type": "display_data"
    }
   ],
   "source": [
    "gre_scores.plot.scatter(x='math',y='stat')"
   ]
  },
  {
   "cell_type": "code",
   "execution_count": 115,
   "metadata": {},
   "outputs": [
    {
     "data": {
      "text/plain": [
       "<matplotlib.axes._subplots.AxesSubplot at 0x19607be1cc0>"
      ]
     },
     "execution_count": 115,
     "metadata": {},
     "output_type": "execute_result"
    },
    {
     "data": {
      "image/png": "[encoded data removed]",
      "text/plain": [
       "<Figure size 432x288 with 1 Axes>"
      ]
     },
     "metadata": {
      "needs_background": "light"
     },
     "output_type": "display_data"
    }
   ],
   "source": [
    "gre_scores.plot.hist()"
   ]
  },
  {
   "cell_type": "markdown",
   "metadata": {},
   "source": [
    "柱形图"
   ]
  },
  {
   "cell_type": "code",
   "execution_count": 116,
   "metadata": {},
   "outputs": [
    {
     "data": {
      "text/plain": [
       "<matplotlib.axes._subplots.AxesSubplot at 0x19607b21828>"
      ]
     },
     "execution_count": 116,
     "metadata": {},
     "output_type": "execute_result"
    },
    {
     "data": {
      "image/png": "[encoded data removed]",
      "text/plain": [
       "<Figure size 432x288 with 1 Axes>"
      ]
     },
     "metadata": {
      "needs_background": "light"
     },
     "output_type": "display_data"
    }
   ],
   "source": [
    "gre_scores.plot.bar()"
   ]
  },
  {
   "cell_type": "code",
   "execution_count": 117,
   "metadata": {},
   "outputs": [
    {
     "data": {
      "text/plain": [
       "<matplotlib.axes._subplots.AxesSubplot at 0x19607ab7518>"
      ]
     },
     "execution_count": 117,
     "metadata": {},
     "output_type": "execute_result"
    },
    {
     "data": {
      "image/png": "[encoded data removed]",
      "text/plain": [
       "<Figure size 432x288 with 1 Axes>"
      ]
     },
     "metadata": {
      "needs_background": "light"
     },
     "output_type": "display_data"
    }
   ],
   "source": [
    "gre_scores.plot.bar(stacked = True)"
   ]
  },
  {
   "cell_type": "code",
   "execution_count": 118,
   "metadata": {},
   "outputs": [
    {
     "data": {
      "text/plain": [
       "<matplotlib.axes._subplots.AxesSubplot at 0x19607ace9e8>"
      ]
     },
     "execution_count": 118,
     "metadata": {},
     "output_type": "execute_result"
    },
    {
     "data": {
      "image/png": "[encoded data removed]",
      "text/plain": [
       "<Figure size 432x288 with 1 Axes>"
      ]
     },
     "metadata": {
      "needs_background": "light"
     },
     "output_type": "display_data"
    }
   ],
   "source": [
    "gre_scores.plot.box()"
   ]
  },
  {
   "cell_type": "code",
   "execution_count": 119,
   "metadata": {},
   "outputs": [
    {
     "data": {
      "text/plain": [
       "<matplotlib.axes._subplots.AxesSubplot at 0x19607e42f28>"
      ]
     },
     "execution_count": 119,
     "metadata": {},
     "output_type": "execute_result"
    },
    {
     "data": {
      "image/png": "[encoded data removed]",
      "text/plain": [
       "<Figure size 432x288 with 1 Axes>"
      ]
     },
     "metadata": {
      "needs_background": "light"
     },
     "output_type": "display_data"
    }
   ],
   "source": [
    "gre_scores.plot.area()"
   ]
  },
  {
   "cell_type": "code",
   "execution_count": 120,
   "metadata": {},
   "outputs": [
    {
     "data": {
      "text/plain": [
       "<matplotlib.axes._subplots.AxesSubplot at 0x19607ecd5c0>"
      ]
     },
     "execution_count": 120,
     "metadata": {},
     "output_type": "execute_result"
    },
    {
     "data": {
      "image/png": "[encoded data removed]",
      "text/plain": [
       "<Figure size 432x432 with 1 Axes>"
      ]
     },
     "metadata": {},
     "output_type": "display_data"
    }
   ],
   "source": [
    "gre_scores.plot.pie(y='stat',figsize= (6,6))"
   ]
  },
  {
   "cell_type": "code",
   "execution_count": 124,
   "metadata": {},
   "outputs": [
    {
     "data": {
      "text/html": [
       "<div>\n",
       "<style scoped>\n",
       "    .dataframe tbody tr th:only-of-type {\n",
       "        vertical-align: middle;\n",
       "    }\n",
       "\n",
       "    .dataframe tbody tr th {\n",
       "        vertical-align: top;\n",
       "    }\n",
       "\n",
       "    .dataframe thead th {\n",
       "        text-align: right;\n",
       "    }\n",
       "</style>\n",
       "<table border=\"1\" class=\"dataframe\">\n",
       "  <thead>\n",
       "    <tr style=\"text-align: right;\">\n",
       "      <th></th>\n",
       "      <th>zzx</th>\n",
       "      <th>zq</th>\n",
       "      <th>ysc</th>\n",
       "      <th>xjy</th>\n",
       "      <th>xjl</th>\n",
       "    </tr>\n",
       "  </thead>\n",
       "  <tbody>\n",
       "    <tr>\n",
       "      <th>name</th>\n",
       "      <td>zzx</td>\n",
       "      <td>zq</td>\n",
       "      <td>ysc</td>\n",
       "      <td>xjy</td>\n",
       "      <td>xjl</td>\n",
       "    </tr>\n",
       "    <tr>\n",
       "      <th>pol</th>\n",
       "      <td>73</td>\n",
       "      <td>65</td>\n",
       "      <td>71</td>\n",
       "      <td>67</td>\n",
       "      <td>68</td>\n",
       "    </tr>\n",
       "    <tr>\n",
       "      <th>eng</th>\n",
       "      <td>82</td>\n",
       "      <td>73</td>\n",
       "      <td>75</td>\n",
       "      <td>67</td>\n",
       "      <td>89</td>\n",
       "    </tr>\n",
       "    <tr>\n",
       "      <th>math</th>\n",
       "      <td>137</td>\n",
       "      <td>143</td>\n",
       "      <td>141</td>\n",
       "      <td>139</td>\n",
       "      <td>128</td>\n",
       "    </tr>\n",
       "    <tr>\n",
       "      <th>stat</th>\n",
       "      <td>114</td>\n",
       "      <td>150</td>\n",
       "      <td>94</td>\n",
       "      <td>119</td>\n",
       "      <td>115</td>\n",
       "    </tr>\n",
       "  </tbody>\n",
       "</table>\n",
       "</div>"
      ],
      "text/plain": [
       "      zzx   zq  ysc  xjy  xjl\n",
       "name  zzx   zq  ysc  xjy  xjl\n",
       "pol    73   65   71   67   68\n",
       "eng    82   73   75   67   89\n",
       "math  137  143  141  139  128\n",
       "stat  114  150   94  119  115"
      ]
     },
     "execution_count": 124,
     "metadata": {},
     "output_type": "execute_result"
    }
   ],
   "source": [
    "gre_scores.T"
   ]
  },
  {
   "cell_type": "markdown",
   "metadata": {},
   "source": [
    "##  shape"
   ]
  },
  {
   "cell_type": "code",
   "execution_count": 127,
   "metadata": {},
   "outputs": [
    {
     "data": {
      "text/plain": [
       "(5, 5)"
      ]
     },
     "execution_count": 127,
     "metadata": {},
     "output_type": "execute_result"
    }
   ],
   "source": [
    "gre_scores.shape"
   ]
  },
  {
   "cell_type": "code",
   "execution_count": 128,
   "metadata": {},
   "outputs": [
    {
     "data": {
      "text/html": [
       "<div>\n",
       "<style scoped>\n",
       "    .dataframe tbody tr th:only-of-type {\n",
       "        vertical-align: middle;\n",
       "    }\n",
       "\n",
       "    .dataframe tbody tr th {\n",
       "        vertical-align: top;\n",
       "    }\n",
       "\n",
       "    .dataframe thead th {\n",
       "        text-align: right;\n",
       "    }\n",
       "</style>\n",
       "<table border=\"1\" class=\"dataframe\">\n",
       "  <thead>\n",
       "    <tr style=\"text-align: right;\">\n",
       "      <th></th>\n",
       "      <th>0</th>\n",
       "    </tr>\n",
       "  </thead>\n",
       "  <tbody>\n",
       "    <tr>\n",
       "      <th>0</th>\n",
       "      <td>zzx</td>\n",
       "    </tr>\n",
       "    <tr>\n",
       "      <th>1</th>\n",
       "      <td>73</td>\n",
       "    </tr>\n",
       "    <tr>\n",
       "      <th>2</th>\n",
       "      <td>82</td>\n",
       "    </tr>\n",
       "    <tr>\n",
       "      <th>3</th>\n",
       "      <td>137</td>\n",
       "    </tr>\n",
       "    <tr>\n",
       "      <th>4</th>\n",
       "      <td>114</td>\n",
       "    </tr>\n",
       "    <tr>\n",
       "      <th>5</th>\n",
       "      <td>zq</td>\n",
       "    </tr>\n",
       "    <tr>\n",
       "      <th>6</th>\n",
       "      <td>65</td>\n",
       "    </tr>\n",
       "    <tr>\n",
       "      <th>7</th>\n",
       "      <td>73</td>\n",
       "    </tr>\n",
       "    <tr>\n",
       "      <th>8</th>\n",
       "      <td>143</td>\n",
       "    </tr>\n",
       "    <tr>\n",
       "      <th>9</th>\n",
       "      <td>150</td>\n",
       "    </tr>\n",
       "    <tr>\n",
       "      <th>10</th>\n",
       "      <td>ysc</td>\n",
       "    </tr>\n",
       "    <tr>\n",
       "      <th>11</th>\n",
       "      <td>71</td>\n",
       "    </tr>\n",
       "    <tr>\n",
       "      <th>12</th>\n",
       "      <td>75</td>\n",
       "    </tr>\n",
       "    <tr>\n",
       "      <th>13</th>\n",
       "      <td>141</td>\n",
       "    </tr>\n",
       "    <tr>\n",
       "      <th>14</th>\n",
       "      <td>94</td>\n",
       "    </tr>\n",
       "    <tr>\n",
       "      <th>15</th>\n",
       "      <td>xjy</td>\n",
       "    </tr>\n",
       "    <tr>\n",
       "      <th>16</th>\n",
       "      <td>67</td>\n",
       "    </tr>\n",
       "    <tr>\n",
       "      <th>17</th>\n",
       "      <td>67</td>\n",
       "    </tr>\n",
       "    <tr>\n",
       "      <th>18</th>\n",
       "      <td>139</td>\n",
       "    </tr>\n",
       "    <tr>\n",
       "      <th>19</th>\n",
       "      <td>119</td>\n",
       "    </tr>\n",
       "    <tr>\n",
       "      <th>20</th>\n",
       "      <td>xjl</td>\n",
       "    </tr>\n",
       "    <tr>\n",
       "      <th>21</th>\n",
       "      <td>68</td>\n",
       "    </tr>\n",
       "    <tr>\n",
       "      <th>22</th>\n",
       "      <td>89</td>\n",
       "    </tr>\n",
       "    <tr>\n",
       "      <th>23</th>\n",
       "      <td>128</td>\n",
       "    </tr>\n",
       "    <tr>\n",
       "      <th>24</th>\n",
       "      <td>115</td>\n",
       "    </tr>\n",
       "  </tbody>\n",
       "</table>\n",
       "</div>"
      ],
      "text/plain": [
       "      0\n",
       "0   zzx\n",
       "1    73\n",
       "2    82\n",
       "3   137\n",
       "4   114\n",
       "5    zq\n",
       "6    65\n",
       "7    73\n",
       "8   143\n",
       "9   150\n",
       "10  ysc\n",
       "11   71\n",
       "12   75\n",
       "13  141\n",
       "14   94\n",
       "15  xjy\n",
       "16   67\n",
       "17   67\n",
       "18  139\n",
       "19  119\n",
       "20  xjl\n",
       "21   68\n",
       "22   89\n",
       "23  128\n",
       "24  115"
      ]
     },
     "execution_count": 128,
     "metadata": {},
     "output_type": "execute_result"
    }
   ],
   "source": [
    "pd.DataFrame(gre_scores.values.reshape(25,1))"
   ]
  },
  {
   "cell_type": "markdown",
   "metadata": {},
   "source": [
    "## 透视表 "
   ]
  },
  {
   "cell_type": "code",
   "execution_count": 135,
   "metadata": {},
   "outputs": [
    {
     "data": {
      "text/html": [
       "<div>\n",
       "<style scoped>\n",
       "    .dataframe tbody tr th:only-of-type {\n",
       "        vertical-align: middle;\n",
       "    }\n",
       "\n",
       "    .dataframe tbody tr th {\n",
       "        vertical-align: top;\n",
       "    }\n",
       "\n",
       "    .dataframe thead th {\n",
       "        text-align: right;\n",
       "    }\n",
       "</style>\n",
       "<table border=\"1\" class=\"dataframe\">\n",
       "  <thead>\n",
       "    <tr style=\"text-align: right;\">\n",
       "      <th></th>\n",
       "      <th>name</th>\n",
       "      <th>pol</th>\n",
       "      <th>eng</th>\n",
       "      <th>math</th>\n",
       "      <th>stat</th>\n",
       "      <th>grade</th>\n",
       "    </tr>\n",
       "  </thead>\n",
       "  <tbody>\n",
       "    <tr>\n",
       "      <th>0</th>\n",
       "      <td>zzx</td>\n",
       "      <td>73</td>\n",
       "      <td>82</td>\n",
       "      <td>137</td>\n",
       "      <td>114</td>\n",
       "      <td>2015</td>\n",
       "    </tr>\n",
       "    <tr>\n",
       "      <th>1</th>\n",
       "      <td>zq</td>\n",
       "      <td>65</td>\n",
       "      <td>73</td>\n",
       "      <td>143</td>\n",
       "      <td>150</td>\n",
       "      <td>2015</td>\n",
       "    </tr>\n",
       "    <tr>\n",
       "      <th>2</th>\n",
       "      <td>ysc</td>\n",
       "      <td>71</td>\n",
       "      <td>75</td>\n",
       "      <td>141</td>\n",
       "      <td>94</td>\n",
       "      <td>2015</td>\n",
       "    </tr>\n",
       "    <tr>\n",
       "      <th>3</th>\n",
       "      <td>xjy</td>\n",
       "      <td>67</td>\n",
       "      <td>67</td>\n",
       "      <td>139</td>\n",
       "      <td>119</td>\n",
       "      <td>2014</td>\n",
       "    </tr>\n",
       "    <tr>\n",
       "      <th>4</th>\n",
       "      <td>xjl</td>\n",
       "      <td>68</td>\n",
       "      <td>89</td>\n",
       "      <td>128</td>\n",
       "      <td>115</td>\n",
       "      <td>2014</td>\n",
       "    </tr>\n",
       "  </tbody>\n",
       "</table>\n",
       "</div>"
      ],
      "text/plain": [
       "  name  pol  eng  math  stat  grade\n",
       "0  zzx   73   82   137   114   2015\n",
       "1   zq   65   73   143   150   2015\n",
       "2  ysc   71   75   141    94   2015\n",
       "3  xjy   67   67   139   119   2014\n",
       "4  xjl   68   89   128   115   2014"
      ]
     },
     "execution_count": 135,
     "metadata": {},
     "output_type": "execute_result"
    }
   ],
   "source": [
    "import pandas as pd\n",
    "gre_scores = pd.DataFrame({\n",
    "    'name':['zzx','zq','ysc','xjy','xjl'],\n",
    "    'pol':[73,65,71,67,68],\n",
    "    'eng':[82,73,75,67,89],\n",
    "    'math':[137,143,141,139,128],\n",
    "    'stat':[114,150,94,119,115],\n",
    "    'grade':[2015,2015,2015,2014,2014]\n",
    "})\n",
    "gre_scores"
   ]
  },
  {
   "cell_type": "code",
   "execution_count": 138,
   "metadata": {},
   "outputs": [
    {
     "data": {
      "text/html": [
       "<div>\n",
       "<style scoped>\n",
       "    .dataframe tbody tr th:only-of-type {\n",
       "        vertical-align: middle;\n",
       "    }\n",
       "\n",
       "    .dataframe tbody tr th {\n",
       "        vertical-align: top;\n",
       "    }\n",
       "\n",
       "    .dataframe thead tr th {\n",
       "        text-align: left;\n",
       "    }\n",
       "\n",
       "    .dataframe thead tr:last-of-type th {\n",
       "        text-align: right;\n",
       "    }\n",
       "</style>\n",
       "<table border=\"1\" class=\"dataframe\">\n",
       "  <thead>\n",
       "    <tr>\n",
       "      <th></th>\n",
       "      <th colspan=\"2\" halign=\"left\">math</th>\n",
       "      <th colspan=\"2\" halign=\"left\">stat</th>\n",
       "    </tr>\n",
       "    <tr>\n",
       "      <th>grade</th>\n",
       "      <th>2014</th>\n",
       "      <th>2015</th>\n",
       "      <th>2014</th>\n",
       "      <th>2015</th>\n",
       "    </tr>\n",
       "    <tr>\n",
       "      <th>name</th>\n",
       "      <th></th>\n",
       "      <th></th>\n",
       "      <th></th>\n",
       "      <th></th>\n",
       "    </tr>\n",
       "  </thead>\n",
       "  <tbody>\n",
       "    <tr>\n",
       "      <th>xjl</th>\n",
       "      <td>128.0</td>\n",
       "      <td>NaN</td>\n",
       "      <td>115.0</td>\n",
       "      <td>NaN</td>\n",
       "    </tr>\n",
       "    <tr>\n",
       "      <th>xjy</th>\n",
       "      <td>139.0</td>\n",
       "      <td>NaN</td>\n",
       "      <td>119.0</td>\n",
       "      <td>NaN</td>\n",
       "    </tr>\n",
       "    <tr>\n",
       "      <th>ysc</th>\n",
       "      <td>NaN</td>\n",
       "      <td>141.0</td>\n",
       "      <td>NaN</td>\n",
       "      <td>94.0</td>\n",
       "    </tr>\n",
       "    <tr>\n",
       "      <th>zq</th>\n",
       "      <td>NaN</td>\n",
       "      <td>143.0</td>\n",
       "      <td>NaN</td>\n",
       "      <td>150.0</td>\n",
       "    </tr>\n",
       "    <tr>\n",
       "      <th>zzx</th>\n",
       "      <td>NaN</td>\n",
       "      <td>137.0</td>\n",
       "      <td>NaN</td>\n",
       "      <td>114.0</td>\n",
       "    </tr>\n",
       "  </tbody>\n",
       "</table>\n",
       "</div>"
      ],
      "text/plain": [
       "        math          stat       \n",
       "grade   2014   2015   2014   2015\n",
       "name                             \n",
       "xjl    128.0    NaN  115.0    NaN\n",
       "xjy    139.0    NaN  119.0    NaN\n",
       "ysc      NaN  141.0    NaN   94.0\n",
       "zq       NaN  143.0    NaN  150.0\n",
       "zzx      NaN  137.0    NaN  114.0"
      ]
     },
     "execution_count": 138,
     "metadata": {},
     "output_type": "execute_result"
    }
   ],
   "source": [
    "gre_scores.pivot(index='name',columns='grade',values= ['math','stat'])"
   ]
  },
  {
   "cell_type": "code",
   "execution_count": 137,
   "metadata": {},
   "outputs": [
    {
     "data": {
      "text/html": [
       "<div>\n",
       "<style scoped>\n",
       "    .dataframe tbody tr th:only-of-type {\n",
       "        vertical-align: middle;\n",
       "    }\n",
       "\n",
       "    .dataframe tbody tr th {\n",
       "        vertical-align: top;\n",
       "    }\n",
       "\n",
       "    .dataframe thead tr th {\n",
       "        text-align: left;\n",
       "    }\n",
       "\n",
       "    .dataframe thead tr:last-of-type th {\n",
       "        text-align: right;\n",
       "    }\n",
       "</style>\n",
       "<table border=\"1\" class=\"dataframe\">\n",
       "  <thead>\n",
       "    <tr>\n",
       "      <th></th>\n",
       "      <th colspan=\"2\" halign=\"left\">pol</th>\n",
       "      <th colspan=\"2\" halign=\"left\">eng</th>\n",
       "      <th colspan=\"2\" halign=\"left\">math</th>\n",
       "      <th colspan=\"2\" halign=\"left\">stat</th>\n",
       "    </tr>\n",
       "    <tr>\n",
       "      <th>grade</th>\n",
       "      <th>2014</th>\n",
       "      <th>2015</th>\n",
       "      <th>2014</th>\n",
       "      <th>2015</th>\n",
       "      <th>2014</th>\n",
       "      <th>2015</th>\n",
       "      <th>2014</th>\n",
       "      <th>2015</th>\n",
       "    </tr>\n",
       "    <tr>\n",
       "      <th>name</th>\n",
       "      <th></th>\n",
       "      <th></th>\n",
       "      <th></th>\n",
       "      <th></th>\n",
       "      <th></th>\n",
       "      <th></th>\n",
       "      <th></th>\n",
       "      <th></th>\n",
       "    </tr>\n",
       "  </thead>\n",
       "  <tbody>\n",
       "    <tr>\n",
       "      <th>xjl</th>\n",
       "      <td>68.0</td>\n",
       "      <td>NaN</td>\n",
       "      <td>89.0</td>\n",
       "      <td>NaN</td>\n",
       "      <td>128.0</td>\n",
       "      <td>NaN</td>\n",
       "      <td>115.0</td>\n",
       "      <td>NaN</td>\n",
       "    </tr>\n",
       "    <tr>\n",
       "      <th>xjy</th>\n",
       "      <td>67.0</td>\n",
       "      <td>NaN</td>\n",
       "      <td>67.0</td>\n",
       "      <td>NaN</td>\n",
       "      <td>139.0</td>\n",
       "      <td>NaN</td>\n",
       "      <td>119.0</td>\n",
       "      <td>NaN</td>\n",
       "    </tr>\n",
       "    <tr>\n",
       "      <th>ysc</th>\n",
       "      <td>NaN</td>\n",
       "      <td>71.0</td>\n",
       "      <td>NaN</td>\n",
       "      <td>75.0</td>\n",
       "      <td>NaN</td>\n",
       "      <td>141.0</td>\n",
       "      <td>NaN</td>\n",
       "      <td>94.0</td>\n",
       "    </tr>\n",
       "    <tr>\n",
       "      <th>zq</th>\n",
       "      <td>NaN</td>\n",
       "      <td>65.0</td>\n",
       "      <td>NaN</td>\n",
       "      <td>73.0</td>\n",
       "      <td>NaN</td>\n",
       "      <td>143.0</td>\n",
       "      <td>NaN</td>\n",
       "      <td>150.0</td>\n",
       "    </tr>\n",
       "    <tr>\n",
       "      <th>zzx</th>\n",
       "      <td>NaN</td>\n",
       "      <td>73.0</td>\n",
       "      <td>NaN</td>\n",
       "      <td>82.0</td>\n",
       "      <td>NaN</td>\n",
       "      <td>137.0</td>\n",
       "      <td>NaN</td>\n",
       "      <td>114.0</td>\n",
       "    </tr>\n",
       "  </tbody>\n",
       "</table>\n",
       "</div>"
      ],
      "text/plain": [
       "        pol         eng         math          stat       \n",
       "grade  2014  2015  2014  2015   2014   2015   2014   2015\n",
       "name                                                     \n",
       "xjl    68.0   NaN  89.0   NaN  128.0    NaN  115.0    NaN\n",
       "xjy    67.0   NaN  67.0   NaN  139.0    NaN  119.0    NaN\n",
       "ysc     NaN  71.0   NaN  75.0    NaN  141.0    NaN   94.0\n",
       "zq      NaN  65.0   NaN  73.0    NaN  143.0    NaN  150.0\n",
       "zzx     NaN  73.0   NaN  82.0    NaN  137.0    NaN  114.0"
      ]
     },
     "execution_count": 137,
     "metadata": {},
     "output_type": "execute_result"
    }
   ],
   "source": [
    "gre_scores.pivot(index='name',columns='grade')"
   ]
  },
  {
   "cell_type": "code",
   "execution_count": null,
   "metadata": {},
   "outputs": [],
   "source": []
  }
 ],
 "metadata": {
  "kernelspec": {
   "display_name": "Python 3",
   "language": "python",
   "name": "python3"
  },
  "language_info": {
   "codemirror_mode": {
    "name": "ipython",
    "version": 3
   },
   "file_extension": ".py",
   "mimetype": "text/x-python",
   "name": "python",
   "nbconvert_exporter": "python",
   "pygments_lexer": "ipython3",
   "version": "3.7.0"
  },
  "toc": {
   "base_numbering": 1,
   "nav_menu": {},
   "number_sections": true,
   "sideBar": true,
   "skip_h1_title": false,
   "title_cell": "Table of Contents",
   "title_sidebar": "Contents",
   "toc_cell": false,
   "toc_position": {},
   "toc_section_display": true,
   "toc_window_display": false
  }
 },
 "nbformat": 4,
 "nbformat_minor": 2
}
